{
 "cells": [
  {
   "cell_type": "markdown",
   "id": "2b6d3902",
   "metadata": {},
   "source": [
    "# Step 1 :  Import Library and Dataset"
   ]
  },
  {
   "cell_type": "code",
   "execution_count": 3,
   "id": "cad6d73d",
   "metadata": {},
   "outputs": [],
   "source": [
    "import pandas as pd\n",
    "import numpy as np"
   ]
  },
  {
   "cell_type": "code",
   "execution_count": 4,
   "id": "e7200c60",
   "metadata": {},
   "outputs": [],
   "source": [
    "import os \n",
    "os.chdir(r\"C:\\Users\\cheta\\Desktop\\python\\Machine learning Practise Projects\\Decision tree\") "
   ]
  },
  {
   "cell_type": "code",
   "execution_count": 6,
   "id": "d57d8e28",
   "metadata": {},
   "outputs": [],
   "source": [
    "# Read the data in\n",
    "wine = pd.read_csv(r\"Wine quality.csv\")"
   ]
  },
  {
   "cell_type": "code",
   "execution_count": 7,
   "id": "7bb020a4",
   "metadata": {},
   "outputs": [
    {
     "data": {
      "text/html": [
       "<div>\n",
       "<style scoped>\n",
       "    .dataframe tbody tr th:only-of-type {\n",
       "        vertical-align: middle;\n",
       "    }\n",
       "\n",
       "    .dataframe tbody tr th {\n",
       "        vertical-align: top;\n",
       "    }\n",
       "\n",
       "    .dataframe thead th {\n",
       "        text-align: right;\n",
       "    }\n",
       "</style>\n",
       "<table border=\"1\" class=\"dataframe\">\n",
       "  <thead>\n",
       "    <tr style=\"text-align: right;\">\n",
       "      <th></th>\n",
       "      <th>fixed_acidity</th>\n",
       "      <th>volatile_acidity</th>\n",
       "      <th>citric_acid</th>\n",
       "      <th>residual_sugar</th>\n",
       "      <th>chlorides</th>\n",
       "      <th>free_sulfur dioxide</th>\n",
       "      <th>total_sulfur_dioxide</th>\n",
       "      <th>density</th>\n",
       "      <th>pH</th>\n",
       "      <th>sulphates</th>\n",
       "      <th>alcohol</th>\n",
       "      <th>quality</th>\n",
       "    </tr>\n",
       "  </thead>\n",
       "  <tbody>\n",
       "    <tr>\n",
       "      <th>0</th>\n",
       "      <td>7.4</td>\n",
       "      <td>0.70</td>\n",
       "      <td>0.00</td>\n",
       "      <td>1.9</td>\n",
       "      <td>0.076</td>\n",
       "      <td>11.0</td>\n",
       "      <td>34.0</td>\n",
       "      <td>0.9978</td>\n",
       "      <td>3.51</td>\n",
       "      <td>0.56</td>\n",
       "      <td>9.4</td>\n",
       "      <td>bad</td>\n",
       "    </tr>\n",
       "    <tr>\n",
       "      <th>1</th>\n",
       "      <td>7.8</td>\n",
       "      <td>0.88</td>\n",
       "      <td>0.00</td>\n",
       "      <td>2.6</td>\n",
       "      <td>0.098</td>\n",
       "      <td>25.0</td>\n",
       "      <td>67.0</td>\n",
       "      <td>0.9968</td>\n",
       "      <td>3.20</td>\n",
       "      <td>0.68</td>\n",
       "      <td>9.8</td>\n",
       "      <td>bad</td>\n",
       "    </tr>\n",
       "    <tr>\n",
       "      <th>2</th>\n",
       "      <td>7.8</td>\n",
       "      <td>0.76</td>\n",
       "      <td>0.04</td>\n",
       "      <td>2.3</td>\n",
       "      <td>0.092</td>\n",
       "      <td>15.0</td>\n",
       "      <td>54.0</td>\n",
       "      <td>0.9970</td>\n",
       "      <td>3.26</td>\n",
       "      <td>0.65</td>\n",
       "      <td>9.8</td>\n",
       "      <td>bad</td>\n",
       "    </tr>\n",
       "    <tr>\n",
       "      <th>3</th>\n",
       "      <td>11.2</td>\n",
       "      <td>0.28</td>\n",
       "      <td>0.56</td>\n",
       "      <td>1.9</td>\n",
       "      <td>0.075</td>\n",
       "      <td>17.0</td>\n",
       "      <td>60.0</td>\n",
       "      <td>0.9980</td>\n",
       "      <td>3.16</td>\n",
       "      <td>0.58</td>\n",
       "      <td>9.8</td>\n",
       "      <td>good</td>\n",
       "    </tr>\n",
       "    <tr>\n",
       "      <th>4</th>\n",
       "      <td>7.4</td>\n",
       "      <td>0.70</td>\n",
       "      <td>0.00</td>\n",
       "      <td>1.9</td>\n",
       "      <td>0.076</td>\n",
       "      <td>11.0</td>\n",
       "      <td>34.0</td>\n",
       "      <td>0.9978</td>\n",
       "      <td>3.51</td>\n",
       "      <td>0.56</td>\n",
       "      <td>9.4</td>\n",
       "      <td>bad</td>\n",
       "    </tr>\n",
       "  </tbody>\n",
       "</table>\n",
       "</div>"
      ],
      "text/plain": [
       "   fixed_acidity  volatile_acidity  citric_acid  residual_sugar  chlorides  \\\n",
       "0            7.4              0.70         0.00             1.9      0.076   \n",
       "1            7.8              0.88         0.00             2.6      0.098   \n",
       "2            7.8              0.76         0.04             2.3      0.092   \n",
       "3           11.2              0.28         0.56             1.9      0.075   \n",
       "4            7.4              0.70         0.00             1.9      0.076   \n",
       "\n",
       "   free_sulfur dioxide  total_sulfur_dioxide  density    pH  sulphates  \\\n",
       "0                 11.0                  34.0   0.9978  3.51       0.56   \n",
       "1                 25.0                  67.0   0.9968  3.20       0.68   \n",
       "2                 15.0                  54.0   0.9970  3.26       0.65   \n",
       "3                 17.0                  60.0   0.9980  3.16       0.58   \n",
       "4                 11.0                  34.0   0.9978  3.51       0.56   \n",
       "\n",
       "   alcohol quality  \n",
       "0      9.4     bad  \n",
       "1      9.8     bad  \n",
       "2      9.8     bad  \n",
       "3      9.8    good  \n",
       "4      9.4     bad  "
      ]
     },
     "execution_count": 7,
     "metadata": {},
     "output_type": "execute_result"
    }
   ],
   "source": [
    "wine.head()"
   ]
  },
  {
   "cell_type": "code",
   "execution_count": 17,
   "id": "93964288",
   "metadata": {},
   "outputs": [
    {
     "name": "stdout",
     "output_type": "stream",
     "text": [
      "<class 'pandas.core.frame.DataFrame'>\n",
      "RangeIndex: 1599 entries, 0 to 1598\n",
      "Data columns (total 12 columns):\n",
      " #   Column                Non-Null Count  Dtype  \n",
      "---  ------                --------------  -----  \n",
      " 0   fixed_acidity         1599 non-null   float64\n",
      " 1   volatile_acidity      1599 non-null   float64\n",
      " 2   citric_acid           1599 non-null   float64\n",
      " 3   residual_sugar        1599 non-null   float64\n",
      " 4   chlorides             1599 non-null   float64\n",
      " 5   free_sulfur dioxide   1599 non-null   float64\n",
      " 6   total_sulfur_dioxide  1599 non-null   float64\n",
      " 7   density               1599 non-null   float64\n",
      " 8   pH                    1599 non-null   float64\n",
      " 9   sulphates             1599 non-null   float64\n",
      " 10  alcohol               1599 non-null   float64\n",
      " 11  quality               1599 non-null   object \n",
      "dtypes: float64(11), object(1)\n",
      "memory usage: 150.0+ KB\n"
     ]
    }
   ],
   "source": [
    "wine.info()"
   ]
  },
  {
   "cell_type": "code",
   "execution_count": 18,
   "id": "869c345a",
   "metadata": {},
   "outputs": [
    {
     "data": {
      "text/html": [
       "<div>\n",
       "<style scoped>\n",
       "    .dataframe tbody tr th:only-of-type {\n",
       "        vertical-align: middle;\n",
       "    }\n",
       "\n",
       "    .dataframe tbody tr th {\n",
       "        vertical-align: top;\n",
       "    }\n",
       "\n",
       "    .dataframe thead th {\n",
       "        text-align: right;\n",
       "    }\n",
       "</style>\n",
       "<table border=\"1\" class=\"dataframe\">\n",
       "  <thead>\n",
       "    <tr style=\"text-align: right;\">\n",
       "      <th></th>\n",
       "      <th>fixed_acidity</th>\n",
       "      <th>volatile_acidity</th>\n",
       "      <th>citric_acid</th>\n",
       "      <th>residual_sugar</th>\n",
       "      <th>chlorides</th>\n",
       "      <th>free_sulfur dioxide</th>\n",
       "      <th>total_sulfur_dioxide</th>\n",
       "      <th>density</th>\n",
       "      <th>pH</th>\n",
       "      <th>sulphates</th>\n",
       "      <th>alcohol</th>\n",
       "    </tr>\n",
       "  </thead>\n",
       "  <tbody>\n",
       "    <tr>\n",
       "      <th>count</th>\n",
       "      <td>1599.000000</td>\n",
       "      <td>1599.000000</td>\n",
       "      <td>1599.000000</td>\n",
       "      <td>1599.000000</td>\n",
       "      <td>1599.000000</td>\n",
       "      <td>1599.000000</td>\n",
       "      <td>1599.000000</td>\n",
       "      <td>1599.000000</td>\n",
       "      <td>1599.000000</td>\n",
       "      <td>1599.000000</td>\n",
       "      <td>1599.000000</td>\n",
       "    </tr>\n",
       "    <tr>\n",
       "      <th>mean</th>\n",
       "      <td>8.319637</td>\n",
       "      <td>0.527821</td>\n",
       "      <td>0.270976</td>\n",
       "      <td>2.538806</td>\n",
       "      <td>0.087467</td>\n",
       "      <td>15.874922</td>\n",
       "      <td>46.467792</td>\n",
       "      <td>0.996747</td>\n",
       "      <td>3.311113</td>\n",
       "      <td>0.658149</td>\n",
       "      <td>10.422983</td>\n",
       "    </tr>\n",
       "    <tr>\n",
       "      <th>std</th>\n",
       "      <td>1.741096</td>\n",
       "      <td>0.179060</td>\n",
       "      <td>0.194801</td>\n",
       "      <td>1.409928</td>\n",
       "      <td>0.047065</td>\n",
       "      <td>10.460157</td>\n",
       "      <td>32.895324</td>\n",
       "      <td>0.001887</td>\n",
       "      <td>0.154386</td>\n",
       "      <td>0.169507</td>\n",
       "      <td>1.065668</td>\n",
       "    </tr>\n",
       "    <tr>\n",
       "      <th>min</th>\n",
       "      <td>4.600000</td>\n",
       "      <td>0.120000</td>\n",
       "      <td>0.000000</td>\n",
       "      <td>0.900000</td>\n",
       "      <td>0.012000</td>\n",
       "      <td>1.000000</td>\n",
       "      <td>6.000000</td>\n",
       "      <td>0.990070</td>\n",
       "      <td>2.740000</td>\n",
       "      <td>0.330000</td>\n",
       "      <td>8.400000</td>\n",
       "    </tr>\n",
       "    <tr>\n",
       "      <th>25%</th>\n",
       "      <td>7.100000</td>\n",
       "      <td>0.390000</td>\n",
       "      <td>0.090000</td>\n",
       "      <td>1.900000</td>\n",
       "      <td>0.070000</td>\n",
       "      <td>7.000000</td>\n",
       "      <td>22.000000</td>\n",
       "      <td>0.995600</td>\n",
       "      <td>3.210000</td>\n",
       "      <td>0.550000</td>\n",
       "      <td>9.500000</td>\n",
       "    </tr>\n",
       "    <tr>\n",
       "      <th>50%</th>\n",
       "      <td>7.900000</td>\n",
       "      <td>0.520000</td>\n",
       "      <td>0.260000</td>\n",
       "      <td>2.200000</td>\n",
       "      <td>0.079000</td>\n",
       "      <td>14.000000</td>\n",
       "      <td>38.000000</td>\n",
       "      <td>0.996750</td>\n",
       "      <td>3.310000</td>\n",
       "      <td>0.620000</td>\n",
       "      <td>10.200000</td>\n",
       "    </tr>\n",
       "    <tr>\n",
       "      <th>75%</th>\n",
       "      <td>9.200000</td>\n",
       "      <td>0.640000</td>\n",
       "      <td>0.420000</td>\n",
       "      <td>2.600000</td>\n",
       "      <td>0.090000</td>\n",
       "      <td>21.000000</td>\n",
       "      <td>62.000000</td>\n",
       "      <td>0.997835</td>\n",
       "      <td>3.400000</td>\n",
       "      <td>0.730000</td>\n",
       "      <td>11.100000</td>\n",
       "    </tr>\n",
       "    <tr>\n",
       "      <th>max</th>\n",
       "      <td>15.900000</td>\n",
       "      <td>1.580000</td>\n",
       "      <td>1.000000</td>\n",
       "      <td>15.500000</td>\n",
       "      <td>0.611000</td>\n",
       "      <td>72.000000</td>\n",
       "      <td>289.000000</td>\n",
       "      <td>1.003690</td>\n",
       "      <td>4.010000</td>\n",
       "      <td>2.000000</td>\n",
       "      <td>14.900000</td>\n",
       "    </tr>\n",
       "  </tbody>\n",
       "</table>\n",
       "</div>"
      ],
      "text/plain": [
       "       fixed_acidity  volatile_acidity  citric_acid  residual_sugar  \\\n",
       "count    1599.000000       1599.000000  1599.000000     1599.000000   \n",
       "mean        8.319637          0.527821     0.270976        2.538806   \n",
       "std         1.741096          0.179060     0.194801        1.409928   \n",
       "min         4.600000          0.120000     0.000000        0.900000   \n",
       "25%         7.100000          0.390000     0.090000        1.900000   \n",
       "50%         7.900000          0.520000     0.260000        2.200000   \n",
       "75%         9.200000          0.640000     0.420000        2.600000   \n",
       "max        15.900000          1.580000     1.000000       15.500000   \n",
       "\n",
       "         chlorides  free_sulfur dioxide  total_sulfur_dioxide      density  \\\n",
       "count  1599.000000          1599.000000           1599.000000  1599.000000   \n",
       "mean      0.087467            15.874922             46.467792     0.996747   \n",
       "std       0.047065            10.460157             32.895324     0.001887   \n",
       "min       0.012000             1.000000              6.000000     0.990070   \n",
       "25%       0.070000             7.000000             22.000000     0.995600   \n",
       "50%       0.079000            14.000000             38.000000     0.996750   \n",
       "75%       0.090000            21.000000             62.000000     0.997835   \n",
       "max       0.611000            72.000000            289.000000     1.003690   \n",
       "\n",
       "                pH    sulphates      alcohol  \n",
       "count  1599.000000  1599.000000  1599.000000  \n",
       "mean      3.311113     0.658149    10.422983  \n",
       "std       0.154386     0.169507     1.065668  \n",
       "min       2.740000     0.330000     8.400000  \n",
       "25%       3.210000     0.550000     9.500000  \n",
       "50%       3.310000     0.620000    10.200000  \n",
       "75%       3.400000     0.730000    11.100000  \n",
       "max       4.010000     2.000000    14.900000  "
      ]
     },
     "execution_count": 18,
     "metadata": {},
     "output_type": "execute_result"
    }
   ],
   "source": [
    "wine.describe()"
   ]
  },
  {
   "cell_type": "markdown",
   "id": "a6bdc547",
   "metadata": {},
   "source": [
    "# Step 2 : Data Pre-Processing"
   ]
  },
  {
   "cell_type": "markdown",
   "id": "968714b5",
   "metadata": {},
   "source": [
    "### Checking missing values"
   ]
  },
  {
   "cell_type": "code",
   "execution_count": 19,
   "id": "432b897a",
   "metadata": {},
   "outputs": [
    {
     "data": {
      "text/plain": [
       "fixed_acidity           0\n",
       "volatile_acidity        0\n",
       "citric_acid             0\n",
       "residual_sugar          0\n",
       "chlorides               0\n",
       "free_sulfur dioxide     0\n",
       "total_sulfur_dioxide    0\n",
       "density                 0\n",
       "pH                      0\n",
       "sulphates               0\n",
       "alcohol                 0\n",
       "quality                 0\n",
       "dtype: int64"
      ]
     },
     "execution_count": 19,
     "metadata": {},
     "output_type": "execute_result"
    }
   ],
   "source": [
    "# Do we have NA's in data\n",
    "wine.isna().sum()  ## is = check & as = convert"
   ]
  },
  {
   "cell_type": "code",
   "execution_count": 20,
   "id": "11c2d549",
   "metadata": {},
   "outputs": [
    {
     "data": {
      "text/plain": [
       "good    855\n",
       "bad     744\n",
       "Name: quality, dtype: int64"
      ]
     },
     "execution_count": 20,
     "metadata": {},
     "output_type": "execute_result"
    }
   ],
   "source": [
    "wine.quality.value_counts(ascending=False)"
   ]
  },
  {
   "cell_type": "code",
   "execution_count": 21,
   "id": "547eee83",
   "metadata": {},
   "outputs": [
    {
     "data": {
      "text/plain": [
       "<AxesSubplot:>"
      ]
     },
     "execution_count": 21,
     "metadata": {},
     "output_type": "execute_result"
    },
    {
     "data": {
      "image/png": "[encoded data removed]",
      "text/plain": [
       "<Figure size 640x480 with 1 Axes>"
      ]
     },
     "metadata": {},
     "output_type": "display_data"
    }
   ],
   "source": [
    "import seaborn as sns\n",
    "sns.boxplot(data=wine)"
   ]
  },
  {
   "cell_type": "markdown",
   "id": "2516abb4",
   "metadata": {},
   "source": [
    "# Quality Rate Analysis"
   ]
  },
  {
   "cell_type": "code",
   "execution_count": 22,
   "id": "71495261",
   "metadata": {},
   "outputs": [
    {
     "data": {
      "text/plain": [
       "good    855\n",
       "bad     744\n",
       "Name: quality, dtype: int64"
      ]
     },
     "execution_count": 22,
     "metadata": {},
     "output_type": "execute_result"
    }
   ],
   "source": [
    "wine.quality.value_counts()"
   ]
  },
  {
   "cell_type": "code",
   "execution_count": 23,
   "id": "b43f3b6c",
   "metadata": {},
   "outputs": [
    {
     "data": {
      "text/plain": [
       "1599"
      ]
     },
     "execution_count": 23,
     "metadata": {},
     "output_type": "execute_result"
    }
   ],
   "source": [
    "855+744"
   ]
  },
  {
   "cell_type": "code",
   "execution_count": 24,
   "id": "681c313a",
   "metadata": {},
   "outputs": [
    {
     "data": {
      "text/plain": [
       "46.52908067542214"
      ]
     },
     "execution_count": 24,
     "metadata": {},
     "output_type": "execute_result"
    }
   ],
   "source": [
    "(744/1599)*100"
   ]
  },
  {
   "cell_type": "code",
   "execution_count": 25,
   "id": "b11f9382",
   "metadata": {},
   "outputs": [
    {
     "data": {
      "application/vnd.plotly.v1+json": {
       "config": {
        "plotlyServerURL": "https://plot.ly"
       },
       "data": [
        {
         "customdata": [
          [
           "bad"
          ],
          [
           "bad"
          ],
          [
           "bad"
          ],
          [
           "good"
          ],
          [
           "bad"
          ],
          [
           "bad"
          ],
          [
           "bad"
          ],
          [
           "good"
          ],
          [
           "good"
          ],
          [
           "bad"
          ],
          [
           "bad"
          ],
          [
           "bad"
          ],
          [
           "bad"
          ],
          [
           "bad"
          ],
          [
           "bad"
          ],
          [
           "bad"
          ],
          [
           "good"
          ],
          [
           "bad"
          ],
          [
           "bad"
          ],
          [
           "good"
          ],
          [
           "good"
          ],
          [
           "bad"
          ],
          [
           "bad"
          ],
          [
           "bad"
          ],
          [
           "good"
          ],
          [
           "bad"
          ],
          [
           "bad"
          ],
          [
           "bad"
          ],
          [
           "bad"
          ],
          [
           "good"
          ],
          [
           "bad"
          ],
          [
           "good"
          ],
          [
           "bad"
          ],
          [
           "good"
          ],
          [
           "bad"
          ],
          [
           "good"
          ],
          [
           "good"
          ],
          [
           "good"
          ],
          [
           "bad"
          ],
          [
           "bad"
          ],
          [
           "bad"
          ],
          [
           "bad"
          ],
          [
           "good"
          ],
          [
           "bad"
          ],
          [
           "bad"
          ],
          [
           "bad"
          ],
          [
           "bad"
          ],
          [
           "bad"
          ],
          [
           "bad"
          ],
          [
           "bad"
          ],
          [
           "bad"
          ],
          [
           "good"
          ],
          [
           "good"
          ],
          [
           "bad"
          ],
          [
           "good"
          ],
          [
           "bad"
          ],
          [
           "bad"
          ],
          [
           "bad"
          ],
          [
           "bad"
          ],
          [
           "good"
          ],
          [
           "bad"
          ],
          [
           "bad"
          ],
          [
           "good"
          ],
          [
           "bad"
          ],
          [
           "bad"
          ],
          [
           "bad"
          ],
          [
           "bad"
          ],
          [
           "bad"
          ],
          [
           "bad"
          ],
          [
           "good"
          ],
          [
           "good"
          ],
          [
           "bad"
          ],
          [
           "bad"
          ],
          [
           "bad"
          ],
          [
           "bad"
          ],
          [
           "bad"
          ],
          [
           "bad"
          ],
          [
           "good"
          ],
          [
           "bad"
          ],
          [
           "bad"
          ],
          [
           "bad"
          ],
          [
           "bad"
          ],
          [
           "bad"
          ],
          [
           "bad"
          ],
          [
           "good"
          ],
          [
           "bad"
          ],
          [
           "good"
          ],
          [
           "bad"
          ],
          [
           "bad"
          ],
          [
           "bad"
          ],
          [
           "bad"
          ],
          [
           "good"
          ],
          [
           "bad"
          ],
          [
           "bad"
          ],
          [
           "bad"
          ],
          [
           "good"
          ],
          [
           "bad"
          ],
          [
           "bad"
          ],
          [
           "bad"
          ],
          [
           "good"
          ],
          [
           "good"
          ],
          [
           "good"
          ],
          [
           "good"
          ],
          [
           "bad"
          ],
          [
           "bad"
          ],
          [
           "bad"
          ],
          [
           "bad"
          ],
          [
           "bad"
          ],
          [
           "good"
          ],
          [
           "bad"
          ],
          [
           "bad"
          ],
          [
           "bad"
          ],
          [
           "bad"
          ],
          [
           "good"
          ],
          [
           "bad"
          ],
          [
           "good"
          ],
          [
           "good"
          ],
          [
           "good"
          ],
          [
           "good"
          ],
          [
           "good"
          ],
          [
           "bad"
          ],
          [
           "good"
          ],
          [
           "bad"
          ],
          [
           "bad"
          ],
          [
           "bad"
          ],
          [
           "bad"
          ],
          [
           "bad"
          ],
          [
           "bad"
          ],
          [
           "good"
          ],
          [
           "bad"
          ],
          [
           "bad"
          ],
          [
           "bad"
          ],
          [
           "bad"
          ],
          [
           "good"
          ],
          [
           "good"
          ],
          [
           "bad"
          ],
          [
           "bad"
          ],
          [
           "bad"
          ],
          [
           "bad"
          ],
          [
           "bad"
          ],
          [
           "bad"
          ],
          [
           "bad"
          ],
          [
           "good"
          ],
          [
           "bad"
          ],
          [
           "good"
          ],
          [
           "bad"
          ],
          [
           "bad"
          ],
          [
           "bad"
          ],
          [
           "good"
          ],
          [
           "good"
          ],
          [
           "good"
          ],
          [
           "bad"
          ],
          [
           "bad"
          ],
          [
           "bad"
          ],
          [
           "bad"
          ],
          [
           "bad"
          ],
          [
           "bad"
          ],
          [
           "bad"
          ],
          [
           "bad"
          ],
          [
           "good"
          ],
          [
           "bad"
          ],
          [
           "bad"
          ],
          [
           "good"
          ],
          [
           "bad"
          ],
          [
           "bad"
          ],
          [
           "bad"
          ],
          [
           "bad"
          ],
          [
           "bad"
          ],
          [
           "good"
          ],
          [
           "bad"
          ],
          [
           "bad"
          ],
          [
           "good"
          ],
          [
           "good"
          ],
          [
           "good"
          ],
          [
           "bad"
          ],
          [
           "bad"
          ],
          [
           "bad"
          ],
          [
           "good"
          ],
          [
           "bad"
          ],
          [
           "bad"
          ],
          [
           "bad"
          ],
          [
           "bad"
          ],
          [
           "bad"
          ],
          [
           "bad"
          ],
          [
           "good"
          ],
          [
           "bad"
          ],
          [
           "bad"
          ],
          [
           "bad"
          ],
          [
           "bad"
          ],
          [
           "bad"
          ],
          [
           "bad"
          ],
          [
           "good"
          ],
          [
           "bad"
          ],
          [
           "bad"
          ],
          [
           "bad"
          ],
          [
           "bad"
          ],
          [
           "bad"
          ],
          [
           "good"
          ],
          [
           "good"
          ],
          [
           "bad"
          ],
          [
           "good"
          ],
          [
           "bad"
          ],
          [
           "bad"
          ],
          [
           "bad"
          ],
          [
           "good"
          ],
          [
           "good"
          ],
          [
           "good"
          ],
          [
           "bad"
          ],
          [
           "bad"
          ],
          [
           "good"
          ],
          [
           "good"
          ],
          [
           "good"
          ],
          [
           "good"
          ],
          [
           "bad"
          ],
          [
           "good"
          ],
          [
           "bad"
          ],
          [
           "bad"
          ],
          [
           "bad"
          ],
          [
           "bad"
          ],
          [
           "bad"
          ],
          [
           "good"
          ],
          [
           "bad"
          ],
          [
           "bad"
          ],
          [
           "good"
          ],
          [
           "bad"
          ],
          [
           "good"
          ],
          [
           "good"
          ],
          [
           "bad"
          ],
          [
           "good"
          ],
          [
           "bad"
          ],
          [
           "good"
          ],
          [
           "good"
          ],
          [
           "good"
          ],
          [
           "bad"
          ],
          [
           "good"
          ],
          [
           "good"
          ],
          [
           "good"
          ],
          [
           "good"
          ],
          [
           "good"
          ],
          [
           "good"
          ],
          [
           "bad"
          ],
          [
           "good"
          ],
          [
           "good"
          ],
          [
           "good"
          ],
          [
           "good"
          ],
          [
           "good"
          ],
          [
           "bad"
          ],
          [
           "bad"
          ],
          [
           "good"
          ],
          [
           "good"
          ],
          [
           "good"
          ],
          [
           "good"
          ],
          [
           "bad"
          ],
          [
           "bad"
          ],
          [
           "good"
          ],
          [
           "bad"
          ],
          [
           "bad"
          ],
          [
           "bad"
          ],
          [
           "bad"
          ],
          [
           "good"
          ],
          [
           "bad"
          ],
          [
           "bad"
          ],
          [
           "bad"
          ],
          [
           "bad"
          ],
          [
           "bad"
          ],
          [
           "good"
          ],
          [
           "bad"
          ],
          [
           "good"
          ],
          [
           "good"
          ],
          [
           "good"
          ],
          [
           "good"
          ],
          [
           "good"
          ],
          [
           "bad"
          ],
          [
           "bad"
          ],
          [
           "bad"
          ],
          [
           "good"
          ],
          [
           "good"
          ],
          [
           "good"
          ],
          [
           "good"
          ],
          [
           "good"
          ],
          [
           "good"
          ],
          [
           "good"
          ],
          [
           "bad"
          ],
          [
           "good"
          ],
          [
           "bad"
          ],
          [
           "bad"
          ],
          [
           "good"
          ],
          [
           "good"
          ],
          [
           "good"
          ],
          [
           "bad"
          ],
          [
           "good"
          ],
          [
           "bad"
          ],
          [
           "good"
          ],
          [
           "good"
          ],
          [
           "good"
          ],
          [
           "bad"
          ],
          [
           "bad"
          ],
          [
           "bad"
          ],
          [
           "bad"
          ],
          [
           "bad"
          ],
          [
           "good"
          ],
          [
           "good"
          ],
          [
           "bad"
          ],
          [
           "bad"
          ],
          [
           "bad"
          ],
          [
           "good"
          ],
          [
           "bad"
          ],
          [
           "good"
          ],
          [
           "good"
          ],
          [
           "good"
          ],
          [
           "good"
          ],
          [
           "good"
          ],
          [
           "good"
          ],
          [
           "bad"
          ],
          [
           "bad"
          ],
          [
           "good"
          ],
          [
           "bad"
          ],
          [
           "good"
          ],
          [
           "good"
          ],
          [
           "good"
          ],
          [
           "good"
          ],
          [
           "bad"
          ],
          [
           "bad"
          ],
          [
           "good"
          ],
          [
           "good"
          ],
          [
           "good"
          ],
          [
           "good"
          ],
          [
           "bad"
          ],
          [
           "good"
          ],
          [
           "bad"
          ],
          [
           "good"
          ],
          [
           "good"
          ],
          [
           "good"
          ],
          [
           "bad"
          ],
          [
           "good"
          ],
          [
           "good"
          ],
          [
           "good"
          ],
          [
           "bad"
          ],
          [
           "good"
          ],
          [
           "good"
          ],
          [
           "good"
          ],
          [
           "good"
          ],
          [
           "good"
          ],
          [
           "good"
          ],
          [
           "good"
          ],
          [
           "bad"
          ],
          [
           "good"
          ],
          [
           "good"
          ],
          [
           "good"
          ],
          [
           "good"
          ],
          [
           "good"
          ],
          [
           "good"
          ],
          [
           "bad"
          ],
          [
           "bad"
          ],
          [
           "good"
          ],
          [
           "good"
          ],
          [
           "bad"
          ],
          [
           "good"
          ],
          [
           "good"
          ],
          [
           "good"
          ],
          [
           "bad"
          ],
          [
           "good"
          ],
          [
           "bad"
          ],
          [
           "bad"
          ],
          [
           "good"
          ],
          [
           "good"
          ],
          [
           "good"
          ],
          [
           "bad"
          ],
          [
           "bad"
          ],
          [
           "good"
          ],
          [
           "bad"
          ],
          [
           "good"
          ],
          [
           "good"
          ],
          [
           "bad"
          ],
          [
           "good"
          ],
          [
           "good"
          ],
          [
           "good"
          ],
          [
           "good"
          ],
          [
           "good"
          ],
          [
           "good"
          ],
          [
           "good"
          ],
          [
           "good"
          ],
          [
           "good"
          ],
          [
           "good"
          ],
          [
           "bad"
          ],
          [
           "good"
          ],
          [
           "good"
          ],
          [
           "good"
          ],
          [
           "good"
          ],
          [
           "good"
          ],
          [
           "good"
          ],
          [
           "good"
          ],
          [
           "bad"
          ],
          [
           "bad"
          ],
          [
           "bad"
          ],
          [
           "good"
          ],
          [
           "bad"
          ],
          [
           "good"
          ],
          [
           "good"
          ],
          [
           "bad"
          ],
          [
           "bad"
          ],
          [
           "good"
          ],
          [
           "good"
          ],
          [
           "good"
          ],
          [
           "bad"
          ],
          [
           "good"
          ],
          [
           "good"
          ],
          [
           "good"
          ],
          [
           "good"
          ],
          [
           "bad"
          ],
          [
           "good"
          ],
          [
           "bad"
          ],
          [
           "bad"
          ],
          [
           "good"
          ],
          [
           "bad"
          ],
          [
           "bad"
          ],
          [
           "good"
          ],
          [
           "bad"
          ],
          [
           "good"
          ],
          [
           "bad"
          ],
          [
           "good"
          ],
          [
           "good"
          ],
          [
           "bad"
          ],
          [
           "good"
          ],
          [
           "bad"
          ],
          [
           "good"
          ],
          [
           "good"
          ],
          [
           "good"
          ],
          [
           "bad"
          ],
          [
           "good"
          ],
          [
           "good"
          ],
          [
           "bad"
          ],
          [
           "good"
          ],
          [
           "bad"
          ],
          [
           "good"
          ],
          [
           "bad"
          ],
          [
           "good"
          ],
          [
           "good"
          ],
          [
           "good"
          ],
          [
           "bad"
          ],
          [
           "good"
          ],
          [
           "good"
          ],
          [
           "good"
          ],
          [
           "good"
          ],
          [
           "good"
          ],
          [
           "good"
          ],
          [
           "bad"
          ],
          [
           "bad"
          ],
          [
           "good"
          ],
          [
           "good"
          ],
          [
           "good"
          ],
          [
           "good"
          ],
          [
           "good"
          ],
          [
           "good"
          ],
          [
           "bad"
          ],
          [
           "good"
          ],
          [
           "bad"
          ],
          [
           "bad"
          ],
          [
           "good"
          ],
          [
           "bad"
          ],
          [
           "good"
          ],
          [
           "bad"
          ],
          [
           "bad"
          ],
          [
           "bad"
          ],
          [
           "good"
          ],
          [
           "bad"
          ],
          [
           "good"
          ],
          [
           "good"
          ],
          [
           "good"
          ],
          [
           "bad"
          ],
          [
           "bad"
          ],
          [
           "good"
          ],
          [
           "good"
          ],
          [
           "bad"
          ],
          [
           "good"
          ],
          [
           "bad"
          ],
          [
           "bad"
          ],
          [
           "good"
          ],
          [
           "bad"
          ],
          [
           "good"
          ],
          [
           "bad"
          ],
          [
           "good"
          ],
          [
           "bad"
          ],
          [
           "bad"
          ],
          [
           "good"
          ],
          [
           "bad"
          ],
          [
           "bad"
          ],
          [
           "good"
          ],
          [
           "good"
          ],
          [
           "good"
          ],
          [
           "good"
          ],
          [
           "good"
          ],
          [
           "good"
          ],
          [
           "good"
          ],
          [
           "good"
          ],
          [
           "good"
          ],
          [
           "good"
          ],
          [
           "bad"
          ],
          [
           "good"
          ],
          [
           "good"
          ],
          [
           "good"
          ],
          [
           "good"
          ],
          [
           "good"
          ],
          [
           "good"
          ],
          [
           "good"
          ],
          [
           "good"
          ],
          [
           "good"
          ],
          [
           "good"
          ],
          [
           "good"
          ],
          [
           "good"
          ],
          [
           "bad"
          ],
          [
           "good"
          ],
          [
           "good"
          ],
          [
           "good"
          ],
          [
           "good"
          ],
          [
           "bad"
          ],
          [
           "good"
          ],
          [
           "bad"
          ],
          [
           "good"
          ],
          [
           "bad"
          ],
          [
           "good"
          ],
          [
           "bad"
          ],
          [
           "bad"
          ],
          [
           "bad"
          ],
          [
           "bad"
          ],
          [
           "bad"
          ],
          [
           "bad"
          ],
          [
           "good"
          ],
          [
           "good"
          ],
          [
           "bad"
          ],
          [
           "good"
          ],
          [
           "bad"
          ],
          [
           "bad"
          ],
          [
           "good"
          ],
          [
           "good"
          ],
          [
           "good"
          ],
          [
           "bad"
          ],
          [
           "good"
          ],
          [
           "good"
          ],
          [
           "bad"
          ],
          [
           "bad"
          ],
          [
           "good"
          ],
          [
           "bad"
          ],
          [
           "good"
          ],
          [
           "good"
          ],
          [
           "bad"
          ],
          [
           "good"
          ],
          [
           "good"
          ],
          [
           "good"
          ],
          [
           "good"
          ],
          [
           "good"
          ],
          [
           "good"
          ],
          [
           "good"
          ],
          [
           "bad"
          ],
          [
           "bad"
          ],
          [
           "bad"
          ],
          [
           "good"
          ],
          [
           "bad"
          ],
          [
           "good"
          ],
          [
           "good"
          ],
          [
           "bad"
          ],
          [
           "bad"
          ],
          [
           "bad"
          ],
          [
           "good"
          ],
          [
           "good"
          ],
          [
           "bad"
          ],
          [
           "good"
          ],
          [
           "good"
          ],
          [
           "good"
          ],
          [
           "good"
          ],
          [
           "good"
          ],
          [
           "good"
          ],
          [
           "bad"
          ],
          [
           "bad"
          ],
          [
           "good"
          ],
          [
           "good"
          ],
          [
           "bad"
          ],
          [
           "bad"
          ],
          [
           "bad"
          ],
          [
           "good"
          ],
          [
           "bad"
          ],
          [
           "bad"
          ],
          [
           "bad"
          ],
          [
           "good"
          ],
          [
           "good"
          ],
          [
           "good"
          ],
          [
           "good"
          ],
          [
           "bad"
          ],
          [
           "good"
          ],
          [
           "good"
          ],
          [
           "bad"
          ],
          [
           "good"
          ],
          [
           "bad"
          ],
          [
           "bad"
          ],
          [
           "bad"
          ],
          [
           "bad"
          ],
          [
           "good"
          ],
          [
           "good"
          ],
          [
           "good"
          ],
          [
           "good"
          ],
          [
           "bad"
          ],
          [
           "good"
          ],
          [
           "bad"
          ],
          [
           "good"
          ],
          [
           "good"
          ],
          [
           "good"
          ],
          [
           "good"
          ],
          [
           "good"
          ],
          [
           "good"
          ],
          [
           "good"
          ],
          [
           "bad"
          ],
          [
           "bad"
          ],
          [
           "good"
          ],
          [
           "bad"
          ],
          [
           "good"
          ],
          [
           "bad"
          ],
          [
           "bad"
          ],
          [
           "good"
          ],
          [
           "bad"
          ],
          [
           "bad"
          ],
          [
           "bad"
          ],
          [
           "bad"
          ],
          [
           "bad"
          ],
          [
           "good"
          ],
          [
           "bad"
          ],
          [
           "bad"
          ],
          [
           "bad"
          ],
          [
           "bad"
          ],
          [
           "good"
          ],
          [
           "bad"
          ],
          [
           "good"
          ],
          [
           "bad"
          ],
          [
           "good"
          ],
          [
           "bad"
          ],
          [
           "bad"
          ],
          [
           "bad"
          ],
          [
           "bad"
          ],
          [
           "bad"
          ],
          [
           "good"
          ],
          [
           "good"
          ],
          [
           "bad"
          ],
          [
           "bad"
          ],
          [
           "bad"
          ],
          [
           "bad"
          ],
          [
           "bad"
          ],
          [
           "good"
          ],
          [
           "bad"
          ],
          [
           "bad"
          ],
          [
           "good"
          ],
          [
           "good"
          ],
          [
           "bad"
          ],
          [
           "bad"
          ],
          [
           "bad"
          ],
          [
           "good"
          ],
          [
           "bad"
          ],
          [
           "bad"
          ],
          [
           "bad"
          ],
          [
           "good"
          ],
          [
           "good"
          ],
          [
           "bad"
          ],
          [
           "good"
          ],
          [
           "bad"
          ],
          [
           "good"
          ],
          [
           "good"
          ],
          [
           "bad"
          ],
          [
           "bad"
          ],
          [
           "good"
          ],
          [
           "good"
          ],
          [
           "bad"
          ],
          [
           "good"
          ],
          [
           "bad"
          ],
          [
           "bad"
          ],
          [
           "bad"
          ],
          [
           "bad"
          ],
          [
           "good"
          ],
          [
           "bad"
          ],
          [
           "good"
          ],
          [
           "bad"
          ],
          [
           "bad"
          ],
          [
           "bad"
          ],
          [
           "bad"
          ],
          [
           "good"
          ],
          [
           "bad"
          ],
          [
           "bad"
          ],
          [
           "bad"
          ],
          [
           "bad"
          ],
          [
           "bad"
          ],
          [
           "bad"
          ],
          [
           "bad"
          ],
          [
           "bad"
          ],
          [
           "bad"
          ],
          [
           "bad"
          ],
          [
           "bad"
          ],
          [
           "bad"
          ],
          [
           "bad"
          ],
          [
           "good"
          ],
          [
           "good"
          ],
          [
           "good"
          ],
          [
           "bad"
          ],
          [
           "good"
          ],
          [
           "good"
          ],
          [
           "good"
          ],
          [
           "good"
          ],
          [
           "bad"
          ],
          [
           "bad"
          ],
          [
           "bad"
          ],
          [
           "bad"
          ],
          [
           "bad"
          ],
          [
           "good"
          ],
          [
           "good"
          ],
          [
           "bad"
          ],
          [
           "bad"
          ],
          [
           "bad"
          ],
          [
           "bad"
          ],
          [
           "bad"
          ],
          [
           "good"
          ],
          [
           "bad"
          ],
          [
           "bad"
          ],
          [
           "bad"
          ],
          [
           "bad"
          ],
          [
           "bad"
          ],
          [
           "bad"
          ],
          [
           "bad"
          ],
          [
           "bad"
          ],
          [
           "bad"
          ],
          [
           "bad"
          ],
          [
           "good"
          ],
          [
           "bad"
          ],
          [
           "bad"
          ],
          [
           "good"
          ],
          [
           "bad"
          ],
          [
           "bad"
          ],
          [
           "bad"
          ],
          [
           "bad"
          ],
          [
           "bad"
          ],
          [
           "bad"
          ],
          [
           "bad"
          ],
          [
           "good"
          ],
          [
           "bad"
          ],
          [
           "bad"
          ],
          [
           "good"
          ],
          [
           "bad"
          ],
          [
           "bad"
          ],
          [
           "bad"
          ],
          [
           "bad"
          ],
          [
           "good"
          ],
          [
           "good"
          ],
          [
           "bad"
          ],
          [
           "good"
          ],
          [
           "good"
          ],
          [
           "bad"
          ],
          [
           "bad"
          ],
          [
           "bad"
          ],
          [
           "bad"
          ],
          [
           "good"
          ],
          [
           "good"
          ],
          [
           "good"
          ],
          [
           "bad"
          ],
          [
           "bad"
          ],
          [
           "bad"
          ],
          [
           "bad"
          ],
          [
           "bad"
          ],
          [
           "good"
          ],
          [
           "bad"
          ],
          [
           "good"
          ],
          [
           "good"
          ],
          [
           "bad"
          ],
          [
           "bad"
          ],
          [
           "good"
          ],
          [
           "bad"
          ],
          [
           "good"
          ],
          [
           "bad"
          ],
          [
           "bad"
          ],
          [
           "good"
          ],
          [
           "good"
          ],
          [
           "bad"
          ],
          [
           "good"
          ],
          [
           "good"
          ],
          [
           "bad"
          ],
          [
           "bad"
          ],
          [
           "good"
          ],
          [
           "bad"
          ],
          [
           "bad"
          ],
          [
           "bad"
          ],
          [
           "bad"
          ],
          [
           "bad"
          ],
          [
           "bad"
          ],
          [
           "good"
          ],
          [
           "good"
          ],
          [
           "bad"
          ],
          [
           "good"
          ],
          [
           "bad"
          ],
          [
           "good"
          ],
          [
           "bad"
          ],
          [
           "good"
          ],
          [
           "bad"
          ],
          [
           "bad"
          ],
          [
           "good"
          ],
          [
           "good"
          ],
          [
           "good"
          ],
          [
           "bad"
          ],
          [
           "bad"
          ],
          [
           "good"
          ],
          [
           "good"
          ],
          [
           "good"
          ],
          [
           "good"
          ],
          [
           "good"
          ],
          [
           "good"
          ],
          [
           "bad"
          ],
          [
           "good"
          ],
          [
           "bad"
          ],
          [
           "good"
          ],
          [
           "bad"
          ],
          [
           "bad"
          ],
          [
           "good"
          ],
          [
           "bad"
          ],
          [
           "good"
          ],
          [
           "good"
          ],
          [
           "bad"
          ],
          [
           "bad"
          ],
          [
           "bad"
          ],
          [
           "good"
          ],
          [
           "bad"
          ],
          [
           "bad"
          ],
          [
           "bad"
          ],
          [
           "bad"
          ],
          [
           "good"
          ],
          [
           "bad"
          ],
          [
           "good"
          ],
          [
           "good"
          ],
          [
           "bad"
          ],
          [
           "good"
          ],
          [
           "bad"
          ],
          [
           "bad"
          ],
          [
           "bad"
          ],
          [
           "bad"
          ],
          [
           "good"
          ],
          [
           "good"
          ],
          [
           "good"
          ],
          [
           "bad"
          ],
          [
           "good"
          ],
          [
           "bad"
          ],
          [
           "good"
          ],
          [
           "bad"
          ],
          [
           "good"
          ],
          [
           "bad"
          ],
          [
           "bad"
          ],
          [
           "good"
          ],
          [
           "bad"
          ],
          [
           "bad"
          ],
          [
           "bad"
          ],
          [
           "bad"
          ],
          [
           "bad"
          ],
          [
           "good"
          ],
          [
           "good"
          ],
          [
           "good"
          ],
          [
           "good"
          ],
          [
           "good"
          ],
          [
           "good"
          ],
          [
           "good"
          ],
          [
           "bad"
          ],
          [
           "good"
          ],
          [
           "bad"
          ],
          [
           "bad"
          ],
          [
           "bad"
          ],
          [
           "bad"
          ],
          [
           "good"
          ],
          [
           "good"
          ],
          [
           "good"
          ],
          [
           "good"
          ],
          [
           "good"
          ],
          [
           "bad"
          ],
          [
           "bad"
          ],
          [
           "good"
          ],
          [
           "good"
          ],
          [
           "good"
          ],
          [
           "bad"
          ],
          [
           "good"
          ],
          [
           "good"
          ],
          [
           "bad"
          ],
          [
           "bad"
          ],
          [
           "good"
          ],
          [
           "good"
          ],
          [
           "bad"
          ],
          [
           "good"
          ],
          [
           "bad"
          ],
          [
           "good"
          ],
          [
           "good"
          ],
          [
           "good"
          ],
          [
           "bad"
          ],
          [
           "bad"
          ],
          [
           "bad"
          ],
          [
           "good"
          ],
          [
           "bad"
          ],
          [
           "good"
          ],
          [
           "good"
          ],
          [
           "good"
          ],
          [
           "good"
          ],
          [
           "good"
          ],
          [
           "bad"
          ],
          [
           "bad"
          ],
          [
           "good"
          ],
          [
           "good"
          ],
          [
           "good"
          ],
          [
           "good"
          ],
          [
           "bad"
          ],
          [
           "bad"
          ],
          [
           "good"
          ],
          [
           "good"
          ],
          [
           "good"
          ],
          [
           "good"
          ],
          [
           "good"
          ],
          [
           "good"
          ],
          [
           "good"
          ],
          [
           "good"
          ],
          [
           "good"
          ],
          [
           "bad"
          ],
          [
           "good"
          ],
          [
           "good"
          ],
          [
           "good"
          ],
          [
           "bad"
          ],
          [
           "good"
          ],
          [
           "good"
          ],
          [
           "good"
          ],
          [
           "bad"
          ],
          [
           "good"
          ],
          [
           "good"
          ],
          [
           "bad"
          ],
          [
           "bad"
          ],
          [
           "good"
          ],
          [
           "bad"
          ],
          [
           "bad"
          ],
          [
           "good"
          ],
          [
           "bad"
          ],
          [
           "bad"
          ],
          [
           "good"
          ],
          [
           "good"
          ],
          [
           "bad"
          ],
          [
           "good"
          ],
          [
           "bad"
          ],
          [
           "good"
          ],
          [
           "good"
          ],
          [
           "good"
          ],
          [
           "good"
          ],
          [
           "good"
          ],
          [
           "good"
          ],
          [
           "good"
          ],
          [
           "good"
          ],
          [
           "good"
          ],
          [
           "good"
          ],
          [
           "good"
          ],
          [
           "good"
          ],
          [
           "good"
          ],
          [
           "good"
          ],
          [
           "good"
          ],
          [
           "bad"
          ],
          [
           "good"
          ],
          [
           "good"
          ],
          [
           "good"
          ],
          [
           "bad"
          ],
          [
           "good"
          ],
          [
           "bad"
          ],
          [
           "bad"
          ],
          [
           "good"
          ],
          [
           "good"
          ],
          [
           "good"
          ],
          [
           "good"
          ],
          [
           "bad"
          ],
          [
           "good"
          ],
          [
           "bad"
          ],
          [
           "good"
          ],
          [
           "good"
          ],
          [
           "good"
          ],
          [
           "bad"
          ],
          [
           "good"
          ],
          [
           "bad"
          ],
          [
           "bad"
          ],
          [
           "bad"
          ],
          [
           "good"
          ],
          [
           "bad"
          ],
          [
           "good"
          ],
          [
           "bad"
          ],
          [
           "good"
          ],
          [
           "good"
          ],
          [
           "bad"
          ],
          [
           "good"
          ],
          [
           "good"
          ],
          [
           "bad"
          ],
          [
           "bad"
          ],
          [
           "good"
          ],
          [
           "bad"
          ],
          [
           "bad"
          ],
          [
           "good"
          ],
          [
           "bad"
          ],
          [
           "bad"
          ],
          [
           "good"
          ],
          [
           "good"
          ],
          [
           "good"
          ],
          [
           "good"
          ],
          [
           "good"
          ],
          [
           "good"
          ],
          [
           "good"
          ],
          [
           "good"
          ],
          [
           "good"
          ],
          [
           "bad"
          ],
          [
           "good"
          ],
          [
           "good"
          ],
          [
           "good"
          ],
          [
           "good"
          ],
          [
           "bad"
          ],
          [
           "good"
          ],
          [
           "good"
          ],
          [
           "bad"
          ],
          [
           "good"
          ],
          [
           "good"
          ],
          [
           "good"
          ],
          [
           "good"
          ],
          [
           "good"
          ],
          [
           "good"
          ],
          [
           "bad"
          ],
          [
           "good"
          ],
          [
           "good"
          ],
          [
           "bad"
          ],
          [
           "good"
          ],
          [
           "good"
          ],
          [
           "good"
          ],
          [
           "good"
          ],
          [
           "bad"
          ],
          [
           "good"
          ],
          [
           "good"
          ],
          [
           "good"
          ],
          [
           "good"
          ],
          [
           "bad"
          ],
          [
           "good"
          ],
          [
           "good"
          ],
          [
           "good"
          ],
          [
           "good"
          ],
          [
           "bad"
          ],
          [
           "good"
          ],
          [
           "good"
          ],
          [
           "bad"
          ],
          [
           "good"
          ],
          [
           "good"
          ],
          [
           "good"
          ],
          [
           "good"
          ],
          [
           "good"
          ],
          [
           "good"
          ],
          [
           "bad"
          ],
          [
           "good"
          ],
          [
           "good"
          ],
          [
           "bad"
          ],
          [
           "bad"
          ],
          [
           "bad"
          ],
          [
           "good"
          ],
          [
           "good"
          ],
          [
           "good"
          ],
          [
           "good"
          ],
          [
           "bad"
          ],
          [
           "good"
          ],
          [
           "good"
          ],
          [
           "good"
          ],
          [
           "good"
          ],
          [
           "good"
          ],
          [
           "good"
          ],
          [
           "good"
          ],
          [
           "good"
          ],
          [
           "good"
          ],
          [
           "good"
          ],
          [
           "good"
          ],
          [
           "bad"
          ],
          [
           "good"
          ],
          [
           "bad"
          ],
          [
           "good"
          ],
          [
           "good"
          ],
          [
           "bad"
          ],
          [
           "good"
          ],
          [
           "good"
          ],
          [
           "bad"
          ],
          [
           "bad"
          ],
          [
           "good"
          ],
          [
           "good"
          ],
          [
           "good"
          ],
          [
           "good"
          ],
          [
           "good"
          ],
          [
           "good"
          ],
          [
           "bad"
          ],
          [
           "good"
          ],
          [
           "good"
          ],
          [
           "good"
          ],
          [
           "good"
          ],
          [
           "good"
          ],
          [
           "good"
          ],
          [
           "good"
          ],
          [
           "good"
          ],
          [
           "good"
          ],
          [
           "bad"
          ],
          [
           "good"
          ],
          [
           "bad"
          ],
          [
           "good"
          ],
          [
           "bad"
          ],
          [
           "good"
          ],
          [
           "good"
          ],
          [
           "good"
          ],
          [
           "good"
          ],
          [
           "good"
          ],
          [
           "bad"
          ],
          [
           "good"
          ],
          [
           "good"
          ],
          [
           "bad"
          ],
          [
           "good"
          ],
          [
           "good"
          ],
          [
           "good"
          ],
          [
           "good"
          ],
          [
           "good"
          ],
          [
           "good"
          ],
          [
           "good"
          ],
          [
           "good"
          ],
          [
           "good"
          ],
          [
           "good"
          ],
          [
           "bad"
          ],
          [
           "good"
          ],
          [
           "good"
          ],
          [
           "good"
          ],
          [
           "good"
          ],
          [
           "bad"
          ],
          [
           "good"
          ],
          [
           "good"
          ],
          [
           "good"
          ],
          [
           "bad"
          ],
          [
           "good"
          ],
          [
           "good"
          ],
          [
           "bad"
          ],
          [
           "good"
          ],
          [
           "good"
          ],
          [
           "good"
          ],
          [
           "good"
          ],
          [
           "good"
          ],
          [
           "good"
          ],
          [
           "bad"
          ],
          [
           "good"
          ],
          [
           "good"
          ],
          [
           "good"
          ],
          [
           "good"
          ],
          [
           "good"
          ],
          [
           "bad"
          ],
          [
           "good"
          ],
          [
           "good"
          ],
          [
           "good"
          ],
          [
           "good"
          ],
          [
           "good"
          ],
          [
           "good"
          ],
          [
           "good"
          ],
          [
           "bad"
          ],
          [
           "good"
          ],
          [
           "good"
          ],
          [
           "bad"
          ],
          [
           "good"
          ],
          [
           "good"
          ],
          [
           "good"
          ],
          [
           "bad"
          ],
          [
           "good"
          ],
          [
           "good"
          ],
          [
           "good"
          ],
          [
           "bad"
          ],
          [
           "bad"
          ],
          [
           "bad"
          ],
          [
           "bad"
          ],
          [
           "good"
          ],
          [
           "good"
          ],
          [
           "good"
          ],
          [
           "good"
          ],
          [
           "good"
          ],
          [
           "good"
          ],
          [
           "good"
          ],
          [
           "good"
          ],
          [
           "good"
          ],
          [
           "bad"
          ],
          [
           "good"
          ],
          [
           "bad"
          ],
          [
           "good"
          ],
          [
           "good"
          ],
          [
           "bad"
          ],
          [
           "good"
          ],
          [
           "bad"
          ],
          [
           "bad"
          ],
          [
           "good"
          ],
          [
           "bad"
          ],
          [
           "good"
          ],
          [
           "bad"
          ],
          [
           "bad"
          ],
          [
           "good"
          ],
          [
           "bad"
          ],
          [
           "good"
          ],
          [
           "bad"
          ],
          [
           "good"
          ],
          [
           "good"
          ],
          [
           "good"
          ],
          [
           "good"
          ],
          [
           "good"
          ],
          [
           "good"
          ],
          [
           "good"
          ],
          [
           "good"
          ],
          [
           "good"
          ],
          [
           "bad"
          ],
          [
           "good"
          ],
          [
           "good"
          ],
          [
           "good"
          ],
          [
           "bad"
          ],
          [
           "good"
          ],
          [
           "good"
          ],
          [
           "good"
          ],
          [
           "bad"
          ],
          [
           "good"
          ],
          [
           "good"
          ],
          [
           "good"
          ],
          [
           "good"
          ],
          [
           "good"
          ],
          [
           "good"
          ],
          [
           "good"
          ],
          [
           "good"
          ],
          [
           "good"
          ],
          [
           "good"
          ],
          [
           "good"
          ],
          [
           "good"
          ],
          [
           "good"
          ],
          [
           "bad"
          ],
          [
           "bad"
          ],
          [
           "bad"
          ],
          [
           "good"
          ],
          [
           "bad"
          ],
          [
           "good"
          ],
          [
           "bad"
          ],
          [
           "bad"
          ],
          [
           "bad"
          ],
          [
           "good"
          ],
          [
           "bad"
          ],
          [
           "good"
          ],
          [
           "good"
          ],
          [
           "bad"
          ],
          [
           "bad"
          ],
          [
           "bad"
          ],
          [
           "bad"
          ],
          [
           "good"
          ],
          [
           "bad"
          ],
          [
           "good"
          ],
          [
           "bad"
          ],
          [
           "bad"
          ],
          [
           "bad"
          ],
          [
           "good"
          ],
          [
           "good"
          ],
          [
           "good"
          ],
          [
           "bad"
          ],
          [
           "bad"
          ],
          [
           "bad"
          ],
          [
           "bad"
          ],
          [
           "bad"
          ],
          [
           "bad"
          ],
          [
           "good"
          ],
          [
           "good"
          ],
          [
           "good"
          ],
          [
           "bad"
          ],
          [
           "bad"
          ],
          [
           "bad"
          ],
          [
           "bad"
          ],
          [
           "good"
          ],
          [
           "good"
          ],
          [
           "good"
          ],
          [
           "good"
          ],
          [
           "good"
          ],
          [
           "good"
          ],
          [
           "good"
          ],
          [
           "good"
          ],
          [
           "bad"
          ],
          [
           "bad"
          ],
          [
           "good"
          ],
          [
           "good"
          ],
          [
           "bad"
          ],
          [
           "good"
          ],
          [
           "good"
          ],
          [
           "good"
          ],
          [
           "good"
          ],
          [
           "good"
          ],
          [
           "good"
          ],
          [
           "good"
          ],
          [
           "bad"
          ],
          [
           "bad"
          ],
          [
           "good"
          ],
          [
           "bad"
          ],
          [
           "bad"
          ],
          [
           "bad"
          ],
          [
           "bad"
          ],
          [
           "good"
          ],
          [
           "good"
          ],
          [
           "bad"
          ],
          [
           "good"
          ],
          [
           "bad"
          ],
          [
           "bad"
          ],
          [
           "good"
          ],
          [
           "good"
          ],
          [
           "bad"
          ],
          [
           "good"
          ],
          [
           "good"
          ],
          [
           "good"
          ],
          [
           "bad"
          ],
          [
           "bad"
          ],
          [
           "bad"
          ],
          [
           "bad"
          ],
          [
           "bad"
          ],
          [
           "bad"
          ],
          [
           "bad"
          ],
          [
           "bad"
          ],
          [
           "good"
          ],
          [
           "bad"
          ],
          [
           "good"
          ],
          [
           "good"
          ],
          [
           "good"
          ],
          [
           "good"
          ],
          [
           "good"
          ],
          [
           "good"
          ],
          [
           "good"
          ],
          [
           "bad"
          ],
          [
           "good"
          ],
          [
           "bad"
          ],
          [
           "good"
          ],
          [
           "good"
          ],
          [
           "good"
          ],
          [
           "good"
          ],
          [
           "good"
          ],
          [
           "bad"
          ],
          [
           "good"
          ],
          [
           "good"
          ],
          [
           "bad"
          ],
          [
           "good"
          ],
          [
           "bad"
          ],
          [
           "bad"
          ],
          [
           "good"
          ],
          [
           "bad"
          ],
          [
           "bad"
          ],
          [
           "bad"
          ],
          [
           "good"
          ],
          [
           "good"
          ],
          [
           "good"
          ],
          [
           "good"
          ],
          [
           "good"
          ],
          [
           "bad"
          ],
          [
           "good"
          ],
          [
           "bad"
          ],
          [
           "bad"
          ],
          [
           "bad"
          ],
          [
           "bad"
          ],
          [
           "bad"
          ],
          [
           "good"
          ],
          [
           "bad"
          ],
          [
           "bad"
          ],
          [
           "bad"
          ],
          [
           "bad"
          ],
          [
           "bad"
          ],
          [
           "good"
          ],
          [
           "bad"
          ],
          [
           "good"
          ],
          [
           "bad"
          ],
          [
           "bad"
          ],
          [
           "good"
          ],
          [
           "bad"
          ],
          [
           "good"
          ],
          [
           "bad"
          ],
          [
           "bad"
          ],
          [
           "good"
          ],
          [
           "good"
          ],
          [
           "bad"
          ],
          [
           "bad"
          ],
          [
           "good"
          ],
          [
           "bad"
          ],
          [
           "bad"
          ],
          [
           "bad"
          ],
          [
           "bad"
          ],
          [
           "bad"
          ],
          [
           "good"
          ],
          [
           "good"
          ],
          [
           "good"
          ],
          [
           "good"
          ],
          [
           "bad"
          ],
          [
           "bad"
          ],
          [
           "bad"
          ],
          [
           "bad"
          ],
          [
           "bad"
          ],
          [
           "bad"
          ],
          [
           "bad"
          ],
          [
           "bad"
          ],
          [
           "bad"
          ],
          [
           "good"
          ],
          [
           "bad"
          ],
          [
           "bad"
          ],
          [
           "bad"
          ],
          [
           "bad"
          ],
          [
           "good"
          ],
          [
           "bad"
          ],
          [
           "bad"
          ],
          [
           "good"
          ],
          [
           "good"
          ],
          [
           "bad"
          ],
          [
           "bad"
          ],
          [
           "good"
          ],
          [
           "good"
          ],
          [
           "good"
          ],
          [
           "good"
          ],
          [
           "good"
          ],
          [
           "good"
          ],
          [
           "good"
          ],
          [
           "good"
          ],
          [
           "good"
          ],
          [
           "good"
          ],
          [
           "good"
          ],
          [
           "bad"
          ],
          [
           "bad"
          ],
          [
           "bad"
          ],
          [
           "bad"
          ],
          [
           "good"
          ],
          [
           "bad"
          ],
          [
           "bad"
          ],
          [
           "bad"
          ],
          [
           "bad"
          ],
          [
           "good"
          ],
          [
           "bad"
          ],
          [
           "good"
          ],
          [
           "good"
          ],
          [
           "good"
          ],
          [
           "bad"
          ],
          [
           "bad"
          ],
          [
           "bad"
          ],
          [
           "bad"
          ],
          [
           "good"
          ],
          [
           "good"
          ],
          [
           "good"
          ],
          [
           "good"
          ],
          [
           "good"
          ],
          [
           "bad"
          ],
          [
           "bad"
          ],
          [
           "bad"
          ],
          [
           "good"
          ],
          [
           "good"
          ],
          [
           "good"
          ],
          [
           "bad"
          ],
          [
           "bad"
          ],
          [
           "good"
          ],
          [
           "good"
          ],
          [
           "bad"
          ],
          [
           "bad"
          ],
          [
           "bad"
          ],
          [
           "good"
          ],
          [
           "good"
          ],
          [
           "good"
          ],
          [
           "good"
          ],
          [
           "bad"
          ],
          [
           "good"
          ],
          [
           "good"
          ],
          [
           "good"
          ],
          [
           "bad"
          ],
          [
           "bad"
          ],
          [
           "good"
          ],
          [
           "good"
          ],
          [
           "bad"
          ],
          [
           "good"
          ],
          [
           "good"
          ],
          [
           "bad"
          ],
          [
           "bad"
          ],
          [
           "good"
          ],
          [
           "bad"
          ],
          [
           "good"
          ],
          [
           "bad"
          ],
          [
           "bad"
          ],
          [
           "bad"
          ],
          [
           "good"
          ],
          [
           "bad"
          ],
          [
           "bad"
          ],
          [
           "good"
          ],
          [
           "bad"
          ],
          [
           "good"
          ],
          [
           "bad"
          ],
          [
           "bad"
          ],
          [
           "bad"
          ],
          [
           "bad"
          ],
          [
           "bad"
          ],
          [
           "bad"
          ],
          [
           "bad"
          ],
          [
           "bad"
          ],
          [
           "bad"
          ],
          [
           "bad"
          ],
          [
           "bad"
          ],
          [
           "good"
          ],
          [
           "good"
          ],
          [
           "bad"
          ],
          [
           "bad"
          ],
          [
           "bad"
          ],
          [
           "good"
          ],
          [
           "good"
          ],
          [
           "bad"
          ],
          [
           "good"
          ],
          [
           "good"
          ],
          [
           "good"
          ],
          [
           "bad"
          ],
          [
           "bad"
          ],
          [
           "bad"
          ],
          [
           "good"
          ],
          [
           "good"
          ],
          [
           "bad"
          ],
          [
           "good"
          ],
          [
           "good"
          ],
          [
           "good"
          ],
          [
           "bad"
          ],
          [
           "good"
          ],
          [
           "bad"
          ],
          [
           "good"
          ],
          [
           "good"
          ],
          [
           "good"
          ],
          [
           "good"
          ],
          [
           "bad"
          ],
          [
           "good"
          ],
          [
           "bad"
          ],
          [
           "bad"
          ],
          [
           "good"
          ],
          [
           "bad"
          ],
          [
           "bad"
          ],
          [
           "bad"
          ],
          [
           "good"
          ],
          [
           "bad"
          ],
          [
           "good"
          ],
          [
           "good"
          ],
          [
           "good"
          ],
          [
           "good"
          ],
          [
           "good"
          ],
          [
           "bad"
          ],
          [
           "good"
          ],
          [
           "bad"
          ],
          [
           "good"
          ],
          [
           "good"
          ],
          [
           "good"
          ],
          [
           "good"
          ],
          [
           "bad"
          ],
          [
           "bad"
          ],
          [
           "good"
          ],
          [
           "good"
          ],
          [
           "good"
          ],
          [
           "good"
          ],
          [
           "good"
          ],
          [
           "good"
          ],
          [
           "bad"
          ],
          [
           "bad"
          ],
          [
           "bad"
          ],
          [
           "good"
          ],
          [
           "bad"
          ],
          [
           "bad"
          ],
          [
           "good"
          ],
          [
           "bad"
          ],
          [
           "good"
          ],
          [
           "good"
          ],
          [
           "bad"
          ],
          [
           "good"
          ],
          [
           "bad"
          ],
          [
           "bad"
          ],
          [
           "bad"
          ],
          [
           "bad"
          ],
          [
           "bad"
          ],
          [
           "bad"
          ],
          [
           "bad"
          ],
          [
           "good"
          ],
          [
           "good"
          ],
          [
           "bad"
          ],
          [
           "bad"
          ],
          [
           "good"
          ],
          [
           "good"
          ],
          [
           "good"
          ],
          [
           "bad"
          ],
          [
           "good"
          ],
          [
           "good"
          ],
          [
           "good"
          ],
          [
           "good"
          ],
          [
           "good"
          ],
          [
           "good"
          ],
          [
           "bad"
          ],
          [
           "good"
          ],
          [
           "bad"
          ],
          [
           "bad"
          ],
          [
           "bad"
          ],
          [
           "good"
          ],
          [
           "good"
          ],
          [
           "good"
          ],
          [
           "good"
          ],
          [
           "good"
          ],
          [
           "bad"
          ],
          [
           "good"
          ],
          [
           "good"
          ],
          [
           "good"
          ],
          [
           "good"
          ],
          [
           "bad"
          ],
          [
           "good"
          ],
          [
           "good"
          ],
          [
           "bad"
          ],
          [
           "good"
          ]
         ],
         "domain": {
          "x": [
           0,
           1
          ],
          "y": [
           0,
           1
          ]
         },
         "hovertemplate": "quality=%{customdata[0]}<extra></extra>",
         "labels": [
          "bad",
          "bad",
          "bad",
          "good",
          "bad",
          "bad",
          "bad",
          "good",
          "good",
          "bad",
          "bad",
          "bad",
          "bad",
          "bad",
          "bad",
          "bad",
          "good",
          "bad",
          "bad",
          "good",
          "good",
          "bad",
          "bad",
          "bad",
          "good",
          "bad",
          "bad",
          "bad",
          "bad",
          "good",
          "bad",
          "good",
          "bad",
          "good",
          "bad",
          "good",
          "good",
          "good",
          "bad",
          "bad",
          "bad",
          "bad",
          "good",
          "bad",
          "bad",
          "bad",
          "bad",
          "bad",
          "bad",
          "bad",
          "bad",
          "good",
          "good",
          "bad",
          "good",
          "bad",
          "bad",
          "bad",
          "bad",
          "good",
          "bad",
          "bad",
          "good",
          "bad",
          "bad",
          "bad",
          "bad",
          "bad",
          "bad",
          "good",
          "good",
          "bad",
          "bad",
          "bad",
          "bad",
          "bad",
          "bad",
          "good",
          "bad",
          "bad",
          "bad",
          "bad",
          "bad",
          "bad",
          "good",
          "bad",
          "good",
          "bad",
          "bad",
          "bad",
          "bad",
          "good",
          "bad",
          "bad",
          "bad",
          "good",
          "bad",
          "bad",
          "bad",
          "good",
          "good",
          "good",
          "good",
          "bad",
          "bad",
          "bad",
          "bad",
          "bad",
          "good",
          "bad",
          "bad",
          "bad",
          "bad",
          "good",
          "bad",
          "good",
          "good",
          "good",
          "good",
          "good",
          "bad",
          "good",
          "bad",
          "bad",
          "bad",
          "bad",
          "bad",
          "bad",
          "good",
          "bad",
          "bad",
          "bad",
          "bad",
          "good",
          "good",
          "bad",
          "bad",
          "bad",
          "bad",
          "bad",
          "bad",
          "bad",
          "good",
          "bad",
          "good",
          "bad",
          "bad",
          "bad",
          "good",
          "good",
          "good",
          "bad",
          "bad",
          "bad",
          "bad",
          "bad",
          "bad",
          "bad",
          "bad",
          "good",
          "bad",
          "bad",
          "good",
          "bad",
          "bad",
          "bad",
          "bad",
          "bad",
          "good",
          "bad",
          "bad",
          "good",
          "good",
          "good",
          "bad",
          "bad",
          "bad",
          "good",
          "bad",
          "bad",
          "bad",
          "bad",
          "bad",
          "bad",
          "good",
          "bad",
          "bad",
          "bad",
          "bad",
          "bad",
          "bad",
          "good",
          "bad",
          "bad",
          "bad",
          "bad",
          "bad",
          "good",
          "good",
          "bad",
          "good",
          "bad",
          "bad",
          "bad",
          "good",
          "good",
          "good",
          "bad",
          "bad",
          "good",
          "good",
          "good",
          "good",
          "bad",
          "good",
          "bad",
          "bad",
          "bad",
          "bad",
          "bad",
          "good",
          "bad",
          "bad",
          "good",
          "bad",
          "good",
          "good",
          "bad",
          "good",
          "bad",
          "good",
          "good",
          "good",
          "bad",
          "good",
          "good",
          "good",
          "good",
          "good",
          "good",
          "bad",
          "good",
          "good",
          "good",
          "good",
          "good",
          "bad",
          "bad",
          "good",
          "good",
          "good",
          "good",
          "bad",
          "bad",
          "good",
          "bad",
          "bad",
          "bad",
          "bad",
          "good",
          "bad",
          "bad",
          "bad",
          "bad",
          "bad",
          "good",
          "bad",
          "good",
          "good",
          "good",
          "good",
          "good",
          "bad",
          "bad",
          "bad",
          "good",
          "good",
          "good",
          "good",
          "good",
          "good",
          "good",
          "bad",
          "good",
          "bad",
          "bad",
          "good",
          "good",
          "good",
          "bad",
          "good",
          "bad",
          "good",
          "good",
          "good",
          "bad",
          "bad",
          "bad",
          "bad",
          "bad",
          "good",
          "good",
          "bad",
          "bad",
          "bad",
          "good",
          "bad",
          "good",
          "good",
          "good",
          "good",
          "good",
          "good",
          "bad",
          "bad",
          "good",
          "bad",
          "good",
          "good",
          "good",
          "good",
          "bad",
          "bad",
          "good",
          "good",
          "good",
          "good",
          "bad",
          "good",
          "bad",
          "good",
          "good",
          "good",
          "bad",
          "good",
          "good",
          "good",
          "bad",
          "good",
          "good",
          "good",
          "good",
          "good",
          "good",
          "good",
          "bad",
          "good",
          "good",
          "good",
          "good",
          "good",
          "good",
          "bad",
          "bad",
          "good",
          "good",
          "bad",
          "good",
          "good",
          "good",
          "bad",
          "good",
          "bad",
          "bad",
          "good",
          "good",
          "good",
          "bad",
          "bad",
          "good",
          "bad",
          "good",
          "good",
          "bad",
          "good",
          "good",
          "good",
          "good",
          "good",
          "good",
          "good",
          "good",
          "good",
          "good",
          "bad",
          "good",
          "good",
          "good",
          "good",
          "good",
          "good",
          "good",
          "bad",
          "bad",
          "bad",
          "good",
          "bad",
          "good",
          "good",
          "bad",
          "bad",
          "good",
          "good",
          "good",
          "bad",
          "good",
          "good",
          "good",
          "good",
          "bad",
          "good",
          "bad",
          "bad",
          "good",
          "bad",
          "bad",
          "good",
          "bad",
          "good",
          "bad",
          "good",
          "good",
          "bad",
          "good",
          "bad",
          "good",
          "good",
          "good",
          "bad",
          "good",
          "good",
          "bad",
          "good",
          "bad",
          "good",
          "bad",
          "good",
          "good",
          "good",
          "bad",
          "good",
          "good",
          "good",
          "good",
          "good",
          "good",
          "bad",
          "bad",
          "good",
          "good",
          "good",
          "good",
          "good",
          "good",
          "bad",
          "good",
          "bad",
          "bad",
          "good",
          "bad",
          "good",
          "bad",
          "bad",
          "bad",
          "good",
          "bad",
          "good",
          "good",
          "good",
          "bad",
          "bad",
          "good",
          "good",
          "bad",
          "good",
          "bad",
          "bad",
          "good",
          "bad",
          "good",
          "bad",
          "good",
          "bad",
          "bad",
          "good",
          "bad",
          "bad",
          "good",
          "good",
          "good",
          "good",
          "good",
          "good",
          "good",
          "good",
          "good",
          "good",
          "bad",
          "good",
          "good",
          "good",
          "good",
          "good",
          "good",
          "good",
          "good",
          "good",
          "good",
          "good",
          "good",
          "bad",
          "good",
          "good",
          "good",
          "good",
          "bad",
          "good",
          "bad",
          "good",
          "bad",
          "good",
          "bad",
          "bad",
          "bad",
          "bad",
          "bad",
          "bad",
          "good",
          "good",
          "bad",
          "good",
          "bad",
          "bad",
          "good",
          "good",
          "good",
          "bad",
          "good",
          "good",
          "bad",
          "bad",
          "good",
          "bad",
          "good",
          "good",
          "bad",
          "good",
          "good",
          "good",
          "good",
          "good",
          "good",
          "good",
          "bad",
          "bad",
          "bad",
          "good",
          "bad",
          "good",
          "good",
          "bad",
          "bad",
          "bad",
          "good",
          "good",
          "bad",
          "good",
          "good",
          "good",
          "good",
          "good",
          "good",
          "bad",
          "bad",
          "good",
          "good",
          "bad",
          "bad",
          "bad",
          "good",
          "bad",
          "bad",
          "bad",
          "good",
          "good",
          "good",
          "good",
          "bad",
          "good",
          "good",
          "bad",
          "good",
          "bad",
          "bad",
          "bad",
          "bad",
          "good",
          "good",
          "good",
          "good",
          "bad",
          "good",
          "bad",
          "good",
          "good",
          "good",
          "good",
          "good",
          "good",
          "good",
          "bad",
          "bad",
          "good",
          "bad",
          "good",
          "bad",
          "bad",
          "good",
          "bad",
          "bad",
          "bad",
          "bad",
          "bad",
          "good",
          "bad",
          "bad",
          "bad",
          "bad",
          "good",
          "bad",
          "good",
          "bad",
          "good",
          "bad",
          "bad",
          "bad",
          "bad",
          "bad",
          "good",
          "good",
          "bad",
          "bad",
          "bad",
          "bad",
          "bad",
          "good",
          "bad",
          "bad",
          "good",
          "good",
          "bad",
          "bad",
          "bad",
          "good",
          "bad",
          "bad",
          "bad",
          "good",
          "good",
          "bad",
          "good",
          "bad",
          "good",
          "good",
          "bad",
          "bad",
          "good",
          "good",
          "bad",
          "good",
          "bad",
          "bad",
          "bad",
          "bad",
          "good",
          "bad",
          "good",
          "bad",
          "bad",
          "bad",
          "bad",
          "good",
          "bad",
          "bad",
          "bad",
          "bad",
          "bad",
          "bad",
          "bad",
          "bad",
          "bad",
          "bad",
          "bad",
          "bad",
          "bad",
          "good",
          "good",
          "good",
          "bad",
          "good",
          "good",
          "good",
          "good",
          "bad",
          "bad",
          "bad",
          "bad",
          "bad",
          "good",
          "good",
          "bad",
          "bad",
          "bad",
          "bad",
          "bad",
          "good",
          "bad",
          "bad",
          "bad",
          "bad",
          "bad",
          "bad",
          "bad",
          "bad",
          "bad",
          "bad",
          "good",
          "bad",
          "bad",
          "good",
          "bad",
          "bad",
          "bad",
          "bad",
          "bad",
          "bad",
          "bad",
          "good",
          "bad",
          "bad",
          "good",
          "bad",
          "bad",
          "bad",
          "bad",
          "good",
          "good",
          "bad",
          "good",
          "good",
          "bad",
          "bad",
          "bad",
          "bad",
          "good",
          "good",
          "good",
          "bad",
          "bad",
          "bad",
          "bad",
          "bad",
          "good",
          "bad",
          "good",
          "good",
          "bad",
          "bad",
          "good",
          "bad",
          "good",
          "bad",
          "bad",
          "good",
          "good",
          "bad",
          "good",
          "good",
          "bad",
          "bad",
          "good",
          "bad",
          "bad",
          "bad",
          "bad",
          "bad",
          "bad",
          "good",
          "good",
          "bad",
          "good",
          "bad",
          "good",
          "bad",
          "good",
          "bad",
          "bad",
          "good",
          "good",
          "good",
          "bad",
          "bad",
          "good",
          "good",
          "good",
          "good",
          "good",
          "good",
          "bad",
          "good",
          "bad",
          "good",
          "bad",
          "bad",
          "good",
          "bad",
          "good",
          "good",
          "bad",
          "bad",
          "bad",
          "good",
          "bad",
          "bad",
          "bad",
          "bad",
          "good",
          "bad",
          "good",
          "good",
          "bad",
          "good",
          "bad",
          "bad",
          "bad",
          "bad",
          "good",
          "good",
          "good",
          "bad",
          "good",
          "bad",
          "good",
          "bad",
          "good",
          "bad",
          "bad",
          "good",
          "bad",
          "bad",
          "bad",
          "bad",
          "bad",
          "good",
          "good",
          "good",
          "good",
          "good",
          "good",
          "good",
          "bad",
          "good",
          "bad",
          "bad",
          "bad",
          "bad",
          "good",
          "good",
          "good",
          "good",
          "good",
          "bad",
          "bad",
          "good",
          "good",
          "good",
          "bad",
          "good",
          "good",
          "bad",
          "bad",
          "good",
          "good",
          "bad",
          "good",
          "bad",
          "good",
          "good",
          "good",
          "bad",
          "bad",
          "bad",
          "good",
          "bad",
          "good",
          "good",
          "good",
          "good",
          "good",
          "bad",
          "bad",
          "good",
          "good",
          "good",
          "good",
          "bad",
          "bad",
          "good",
          "good",
          "good",
          "good",
          "good",
          "good",
          "good",
          "good",
          "good",
          "bad",
          "good",
          "good",
          "good",
          "bad",
          "good",
          "good",
          "good",
          "bad",
          "good",
          "good",
          "bad",
          "bad",
          "good",
          "bad",
          "bad",
          "good",
          "bad",
          "bad",
          "good",
          "good",
          "bad",
          "good",
          "bad",
          "good",
          "good",
          "good",
          "good",
          "good",
          "good",
          "good",
          "good",
          "good",
          "good",
          "good",
          "good",
          "good",
          "good",
          "good",
          "bad",
          "good",
          "good",
          "good",
          "bad",
          "good",
          "bad",
          "bad",
          "good",
          "good",
          "good",
          "good",
          "bad",
          "good",
          "bad",
          "good",
          "good",
          "good",
          "bad",
          "good",
          "bad",
          "bad",
          "bad",
          "good",
          "bad",
          "good",
          "bad",
          "good",
          "good",
          "bad",
          "good",
          "good",
          "bad",
          "bad",
          "good",
          "bad",
          "bad",
          "good",
          "bad",
          "bad",
          "good",
          "good",
          "good",
          "good",
          "good",
          "good",
          "good",
          "good",
          "good",
          "bad",
          "good",
          "good",
          "good",
          "good",
          "bad",
          "good",
          "good",
          "bad",
          "good",
          "good",
          "good",
          "good",
          "good",
          "good",
          "bad",
          "good",
          "good",
          "bad",
          "good",
          "good",
          "good",
          "good",
          "bad",
          "good",
          "good",
          "good",
          "good",
          "bad",
          "good",
          "good",
          "good",
          "good",
          "bad",
          "good",
          "good",
          "bad",
          "good",
          "good",
          "good",
          "good",
          "good",
          "good",
          "bad",
          "good",
          "good",
          "bad",
          "bad",
          "bad",
          "good",
          "good",
          "good",
          "good",
          "bad",
          "good",
          "good",
          "good",
          "good",
          "good",
          "good",
          "good",
          "good",
          "good",
          "good",
          "good",
          "bad",
          "good",
          "bad",
          "good",
          "good",
          "bad",
          "good",
          "good",
          "bad",
          "bad",
          "good",
          "good",
          "good",
          "good",
          "good",
          "good",
          "bad",
          "good",
          "good",
          "good",
          "good",
          "good",
          "good",
          "good",
          "good",
          "good",
          "bad",
          "good",
          "bad",
          "good",
          "bad",
          "good",
          "good",
          "good",
          "good",
          "good",
          "bad",
          "good",
          "good",
          "bad",
          "good",
          "good",
          "good",
          "good",
          "good",
          "good",
          "good",
          "good",
          "good",
          "good",
          "bad",
          "good",
          "good",
          "good",
          "good",
          "bad",
          "good",
          "good",
          "good",
          "bad",
          "good",
          "good",
          "bad",
          "good",
          "good",
          "good",
          "good",
          "good",
          "good",
          "bad",
          "good",
          "good",
          "good",
          "good",
          "good",
          "bad",
          "good",
          "good",
          "good",
          "good",
          "good",
          "good",
          "good",
          "bad",
          "good",
          "good",
          "bad",
          "good",
          "good",
          "good",
          "bad",
          "good",
          "good",
          "good",
          "bad",
          "bad",
          "bad",
          "bad",
          "good",
          "good",
          "good",
          "good",
          "good",
          "good",
          "good",
          "good",
          "good",
          "bad",
          "good",
          "bad",
          "good",
          "good",
          "bad",
          "good",
          "bad",
          "bad",
          "good",
          "bad",
          "good",
          "bad",
          "bad",
          "good",
          "bad",
          "good",
          "bad",
          "good",
          "good",
          "good",
          "good",
          "good",
          "good",
          "good",
          "good",
          "good",
          "bad",
          "good",
          "good",
          "good",
          "bad",
          "good",
          "good",
          "good",
          "bad",
          "good",
          "good",
          "good",
          "good",
          "good",
          "good",
          "good",
          "good",
          "good",
          "good",
          "good",
          "good",
          "good",
          "bad",
          "bad",
          "bad",
          "good",
          "bad",
          "good",
          "bad",
          "bad",
          "bad",
          "good",
          "bad",
          "good",
          "good",
          "bad",
          "bad",
          "bad",
          "bad",
          "good",
          "bad",
          "good",
          "bad",
          "bad",
          "bad",
          "good",
          "good",
          "good",
          "bad",
          "bad",
          "bad",
          "bad",
          "bad",
          "bad",
          "good",
          "good",
          "good",
          "bad",
          "bad",
          "bad",
          "bad",
          "good",
          "good",
          "good",
          "good",
          "good",
          "good",
          "good",
          "good",
          "bad",
          "bad",
          "good",
          "good",
          "bad",
          "good",
          "good",
          "good",
          "good",
          "good",
          "good",
          "good",
          "bad",
          "bad",
          "good",
          "bad",
          "bad",
          "bad",
          "bad",
          "good",
          "good",
          "bad",
          "good",
          "bad",
          "bad",
          "good",
          "good",
          "bad",
          "good",
          "good",
          "good",
          "bad",
          "bad",
          "bad",
          "bad",
          "bad",
          "bad",
          "bad",
          "bad",
          "good",
          "bad",
          "good",
          "good",
          "good",
          "good",
          "good",
          "good",
          "good",
          "bad",
          "good",
          "bad",
          "good",
          "good",
          "good",
          "good",
          "good",
          "bad",
          "good",
          "good",
          "bad",
          "good",
          "bad",
          "bad",
          "good",
          "bad",
          "bad",
          "bad",
          "good",
          "good",
          "good",
          "good",
          "good",
          "bad",
          "good",
          "bad",
          "bad",
          "bad",
          "bad",
          "bad",
          "good",
          "bad",
          "bad",
          "bad",
          "bad",
          "bad",
          "good",
          "bad",
          "good",
          "bad",
          "bad",
          "good",
          "bad",
          "good",
          "bad",
          "bad",
          "good",
          "good",
          "bad",
          "bad",
          "good",
          "bad",
          "bad",
          "bad",
          "bad",
          "bad",
          "good",
          "good",
          "good",
          "good",
          "bad",
          "bad",
          "bad",
          "bad",
          "bad",
          "bad",
          "bad",
          "bad",
          "bad",
          "good",
          "bad",
          "bad",
          "bad",
          "bad",
          "good",
          "bad",
          "bad",
          "good",
          "good",
          "bad",
          "bad",
          "good",
          "good",
          "good",
          "good",
          "good",
          "good",
          "good",
          "good",
          "good",
          "good",
          "good",
          "bad",
          "bad",
          "bad",
          "bad",
          "good",
          "bad",
          "bad",
          "bad",
          "bad",
          "good",
          "bad",
          "good",
          "good",
          "good",
          "bad",
          "bad",
          "bad",
          "bad",
          "good",
          "good",
          "good",
          "good",
          "good",
          "bad",
          "bad",
          "bad",
          "good",
          "good",
          "good",
          "bad",
          "bad",
          "good",
          "good",
          "bad",
          "bad",
          "bad",
          "good",
          "good",
          "good",
          "good",
          "bad",
          "good",
          "good",
          "good",
          "bad",
          "bad",
          "good",
          "good",
          "bad",
          "good",
          "good",
          "bad",
          "bad",
          "good",
          "bad",
          "good",
          "bad",
          "bad",
          "bad",
          "good",
          "bad",
          "bad",
          "good",
          "bad",
          "good",
          "bad",
          "bad",
          "bad",
          "bad",
          "bad",
          "bad",
          "bad",
          "bad",
          "bad",
          "bad",
          "bad",
          "good",
          "good",
          "bad",
          "bad",
          "bad",
          "good",
          "good",
          "bad",
          "good",
          "good",
          "good",
          "bad",
          "bad",
          "bad",
          "good",
          "good",
          "bad",
          "good",
          "good",
          "good",
          "bad",
          "good",
          "bad",
          "good",
          "good",
          "good",
          "good",
          "bad",
          "good",
          "bad",
          "bad",
          "good",
          "bad",
          "bad",
          "bad",
          "good",
          "bad",
          "good",
          "good",
          "good",
          "good",
          "good",
          "bad",
          "good",
          "bad",
          "good",
          "good",
          "good",
          "good",
          "bad",
          "bad",
          "good",
          "good",
          "good",
          "good",
          "good",
          "good",
          "bad",
          "bad",
          "bad",
          "good",
          "bad",
          "bad",
          "good",
          "bad",
          "good",
          "good",
          "bad",
          "good",
          "bad",
          "bad",
          "bad",
          "bad",
          "bad",
          "bad",
          "bad",
          "good",
          "good",
          "bad",
          "bad",
          "good",
          "good",
          "good",
          "bad",
          "good",
          "good",
          "good",
          "good",
          "good",
          "good",
          "bad",
          "good",
          "bad",
          "bad",
          "bad",
          "good",
          "good",
          "good",
          "good",
          "good",
          "bad",
          "good",
          "good",
          "good",
          "good",
          "bad",
          "good",
          "good",
          "bad",
          "good"
         ],
         "legendgroup": "",
         "marker": {
          "colors": [
           "#00cc96",
           "#00cc96",
           "#00cc96",
           "#ab63fa",
           "#00cc96",
           "#00cc96",
           "#00cc96",
           "#ab63fa",
           "#ab63fa",
           "#00cc96",
           "#00cc96",
           "#00cc96",
           "#00cc96",
           "#00cc96",
           "#00cc96",
           "#00cc96",
           "#ab63fa",
           "#00cc96",
           "#00cc96",
           "#ab63fa",
           "#ab63fa",
           "#00cc96",
           "#00cc96",
           "#00cc96",
           "#ab63fa",
           "#00cc96",
           "#00cc96",
           "#00cc96",
           "#00cc96",
           "#ab63fa",
           "#00cc96",
           "#ab63fa",
           "#00cc96",
           "#ab63fa",
           "#00cc96",
           "#ab63fa",
           "#ab63fa",
           "#ab63fa",
           "#00cc96",
           "#00cc96",
           "#00cc96",
           "#00cc96",
           "#ab63fa",
           "#00cc96",
           "#00cc96",
           "#00cc96",
           "#00cc96",
           "#00cc96",
           "#00cc96",
           "#00cc96",
           "#00cc96",
           "#ab63fa",
           "#ab63fa",
           "#00cc96",
           "#ab63fa",
           "#00cc96",
           "#00cc96",
           "#00cc96",
           "#00cc96",
           "#ab63fa",
           "#00cc96",
           "#00cc96",
           "#ab63fa",
           "#00cc96",
           "#00cc96",
           "#00cc96",
           "#00cc96",
           "#00cc96",
           "#00cc96",
           "#ab63fa",
           "#ab63fa",
           "#00cc96",
           "#00cc96",
           "#00cc96",
           "#00cc96",
           "#00cc96",
           "#00cc96",
           "#ab63fa",
           "#00cc96",
           "#00cc96",
           "#00cc96",
           "#00cc96",
           "#00cc96",
           "#00cc96",
           "#ab63fa",
           "#00cc96",
           "#ab63fa",
           "#00cc96",
           "#00cc96",
           "#00cc96",
           "#00cc96",
           "#ab63fa",
           "#00cc96",
           "#00cc96",
           "#00cc96",
           "#ab63fa",
           "#00cc96",
           "#00cc96",
           "#00cc96",
           "#ab63fa",
           "#ab63fa",
           "#ab63fa",
           "#ab63fa",
           "#00cc96",
           "#00cc96",
           "#00cc96",
           "#00cc96",
           "#00cc96",
           "#ab63fa",
           "#00cc96",
           "#00cc96",
           "#00cc96",
           "#00cc96",
           "#ab63fa",
           "#00cc96",
           "#ab63fa",
           "#ab63fa",
           "#ab63fa",
           "#ab63fa",
           "#ab63fa",
           "#00cc96",
           "#ab63fa",
           "#00cc96",
           "#00cc96",
           "#00cc96",
           "#00cc96",
           "#00cc96",
           "#00cc96",
           "#ab63fa",
           "#00cc96",
           "#00cc96",
           "#00cc96",
           "#00cc96",
           "#ab63fa",
           "#ab63fa",
           "#00cc96",
           "#00cc96",
           "#00cc96",
           "#00cc96",
           "#00cc96",
           "#00cc96",
           "#00cc96",
           "#ab63fa",
           "#00cc96",
           "#ab63fa",
           "#00cc96",
           "#00cc96",
           "#00cc96",
           "#ab63fa",
           "#ab63fa",
           "#ab63fa",
           "#00cc96",
           "#00cc96",
           "#00cc96",
           "#00cc96",
           "#00cc96",
           "#00cc96",
           "#00cc96",
           "#00cc96",
           "#ab63fa",
           "#00cc96",
           "#00cc96",
           "#ab63fa",
           "#00cc96",
           "#00cc96",
           "#00cc96",
           "#00cc96",
           "#00cc96",
           "#ab63fa",
           "#00cc96",
           "#00cc96",
           "#ab63fa",
           "#ab63fa",
           "#ab63fa",
           "#00cc96",
           "#00cc96",
           "#00cc96",
           "#ab63fa",
           "#00cc96",
           "#00cc96",
           "#00cc96",
           "#00cc96",
           "#00cc96",
           "#00cc96",
           "#ab63fa",
           "#00cc96",
           "#00cc96",
           "#00cc96",
           "#00cc96",
           "#00cc96",
           "#00cc96",
           "#ab63fa",
           "#00cc96",
           "#00cc96",
           "#00cc96",
           "#00cc96",
           "#00cc96",
           "#ab63fa",
           "#ab63fa",
           "#00cc96",
           "#ab63fa",
           "#00cc96",
           "#00cc96",
           "#00cc96",
           "#ab63fa",
           "#ab63fa",
           "#ab63fa",
           "#00cc96",
           "#00cc96",
           "#ab63fa",
           "#ab63fa",
           "#ab63fa",
           "#ab63fa",
           "#00cc96",
           "#ab63fa",
           "#00cc96",
           "#00cc96",
           "#00cc96",
           "#00cc96",
           "#00cc96",
           "#ab63fa",
           "#00cc96",
           "#00cc96",
           "#ab63fa",
           "#00cc96",
           "#ab63fa",
           "#ab63fa",
           "#00cc96",
           "#ab63fa",
           "#00cc96",
           "#ab63fa",
           "#ab63fa",
           "#ab63fa",
           "#00cc96",
           "#ab63fa",
           "#ab63fa",
           "#ab63fa",
           "#ab63fa",
           "#ab63fa",
           "#ab63fa",
           "#00cc96",
           "#ab63fa",
           "#ab63fa",
           "#ab63fa",
           "#ab63fa",
           "#ab63fa",
           "#00cc96",
           "#00cc96",
           "#ab63fa",
           "#ab63fa",
           "#ab63fa",
           "#ab63fa",
           "#00cc96",
           "#00cc96",
           "#ab63fa",
           "#00cc96",
           "#00cc96",
           "#00cc96",
           "#00cc96",
           "#ab63fa",
           "#00cc96",
           "#00cc96",
           "#00cc96",
           "#00cc96",
           "#00cc96",
           "#ab63fa",
           "#00cc96",
           "#ab63fa",
           "#ab63fa",
           "#ab63fa",
           "#ab63fa",
           "#ab63fa",
           "#00cc96",
           "#00cc96",
           "#00cc96",
           "#ab63fa",
           "#ab63fa",
           "#ab63fa",
           "#ab63fa",
           "#ab63fa",
           "#ab63fa",
           "#ab63fa",
           "#00cc96",
           "#ab63fa",
           "#00cc96",
           "#00cc96",
           "#ab63fa",
           "#ab63fa",
           "#ab63fa",
           "#00cc96",
           "#ab63fa",
           "#00cc96",
           "#ab63fa",
           "#ab63fa",
           "#ab63fa",
           "#00cc96",
           "#00cc96",
           "#00cc96",
           "#00cc96",
           "#00cc96",
           "#ab63fa",
           "#ab63fa",
           "#00cc96",
           "#00cc96",
           "#00cc96",
           "#ab63fa",
           "#00cc96",
           "#ab63fa",
           "#ab63fa",
           "#ab63fa",
           "#ab63fa",
           "#ab63fa",
           "#ab63fa",
           "#00cc96",
           "#00cc96",
           "#ab63fa",
           "#00cc96",
           "#ab63fa",
           "#ab63fa",
           "#ab63fa",
           "#ab63fa",
           "#00cc96",
           "#00cc96",
           "#ab63fa",
           "#ab63fa",
           "#ab63fa",
           "#ab63fa",
           "#00cc96",
           "#ab63fa",
           "#00cc96",
           "#ab63fa",
           "#ab63fa",
           "#ab63fa",
           "#00cc96",
           "#ab63fa",
           "#ab63fa",
           "#ab63fa",
           "#00cc96",
           "#ab63fa",
           "#ab63fa",
           "#ab63fa",
           "#ab63fa",
           "#ab63fa",
           "#ab63fa",
           "#ab63fa",
           "#00cc96",
           "#ab63fa",
           "#ab63fa",
           "#ab63fa",
           "#ab63fa",
           "#ab63fa",
           "#ab63fa",
           "#00cc96",
           "#00cc96",
           "#ab63fa",
           "#ab63fa",
           "#00cc96",
           "#ab63fa",
           "#ab63fa",
           "#ab63fa",
           "#00cc96",
           "#ab63fa",
           "#00cc96",
           "#00cc96",
           "#ab63fa",
           "#ab63fa",
           "#ab63fa",
           "#00cc96",
           "#00cc96",
           "#ab63fa",
           "#00cc96",
           "#ab63fa",
           "#ab63fa",
           "#00cc96",
           "#ab63fa",
           "#ab63fa",
           "#ab63fa",
           "#ab63fa",
           "#ab63fa",
           "#ab63fa",
           "#ab63fa",
           "#ab63fa",
           "#ab63fa",
           "#ab63fa",
           "#00cc96",
           "#ab63fa",
           "#ab63fa",
           "#ab63fa",
           "#ab63fa",
           "#ab63fa",
           "#ab63fa",
           "#ab63fa",
           "#00cc96",
           "#00cc96",
           "#00cc96",
           "#ab63fa",
           "#00cc96",
           "#ab63fa",
           "#ab63fa",
           "#00cc96",
           "#00cc96",
           "#ab63fa",
           "#ab63fa",
           "#ab63fa",
           "#00cc96",
           "#ab63fa",
           "#ab63fa",
           "#ab63fa",
           "#ab63fa",
           "#00cc96",
           "#ab63fa",
           "#00cc96",
           "#00cc96",
           "#ab63fa",
           "#00cc96",
           "#00cc96",
           "#ab63fa",
           "#00cc96",
           "#ab63fa",
           "#00cc96",
           "#ab63fa",
           "#ab63fa",
           "#00cc96",
           "#ab63fa",
           "#00cc96",
           "#ab63fa",
           "#ab63fa",
           "#ab63fa",
           "#00cc96",
           "#ab63fa",
           "#ab63fa",
           "#00cc96",
           "#ab63fa",
           "#00cc96",
           "#ab63fa",
           "#00cc96",
           "#ab63fa",
           "#ab63fa",
           "#ab63fa",
           "#00cc96",
           "#ab63fa",
           "#ab63fa",
           "#ab63fa",
           "#ab63fa",
           "#ab63fa",
           "#ab63fa",
           "#00cc96",
           "#00cc96",
           "#ab63fa",
           "#ab63fa",
           "#ab63fa",
           "#ab63fa",
           "#ab63fa",
           "#ab63fa",
           "#00cc96",
           "#ab63fa",
           "#00cc96",
           "#00cc96",
           "#ab63fa",
           "#00cc96",
           "#ab63fa",
           "#00cc96",
           "#00cc96",
           "#00cc96",
           "#ab63fa",
           "#00cc96",
           "#ab63fa",
           "#ab63fa",
           "#ab63fa",
           "#00cc96",
           "#00cc96",
           "#ab63fa",
           "#ab63fa",
           "#00cc96",
           "#ab63fa",
           "#00cc96",
           "#00cc96",
           "#ab63fa",
           "#00cc96",
           "#ab63fa",
           "#00cc96",
           "#ab63fa",
           "#00cc96",
           "#00cc96",
           "#ab63fa",
           "#00cc96",
           "#00cc96",
           "#ab63fa",
           "#ab63fa",
           "#ab63fa",
           "#ab63fa",
           "#ab63fa",
           "#ab63fa",
           "#ab63fa",
           "#ab63fa",
           "#ab63fa",
           "#ab63fa",
           "#00cc96",
           "#ab63fa",
           "#ab63fa",
           "#ab63fa",
           "#ab63fa",
           "#ab63fa",
           "#ab63fa",
           "#ab63fa",
           "#ab63fa",
           "#ab63fa",
           "#ab63fa",
           "#ab63fa",
           "#ab63fa",
           "#00cc96",
           "#ab63fa",
           "#ab63fa",
           "#ab63fa",
           "#ab63fa",
           "#00cc96",
           "#ab63fa",
           "#00cc96",
           "#ab63fa",
           "#00cc96",
           "#ab63fa",
           "#00cc96",
           "#00cc96",
           "#00cc96",
           "#00cc96",
           "#00cc96",
           "#00cc96",
           "#ab63fa",
           "#ab63fa",
           "#00cc96",
           "#ab63fa",
           "#00cc96",
           "#00cc96",
           "#ab63fa",
           "#ab63fa",
           "#ab63fa",
           "#00cc96",
           "#ab63fa",
           "#ab63fa",
           "#00cc96",
           "#00cc96",
           "#ab63fa",
           "#00cc96",
           "#ab63fa",
           "#ab63fa",
           "#00cc96",
           "#ab63fa",
           "#ab63fa",
           "#ab63fa",
           "#ab63fa",
           "#ab63fa",
           "#ab63fa",
           "#ab63fa",
           "#00cc96",
           "#00cc96",
           "#00cc96",
           "#ab63fa",
           "#00cc96",
           "#ab63fa",
           "#ab63fa",
           "#00cc96",
           "#00cc96",
           "#00cc96",
           "#ab63fa",
           "#ab63fa",
           "#00cc96",
           "#ab63fa",
           "#ab63fa",
           "#ab63fa",
           "#ab63fa",
           "#ab63fa",
           "#ab63fa",
           "#00cc96",
           "#00cc96",
           "#ab63fa",
           "#ab63fa",
           "#00cc96",
           "#00cc96",
           "#00cc96",
           "#ab63fa",
           "#00cc96",
           "#00cc96",
           "#00cc96",
           "#ab63fa",
           "#ab63fa",
           "#ab63fa",
           "#ab63fa",
           "#00cc96",
           "#ab63fa",
           "#ab63fa",
           "#00cc96",
           "#ab63fa",
           "#00cc96",
           "#00cc96",
           "#00cc96",
           "#00cc96",
           "#ab63fa",
           "#ab63fa",
           "#ab63fa",
           "#ab63fa",
           "#00cc96",
           "#ab63fa",
           "#00cc96",
           "#ab63fa",
           "#ab63fa",
           "#ab63fa",
           "#ab63fa",
           "#ab63fa",
           "#ab63fa",
           "#ab63fa",
           "#00cc96",
           "#00cc96",
           "#ab63fa",
           "#00cc96",
           "#ab63fa",
           "#00cc96",
           "#00cc96",
           "#ab63fa",
           "#00cc96",
           "#00cc96",
           "#00cc96",
           "#00cc96",
           "#00cc96",
           "#ab63fa",
           "#00cc96",
           "#00cc96",
           "#00cc96",
           "#00cc96",
           "#ab63fa",
           "#00cc96",
           "#ab63fa",
           "#00cc96",
           "#ab63fa",
           "#00cc96",
           "#00cc96",
           "#00cc96",
           "#00cc96",
           "#00cc96",
           "#ab63fa",
           "#ab63fa",
           "#00cc96",
           "#00cc96",
           "#00cc96",
           "#00cc96",
           "#00cc96",
           "#ab63fa",
           "#00cc96",
           "#00cc96",
           "#ab63fa",
           "#ab63fa",
           "#00cc96",
           "#00cc96",
           "#00cc96",
           "#ab63fa",
           "#00cc96",
           "#00cc96",
           "#00cc96",
           "#ab63fa",
           "#ab63fa",
           "#00cc96",
           "#ab63fa",
           "#00cc96",
           "#ab63fa",
           "#ab63fa",
           "#00cc96",
           "#00cc96",
           "#ab63fa",
           "#ab63fa",
           "#00cc96",
           "#ab63fa",
           "#00cc96",
           "#00cc96",
           "#00cc96",
           "#00cc96",
           "#ab63fa",
           "#00cc96",
           "#ab63fa",
           "#00cc96",
           "#00cc96",
           "#00cc96",
           "#00cc96",
           "#ab63fa",
           "#00cc96",
           "#00cc96",
           "#00cc96",
           "#00cc96",
           "#00cc96",
           "#00cc96",
           "#00cc96",
           "#00cc96",
           "#00cc96",
           "#00cc96",
           "#00cc96",
           "#00cc96",
           "#00cc96",
           "#ab63fa",
           "#ab63fa",
           "#ab63fa",
           "#00cc96",
           "#ab63fa",
           "#ab63fa",
           "#ab63fa",
           "#ab63fa",
           "#00cc96",
           "#00cc96",
           "#00cc96",
           "#00cc96",
           "#00cc96",
           "#ab63fa",
           "#ab63fa",
           "#00cc96",
           "#00cc96",
           "#00cc96",
           "#00cc96",
           "#00cc96",
           "#ab63fa",
           "#00cc96",
           "#00cc96",
           "#00cc96",
           "#00cc96",
           "#00cc96",
           "#00cc96",
           "#00cc96",
           "#00cc96",
           "#00cc96",
           "#00cc96",
           "#ab63fa",
           "#00cc96",
           "#00cc96",
           "#ab63fa",
           "#00cc96",
           "#00cc96",
           "#00cc96",
           "#00cc96",
           "#00cc96",
           "#00cc96",
           "#00cc96",
           "#ab63fa",
           "#00cc96",
           "#00cc96",
           "#ab63fa",
           "#00cc96",
           "#00cc96",
           "#00cc96",
           "#00cc96",
           "#ab63fa",
           "#ab63fa",
           "#00cc96",
           "#ab63fa",
           "#ab63fa",
           "#00cc96",
           "#00cc96",
           "#00cc96",
           "#00cc96",
           "#ab63fa",
           "#ab63fa",
           "#ab63fa",
           "#00cc96",
           "#00cc96",
           "#00cc96",
           "#00cc96",
           "#00cc96",
           "#ab63fa",
           "#00cc96",
           "#ab63fa",
           "#ab63fa",
           "#00cc96",
           "#00cc96",
           "#ab63fa",
           "#00cc96",
           "#ab63fa",
           "#00cc96",
           "#00cc96",
           "#ab63fa",
           "#ab63fa",
           "#00cc96",
           "#ab63fa",
           "#ab63fa",
           "#00cc96",
           "#00cc96",
           "#ab63fa",
           "#00cc96",
           "#00cc96",
           "#00cc96",
           "#00cc96",
           "#00cc96",
           "#00cc96",
           "#ab63fa",
           "#ab63fa",
           "#00cc96",
           "#ab63fa",
           "#00cc96",
           "#ab63fa",
           "#00cc96",
           "#ab63fa",
           "#00cc96",
           "#00cc96",
           "#ab63fa",
           "#ab63fa",
           "#ab63fa",
           "#00cc96",
           "#00cc96",
           "#ab63fa",
           "#ab63fa",
           "#ab63fa",
           "#ab63fa",
           "#ab63fa",
           "#ab63fa",
           "#00cc96",
           "#ab63fa",
           "#00cc96",
           "#ab63fa",
           "#00cc96",
           "#00cc96",
           "#ab63fa",
           "#00cc96",
           "#ab63fa",
           "#ab63fa",
           "#00cc96",
           "#00cc96",
           "#00cc96",
           "#ab63fa",
           "#00cc96",
           "#00cc96",
           "#00cc96",
           "#00cc96",
           "#ab63fa",
           "#00cc96",
           "#ab63fa",
           "#ab63fa",
           "#00cc96",
           "#ab63fa",
           "#00cc96",
           "#00cc96",
           "#00cc96",
           "#00cc96",
           "#ab63fa",
           "#ab63fa",
           "#ab63fa",
           "#00cc96",
           "#ab63fa",
           "#00cc96",
           "#ab63fa",
           "#00cc96",
           "#ab63fa",
           "#00cc96",
           "#00cc96",
           "#ab63fa",
           "#00cc96",
           "#00cc96",
           "#00cc96",
           "#00cc96",
           "#00cc96",
           "#ab63fa",
           "#ab63fa",
           "#ab63fa",
           "#ab63fa",
           "#ab63fa",
           "#ab63fa",
           "#ab63fa",
           "#00cc96",
           "#ab63fa",
           "#00cc96",
           "#00cc96",
           "#00cc96",
           "#00cc96",
           "#ab63fa",
           "#ab63fa",
           "#ab63fa",
           "#ab63fa",
           "#ab63fa",
           "#00cc96",
           "#00cc96",
           "#ab63fa",
           "#ab63fa",
           "#ab63fa",
           "#00cc96",
           "#ab63fa",
           "#ab63fa",
           "#00cc96",
           "#00cc96",
           "#ab63fa",
           "#ab63fa",
           "#00cc96",
           "#ab63fa",
           "#00cc96",
           "#ab63fa",
           "#ab63fa",
           "#ab63fa",
           "#00cc96",
           "#00cc96",
           "#00cc96",
           "#ab63fa",
           "#00cc96",
           "#ab63fa",
           "#ab63fa",
           "#ab63fa",
           "#ab63fa",
           "#ab63fa",
           "#00cc96",
           "#00cc96",
           "#ab63fa",
           "#ab63fa",
           "#ab63fa",
           "#ab63fa",
           "#00cc96",
           "#00cc96",
           "#ab63fa",
           "#ab63fa",
           "#ab63fa",
           "#ab63fa",
           "#ab63fa",
           "#ab63fa",
           "#ab63fa",
           "#ab63fa",
           "#ab63fa",
           "#00cc96",
           "#ab63fa",
           "#ab63fa",
           "#ab63fa",
           "#00cc96",
           "#ab63fa",
           "#ab63fa",
           "#ab63fa",
           "#00cc96",
           "#ab63fa",
           "#ab63fa",
           "#00cc96",
           "#00cc96",
           "#ab63fa",
           "#00cc96",
           "#00cc96",
           "#ab63fa",
           "#00cc96",
           "#00cc96",
           "#ab63fa",
           "#ab63fa",
           "#00cc96",
           "#ab63fa",
           "#00cc96",
           "#ab63fa",
           "#ab63fa",
           "#ab63fa",
           "#ab63fa",
           "#ab63fa",
           "#ab63fa",
           "#ab63fa",
           "#ab63fa",
           "#ab63fa",
           "#ab63fa",
           "#ab63fa",
           "#ab63fa",
           "#ab63fa",
           "#ab63fa",
           "#ab63fa",
           "#00cc96",
           "#ab63fa",
           "#ab63fa",
           "#ab63fa",
           "#00cc96",
           "#ab63fa",
           "#00cc96",
           "#00cc96",
           "#ab63fa",
           "#ab63fa",
           "#ab63fa",
           "#ab63fa",
           "#00cc96",
           "#ab63fa",
           "#00cc96",
           "#ab63fa",
           "#ab63fa",
           "#ab63fa",
           "#00cc96",
           "#ab63fa",
           "#00cc96",
           "#00cc96",
           "#00cc96",
           "#ab63fa",
           "#00cc96",
           "#ab63fa",
           "#00cc96",
           "#ab63fa",
           "#ab63fa",
           "#00cc96",
           "#ab63fa",
           "#ab63fa",
           "#00cc96",
           "#00cc96",
           "#ab63fa",
           "#00cc96",
           "#00cc96",
           "#ab63fa",
           "#00cc96",
           "#00cc96",
           "#ab63fa",
           "#ab63fa",
           "#ab63fa",
           "#ab63fa",
           "#ab63fa",
           "#ab63fa",
           "#ab63fa",
           "#ab63fa",
           "#ab63fa",
           "#00cc96",
           "#ab63fa",
           "#ab63fa",
           "#ab63fa",
           "#ab63fa",
           "#00cc96",
           "#ab63fa",
           "#ab63fa",
           "#00cc96",
           "#ab63fa",
           "#ab63fa",
           "#ab63fa",
           "#ab63fa",
           "#ab63fa",
           "#ab63fa",
           "#00cc96",
           "#ab63fa",
           "#ab63fa",
           "#00cc96",
           "#ab63fa",
           "#ab63fa",
           "#ab63fa",
           "#ab63fa",
           "#00cc96",
           "#ab63fa",
           "#ab63fa",
           "#ab63fa",
           "#ab63fa",
           "#00cc96",
           "#ab63fa",
           "#ab63fa",
           "#ab63fa",
           "#ab63fa",
           "#00cc96",
           "#ab63fa",
           "#ab63fa",
           "#00cc96",
           "#ab63fa",
           "#ab63fa",
           "#ab63fa",
           "#ab63fa",
           "#ab63fa",
           "#ab63fa",
           "#00cc96",
           "#ab63fa",
           "#ab63fa",
           "#00cc96",
           "#00cc96",
           "#00cc96",
           "#ab63fa",
           "#ab63fa",
           "#ab63fa",
           "#ab63fa",
           "#00cc96",
           "#ab63fa",
           "#ab63fa",
           "#ab63fa",
           "#ab63fa",
           "#ab63fa",
           "#ab63fa",
           "#ab63fa",
           "#ab63fa",
           "#ab63fa",
           "#ab63fa",
           "#ab63fa",
           "#00cc96",
           "#ab63fa",
           "#00cc96",
           "#ab63fa",
           "#ab63fa",
           "#00cc96",
           "#ab63fa",
           "#ab63fa",
           "#00cc96",
           "#00cc96",
           "#ab63fa",
           "#ab63fa",
           "#ab63fa",
           "#ab63fa",
           "#ab63fa",
           "#ab63fa",
           "#00cc96",
           "#ab63fa",
           "#ab63fa",
           "#ab63fa",
           "#ab63fa",
           "#ab63fa",
           "#ab63fa",
           "#ab63fa",
           "#ab63fa",
           "#ab63fa",
           "#00cc96",
           "#ab63fa",
           "#00cc96",
           "#ab63fa",
           "#00cc96",
           "#ab63fa",
           "#ab63fa",
           "#ab63fa",
           "#ab63fa",
           "#ab63fa",
           "#00cc96",
           "#ab63fa",
           "#ab63fa",
           "#00cc96",
           "#ab63fa",
           "#ab63fa",
           "#ab63fa",
           "#ab63fa",
           "#ab63fa",
           "#ab63fa",
           "#ab63fa",
           "#ab63fa",
           "#ab63fa",
           "#ab63fa",
           "#00cc96",
           "#ab63fa",
           "#ab63fa",
           "#ab63fa",
           "#ab63fa",
           "#00cc96",
           "#ab63fa",
           "#ab63fa",
           "#ab63fa",
           "#00cc96",
           "#ab63fa",
           "#ab63fa",
           "#00cc96",
           "#ab63fa",
           "#ab63fa",
           "#ab63fa",
           "#ab63fa",
           "#ab63fa",
           "#ab63fa",
           "#00cc96",
           "#ab63fa",
           "#ab63fa",
           "#ab63fa",
           "#ab63fa",
           "#ab63fa",
           "#00cc96",
           "#ab63fa",
           "#ab63fa",
           "#ab63fa",
           "#ab63fa",
           "#ab63fa",
           "#ab63fa",
           "#ab63fa",
           "#00cc96",
           "#ab63fa",
           "#ab63fa",
           "#00cc96",
           "#ab63fa",
           "#ab63fa",
           "#ab63fa",
           "#00cc96",
           "#ab63fa",
           "#ab63fa",
           "#ab63fa",
           "#00cc96",
           "#00cc96",
           "#00cc96",
           "#00cc96",
           "#ab63fa",
           "#ab63fa",
           "#ab63fa",
           "#ab63fa",
           "#ab63fa",
           "#ab63fa",
           "#ab63fa",
           "#ab63fa",
           "#ab63fa",
           "#00cc96",
           "#ab63fa",
           "#00cc96",
           "#ab63fa",
           "#ab63fa",
           "#00cc96",
           "#ab63fa",
           "#00cc96",
           "#00cc96",
           "#ab63fa",
           "#00cc96",
           "#ab63fa",
           "#00cc96",
           "#00cc96",
           "#ab63fa",
           "#00cc96",
           "#ab63fa",
           "#00cc96",
           "#ab63fa",
           "#ab63fa",
           "#ab63fa",
           "#ab63fa",
           "#ab63fa",
           "#ab63fa",
           "#ab63fa",
           "#ab63fa",
           "#ab63fa",
           "#00cc96",
           "#ab63fa",
           "#ab63fa",
           "#ab63fa",
           "#00cc96",
           "#ab63fa",
           "#ab63fa",
           "#ab63fa",
           "#00cc96",
           "#ab63fa",
           "#ab63fa",
           "#ab63fa",
           "#ab63fa",
           "#ab63fa",
           "#ab63fa",
           "#ab63fa",
           "#ab63fa",
           "#ab63fa",
           "#ab63fa",
           "#ab63fa",
           "#ab63fa",
           "#ab63fa",
           "#00cc96",
           "#00cc96",
           "#00cc96",
           "#ab63fa",
           "#00cc96",
           "#ab63fa",
           "#00cc96",
           "#00cc96",
           "#00cc96",
           "#ab63fa",
           "#00cc96",
           "#ab63fa",
           "#ab63fa",
           "#00cc96",
           "#00cc96",
           "#00cc96",
           "#00cc96",
           "#ab63fa",
           "#00cc96",
           "#ab63fa",
           "#00cc96",
           "#00cc96",
           "#00cc96",
           "#ab63fa",
           "#ab63fa",
           "#ab63fa",
           "#00cc96",
           "#00cc96",
           "#00cc96",
           "#00cc96",
           "#00cc96",
           "#00cc96",
           "#ab63fa",
           "#ab63fa",
           "#ab63fa",
           "#00cc96",
           "#00cc96",
           "#00cc96",
           "#00cc96",
           "#ab63fa",
           "#ab63fa",
           "#ab63fa",
           "#ab63fa",
           "#ab63fa",
           "#ab63fa",
           "#ab63fa",
           "#ab63fa",
           "#00cc96",
           "#00cc96",
           "#ab63fa",
           "#ab63fa",
           "#00cc96",
           "#ab63fa",
           "#ab63fa",
           "#ab63fa",
           "#ab63fa",
           "#ab63fa",
           "#ab63fa",
           "#ab63fa",
           "#00cc96",
           "#00cc96",
           "#ab63fa",
           "#00cc96",
           "#00cc96",
           "#00cc96",
           "#00cc96",
           "#ab63fa",
           "#ab63fa",
           "#00cc96",
           "#ab63fa",
           "#00cc96",
           "#00cc96",
           "#ab63fa",
           "#ab63fa",
           "#00cc96",
           "#ab63fa",
           "#ab63fa",
           "#ab63fa",
           "#00cc96",
           "#00cc96",
           "#00cc96",
           "#00cc96",
           "#00cc96",
           "#00cc96",
           "#00cc96",
           "#00cc96",
           "#ab63fa",
           "#00cc96",
           "#ab63fa",
           "#ab63fa",
           "#ab63fa",
           "#ab63fa",
           "#ab63fa",
           "#ab63fa",
           "#ab63fa",
           "#00cc96",
           "#ab63fa",
           "#00cc96",
           "#ab63fa",
           "#ab63fa",
           "#ab63fa",
           "#ab63fa",
           "#ab63fa",
           "#00cc96",
           "#ab63fa",
           "#ab63fa",
           "#00cc96",
           "#ab63fa",
           "#00cc96",
           "#00cc96",
           "#ab63fa",
           "#00cc96",
           "#00cc96",
           "#00cc96",
           "#ab63fa",
           "#ab63fa",
           "#ab63fa",
           "#ab63fa",
           "#ab63fa",
           "#00cc96",
           "#ab63fa",
           "#00cc96",
           "#00cc96",
           "#00cc96",
           "#00cc96",
           "#00cc96",
           "#ab63fa",
           "#00cc96",
           "#00cc96",
           "#00cc96",
           "#00cc96",
           "#00cc96",
           "#ab63fa",
           "#00cc96",
           "#ab63fa",
           "#00cc96",
           "#00cc96",
           "#ab63fa",
           "#00cc96",
           "#ab63fa",
           "#00cc96",
           "#00cc96",
           "#ab63fa",
           "#ab63fa",
           "#00cc96",
           "#00cc96",
           "#ab63fa",
           "#00cc96",
           "#00cc96",
           "#00cc96",
           "#00cc96",
           "#00cc96",
           "#ab63fa",
           "#ab63fa",
           "#ab63fa",
           "#ab63fa",
           "#00cc96",
           "#00cc96",
           "#00cc96",
           "#00cc96",
           "#00cc96",
           "#00cc96",
           "#00cc96",
           "#00cc96",
           "#00cc96",
           "#ab63fa",
           "#00cc96",
           "#00cc96",
           "#00cc96",
           "#00cc96",
           "#ab63fa",
           "#00cc96",
           "#00cc96",
           "#ab63fa",
           "#ab63fa",
           "#00cc96",
           "#00cc96",
           "#ab63fa",
           "#ab63fa",
           "#ab63fa",
           "#ab63fa",
           "#ab63fa",
           "#ab63fa",
           "#ab63fa",
           "#ab63fa",
           "#ab63fa",
           "#ab63fa",
           "#ab63fa",
           "#00cc96",
           "#00cc96",
           "#00cc96",
           "#00cc96",
           "#ab63fa",
           "#00cc96",
           "#00cc96",
           "#00cc96",
           "#00cc96",
           "#ab63fa",
           "#00cc96",
           "#ab63fa",
           "#ab63fa",
           "#ab63fa",
           "#00cc96",
           "#00cc96",
           "#00cc96",
           "#00cc96",
           "#ab63fa",
           "#ab63fa",
           "#ab63fa",
           "#ab63fa",
           "#ab63fa",
           "#00cc96",
           "#00cc96",
           "#00cc96",
           "#ab63fa",
           "#ab63fa",
           "#ab63fa",
           "#00cc96",
           "#00cc96",
           "#ab63fa",
           "#ab63fa",
           "#00cc96",
           "#00cc96",
           "#00cc96",
           "#ab63fa",
           "#ab63fa",
           "#ab63fa",
           "#ab63fa",
           "#00cc96",
           "#ab63fa",
           "#ab63fa",
           "#ab63fa",
           "#00cc96",
           "#00cc96",
           "#ab63fa",
           "#ab63fa",
           "#00cc96",
           "#ab63fa",
           "#ab63fa",
           "#00cc96",
           "#00cc96",
           "#ab63fa",
           "#00cc96",
           "#ab63fa",
           "#00cc96",
           "#00cc96",
           "#00cc96",
           "#ab63fa",
           "#00cc96",
           "#00cc96",
           "#ab63fa",
           "#00cc96",
           "#ab63fa",
           "#00cc96",
           "#00cc96",
           "#00cc96",
           "#00cc96",
           "#00cc96",
           "#00cc96",
           "#00cc96",
           "#00cc96",
           "#00cc96",
           "#00cc96",
           "#00cc96",
           "#ab63fa",
           "#ab63fa",
           "#00cc96",
           "#00cc96",
           "#00cc96",
           "#ab63fa",
           "#ab63fa",
           "#00cc96",
           "#ab63fa",
           "#ab63fa",
           "#ab63fa",
           "#00cc96",
           "#00cc96",
           "#00cc96",
           "#ab63fa",
           "#ab63fa",
           "#00cc96",
           "#ab63fa",
           "#ab63fa",
           "#ab63fa",
           "#00cc96",
           "#ab63fa",
           "#00cc96",
           "#ab63fa",
           "#ab63fa",
           "#ab63fa",
           "#ab63fa",
           "#00cc96",
           "#ab63fa",
           "#00cc96",
           "#00cc96",
           "#ab63fa",
           "#00cc96",
           "#00cc96",
           "#00cc96",
           "#ab63fa",
           "#00cc96",
           "#ab63fa",
           "#ab63fa",
           "#ab63fa",
           "#ab63fa",
           "#ab63fa",
           "#00cc96",
           "#ab63fa",
           "#00cc96",
           "#ab63fa",
           "#ab63fa",
           "#ab63fa",
           "#ab63fa",
           "#00cc96",
           "#00cc96",
           "#ab63fa",
           "#ab63fa",
           "#ab63fa",
           "#ab63fa",
           "#ab63fa",
           "#ab63fa",
           "#00cc96",
           "#00cc96",
           "#00cc96",
           "#ab63fa",
           "#00cc96",
           "#00cc96",
           "#ab63fa",
           "#00cc96",
           "#ab63fa",
           "#ab63fa",
           "#00cc96",
           "#ab63fa",
           "#00cc96",
           "#00cc96",
           "#00cc96",
           "#00cc96",
           "#00cc96",
           "#00cc96",
           "#00cc96",
           "#ab63fa",
           "#ab63fa",
           "#00cc96",
           "#00cc96",
           "#ab63fa",
           "#ab63fa",
           "#ab63fa",
           "#00cc96",
           "#ab63fa",
           "#ab63fa",
           "#ab63fa",
           "#ab63fa",
           "#ab63fa",
           "#ab63fa",
           "#00cc96",
           "#ab63fa",
           "#00cc96",
           "#00cc96",
           "#00cc96",
           "#ab63fa",
           "#ab63fa",
           "#ab63fa",
           "#ab63fa",
           "#ab63fa",
           "#00cc96",
           "#ab63fa",
           "#ab63fa",
           "#ab63fa",
           "#ab63fa",
           "#00cc96",
           "#ab63fa",
           "#ab63fa",
           "#00cc96",
           "#ab63fa"
          ]
         },
         "name": "",
         "showlegend": true,
         "type": "pie"
        }
       ],
       "layout": {
        "legend": {
         "tracegroupgap": 0
        },
        "margin": {
         "t": 60
        },
        "template": {
         "data": {
          "bar": [
           {
            "error_x": {
             "color": "#2a3f5f"
            },
            "error_y": {
             "color": "#2a3f5f"
            },
            "marker": {
             "line": {
              "color": "#E5ECF6",
              "width": 0.5
             },
             "pattern": {
              "fillmode": "overlay",
              "size": 10,
              "solidity": 0.2
             }
            },
            "type": "bar"
           }
          ],
          "barpolar": [
           {
            "marker": {
             "line": {
              "color": "#E5ECF6",
              "width": 0.5
             },
             "pattern": {
              "fillmode": "overlay",
              "size": 10,
              "solidity": 0.2
             }
            },
            "type": "barpolar"
           }
          ],
          "carpet": [
           {
            "aaxis": {
             "endlinecolor": "#2a3f5f",
             "gridcolor": "white",
             "linecolor": "white",
             "minorgridcolor": "white",
             "startlinecolor": "#2a3f5f"
            },
            "baxis": {
             "endlinecolor": "#2a3f5f",
             "gridcolor": "white",
             "linecolor": "white",
             "minorgridcolor": "white",
             "startlinecolor": "#2a3f5f"
            },
            "type": "carpet"
           }
          ],
          "choropleth": [
           {
            "colorbar": {
             "outlinewidth": 0,
             "ticks": ""
            },
            "type": "choropleth"
           }
          ],
          "contour": [
           {
            "colorbar": {
             "outlinewidth": 0,
             "ticks": ""
            },
            "colorscale": [
             [
              0,
              "#0d0887"
             ],
             [
              0.1111111111111111,
              "#46039f"
             ],
             [
              0.2222222222222222,
              "#7201a8"
             ],
             [
              0.3333333333333333,
              "#9c179e"
             ],
             [
              0.4444444444444444,
              "#bd3786"
             ],
             [
              0.5555555555555556,
              "#d8576b"
             ],
             [
              0.6666666666666666,
              "#ed7953"
             ],
             [
              0.7777777777777778,
              "#fb9f3a"
             ],
             [
              0.8888888888888888,
              "#fdca26"
             ],
             [
              1,
              "#f0f921"
             ]
            ],
            "type": "contour"
           }
          ],
          "contourcarpet": [
           {
            "colorbar": {
             "outlinewidth": 0,
             "ticks": ""
            },
            "type": "contourcarpet"
           }
          ],
          "heatmap": [
           {
            "colorbar": {
             "outlinewidth": 0,
             "ticks": ""
            },
            "colorscale": [
             [
              0,
              "#0d0887"
             ],
             [
              0.1111111111111111,
              "#46039f"
             ],
             [
              0.2222222222222222,
              "#7201a8"
             ],
             [
              0.3333333333333333,
              "#9c179e"
             ],
             [
              0.4444444444444444,
              "#bd3786"
             ],
             [
              0.5555555555555556,
              "#d8576b"
             ],
             [
              0.6666666666666666,
              "#ed7953"
             ],
             [
              0.7777777777777778,
              "#fb9f3a"
             ],
             [
              0.8888888888888888,
              "#fdca26"
             ],
             [
              1,
              "#f0f921"
             ]
            ],
            "type": "heatmap"
           }
          ],
          "heatmapgl": [
           {
            "colorbar": {
             "outlinewidth": 0,
             "ticks": ""
            },
            "colorscale": [
             [
              0,
              "#0d0887"
             ],
             [
              0.1111111111111111,
              "#46039f"
             ],
             [
              0.2222222222222222,
              "#7201a8"
             ],
             [
              0.3333333333333333,
              "#9c179e"
             ],
             [
              0.4444444444444444,
              "#bd3786"
             ],
             [
              0.5555555555555556,
              "#d8576b"
             ],
             [
              0.6666666666666666,
              "#ed7953"
             ],
             [
              0.7777777777777778,
              "#fb9f3a"
             ],
             [
              0.8888888888888888,
              "#fdca26"
             ],
             [
              1,
              "#f0f921"
             ]
            ],
            "type": "heatmapgl"
           }
          ],
          "histogram": [
           {
            "marker": {
             "pattern": {
              "fillmode": "overlay",
              "size": 10,
              "solidity": 0.2
             }
            },
            "type": "histogram"
           }
          ],
          "histogram2d": [
           {
            "colorbar": {
             "outlinewidth": 0,
             "ticks": ""
            },
            "colorscale": [
             [
              0,
              "#0d0887"
             ],
             [
              0.1111111111111111,
              "#46039f"
             ],
             [
              0.2222222222222222,
              "#7201a8"
             ],
             [
              0.3333333333333333,
              "#9c179e"
             ],
             [
              0.4444444444444444,
              "#bd3786"
             ],
             [
              0.5555555555555556,
              "#d8576b"
             ],
             [
              0.6666666666666666,
              "#ed7953"
             ],
             [
              0.7777777777777778,
              "#fb9f3a"
             ],
             [
              0.8888888888888888,
              "#fdca26"
             ],
             [
              1,
              "#f0f921"
             ]
            ],
            "type": "histogram2d"
           }
          ],
          "histogram2dcontour": [
           {
            "colorbar": {
             "outlinewidth": 0,
             "ticks": ""
            },
            "colorscale": [
             [
              0,
              "#0d0887"
             ],
             [
              0.1111111111111111,
              "#46039f"
             ],
             [
              0.2222222222222222,
              "#7201a8"
             ],
             [
              0.3333333333333333,
              "#9c179e"
             ],
             [
              0.4444444444444444,
              "#bd3786"
             ],
             [
              0.5555555555555556,
              "#d8576b"
             ],
             [
              0.6666666666666666,
              "#ed7953"
             ],
             [
              0.7777777777777778,
              "#fb9f3a"
             ],
             [
              0.8888888888888888,
              "#fdca26"
             ],
             [
              1,
              "#f0f921"
             ]
            ],
            "type": "histogram2dcontour"
           }
          ],
          "mesh3d": [
           {
            "colorbar": {
             "outlinewidth": 0,
             "ticks": ""
            },
            "type": "mesh3d"
           }
          ],
          "parcoords": [
           {
            "line": {
             "colorbar": {
              "outlinewidth": 0,
              "ticks": ""
             }
            },
            "type": "parcoords"
           }
          ],
          "pie": [
           {
            "automargin": true,
            "type": "pie"
           }
          ],
          "scatter": [
           {
            "fillpattern": {
             "fillmode": "overlay",
             "size": 10,
             "solidity": 0.2
            },
            "type": "scatter"
           }
          ],
          "scatter3d": [
           {
            "line": {
             "colorbar": {
              "outlinewidth": 0,
              "ticks": ""
             }
            },
            "marker": {
             "colorbar": {
              "outlinewidth": 0,
              "ticks": ""
             }
            },
            "type": "scatter3d"
           }
          ],
          "scattercarpet": [
           {
            "marker": {
             "colorbar": {
              "outlinewidth": 0,
              "ticks": ""
             }
            },
            "type": "scattercarpet"
           }
          ],
          "scattergeo": [
           {
            "marker": {
             "colorbar": {
              "outlinewidth": 0,
              "ticks": ""
             }
            },
            "type": "scattergeo"
           }
          ],
          "scattergl": [
           {
            "marker": {
             "colorbar": {
              "outlinewidth": 0,
              "ticks": ""
             }
            },
            "type": "scattergl"
           }
          ],
          "scattermapbox": [
           {
            "marker": {
             "colorbar": {
              "outlinewidth": 0,
              "ticks": ""
             }
            },
            "type": "scattermapbox"
           }
          ],
          "scatterpolar": [
           {
            "marker": {
             "colorbar": {
              "outlinewidth": 0,
              "ticks": ""
             }
            },
            "type": "scatterpolar"
           }
          ],
          "scatterpolargl": [
           {
            "marker": {
             "colorbar": {
              "outlinewidth": 0,
              "ticks": ""
             }
            },
            "type": "scatterpolargl"
           }
          ],
          "scatterternary": [
           {
            "marker": {
             "colorbar": {
              "outlinewidth": 0,
              "ticks": ""
             }
            },
            "type": "scatterternary"
           }
          ],
          "surface": [
           {
            "colorbar": {
             "outlinewidth": 0,
             "ticks": ""
            },
            "colorscale": [
             [
              0,
              "#0d0887"
             ],
             [
              0.1111111111111111,
              "#46039f"
             ],
             [
              0.2222222222222222,
              "#7201a8"
             ],
             [
              0.3333333333333333,
              "#9c179e"
             ],
             [
              0.4444444444444444,
              "#bd3786"
             ],
             [
              0.5555555555555556,
              "#d8576b"
             ],
             [
              0.6666666666666666,
              "#ed7953"
             ],
             [
              0.7777777777777778,
              "#fb9f3a"
             ],
             [
              0.8888888888888888,
              "#fdca26"
             ],
             [
              1,
              "#f0f921"
             ]
            ],
            "type": "surface"
           }
          ],
          "table": [
           {
            "cells": {
             "fill": {
              "color": "#EBF0F8"
             },
             "line": {
              "color": "white"
             }
            },
            "header": {
             "fill": {
              "color": "#C8D4E3"
             },
             "line": {
              "color": "white"
             }
            },
            "type": "table"
           }
          ]
         },
         "layout": {
          "annotationdefaults": {
           "arrowcolor": "#2a3f5f",
           "arrowhead": 0,
           "arrowwidth": 1
          },
          "autotypenumbers": "strict",
          "coloraxis": {
           "colorbar": {
            "outlinewidth": 0,
            "ticks": ""
           }
          },
          "colorscale": {
           "diverging": [
            [
             0,
             "#8e0152"
            ],
            [
             0.1,
             "#c51b7d"
            ],
            [
             0.2,
             "#de77ae"
            ],
            [
             0.3,
             "#f1b6da"
            ],
            [
             0.4,
             "#fde0ef"
            ],
            [
             0.5,
             "#f7f7f7"
            ],
            [
             0.6,
             "#e6f5d0"
            ],
            [
             0.7,
             "#b8e186"
            ],
            [
             0.8,
             "#7fbc41"
            ],
            [
             0.9,
             "#4d9221"
            ],
            [
             1,
             "#276419"
            ]
           ],
           "sequential": [
            [
             0,
             "#0d0887"
            ],
            [
             0.1111111111111111,
             "#46039f"
            ],
            [
             0.2222222222222222,
             "#7201a8"
            ],
            [
             0.3333333333333333,
             "#9c179e"
            ],
            [
             0.4444444444444444,
             "#bd3786"
            ],
            [
             0.5555555555555556,
             "#d8576b"
            ],
            [
             0.6666666666666666,
             "#ed7953"
            ],
            [
             0.7777777777777778,
             "#fb9f3a"
            ],
            [
             0.8888888888888888,
             "#fdca26"
            ],
            [
             1,
             "#f0f921"
            ]
           ],
           "sequentialminus": [
            [
             0,
             "#0d0887"
            ],
            [
             0.1111111111111111,
             "#46039f"
            ],
            [
             0.2222222222222222,
             "#7201a8"
            ],
            [
             0.3333333333333333,
             "#9c179e"
            ],
            [
             0.4444444444444444,
             "#bd3786"
            ],
            [
             0.5555555555555556,
             "#d8576b"
            ],
            [
             0.6666666666666666,
             "#ed7953"
            ],
            [
             0.7777777777777778,
             "#fb9f3a"
            ],
            [
             0.8888888888888888,
             "#fdca26"
            ],
            [
             1,
             "#f0f921"
            ]
           ]
          },
          "colorway": [
           "#636efa",
           "#EF553B",
           "#00cc96",
           "#ab63fa",
           "#FFA15A",
           "#19d3f3",
           "#FF6692",
           "#B6E880",
           "#FF97FF",
           "#FECB52"
          ],
          "font": {
           "color": "#2a3f5f"
          },
          "geo": {
           "bgcolor": "white",
           "lakecolor": "white",
           "landcolor": "#E5ECF6",
           "showlakes": true,
           "showland": true,
           "subunitcolor": "white"
          },
          "hoverlabel": {
           "align": "left"
          },
          "hovermode": "closest",
          "mapbox": {
           "style": "light"
          },
          "paper_bgcolor": "white",
          "plot_bgcolor": "#E5ECF6",
          "polar": {
           "angularaxis": {
            "gridcolor": "white",
            "linecolor": "white",
            "ticks": ""
           },
           "bgcolor": "#E5ECF6",
           "radialaxis": {
            "gridcolor": "white",
            "linecolor": "white",
            "ticks": ""
           }
          },
          "scene": {
           "xaxis": {
            "backgroundcolor": "#E5ECF6",
            "gridcolor": "white",
            "gridwidth": 2,
            "linecolor": "white",
            "showbackground": true,
            "ticks": "",
            "zerolinecolor": "white"
           },
           "yaxis": {
            "backgroundcolor": "#E5ECF6",
            "gridcolor": "white",
            "gridwidth": 2,
            "linecolor": "white",
            "showbackground": true,
            "ticks": "",
            "zerolinecolor": "white"
           },
           "zaxis": {
            "backgroundcolor": "#E5ECF6",
            "gridcolor": "white",
            "gridwidth": 2,
            "linecolor": "white",
            "showbackground": true,
            "ticks": "",
            "zerolinecolor": "white"
           }
          },
          "shapedefaults": {
           "line": {
            "color": "#2a3f5f"
           }
          },
          "ternary": {
           "aaxis": {
            "gridcolor": "white",
            "linecolor": "white",
            "ticks": ""
           },
           "baxis": {
            "gridcolor": "white",
            "linecolor": "white",
            "ticks": ""
           },
           "bgcolor": "#E5ECF6",
           "caxis": {
            "gridcolor": "white",
            "linecolor": "white",
            "ticks": ""
           }
          },
          "title": {
           "x": 0.05
          },
          "xaxis": {
           "automargin": true,
           "gridcolor": "white",
           "linecolor": "white",
           "ticks": "",
           "title": {
            "standoff": 15
           },
           "zerolinecolor": "white",
           "zerolinewidth": 2
          },
          "yaxis": {
           "automargin": true,
           "gridcolor": "white",
           "linecolor": "white",
           "ticks": "",
           "title": {
            "standoff": 15
           },
           "zerolinecolor": "white",
           "zerolinewidth": 2
          }
         }
        }
       }
      },
      "text/html": [
       "<div>                            <div id=\"2fb8fc81-4f8e-46dc-9fe2-ae1b04e97f93\" class=\"plotly-graph-div\" style=\"height:525px; width:100%;\"></div>            <script type=\"text/javascript\">                require([\"plotly\"], function(Plotly) {                    window.PLOTLYENV=window.PLOTLYENV || {};                                    if (document.getElementById(\"2fb8fc81-4f8e-46dc-9fe2-ae1b04e97f93\")) {                    Plotly.newPlot(                        \"2fb8fc81-4f8e-46dc-9fe2-ae1b04e97f93\",                        [{\"customdata\":[[\"bad\"],[\"bad\"],[\"bad\"],[\"good\"],[\"bad\"],[\"bad\"],[\"bad\"],[\"good\"],[\"good\"],[\"bad\"],[\"bad\"],[\"bad\"],[\"bad\"],[\"bad\"],[\"bad\"],[\"bad\"],[\"good\"],[\"bad\"],[\"bad\"],[\"good\"],[\"good\"],[\"bad\"],[\"bad\"],[\"bad\"],[\"good\"],[\"bad\"],[\"bad\"],[\"bad\"],[\"bad\"],[\"good\"],[\"bad\"],[\"good\"],[\"bad\"],[\"good\"],[\"bad\"],[\"good\"],[\"good\"],[\"good\"],[\"bad\"],[\"bad\"],[\"bad\"],[\"bad\"],[\"good\"],[\"bad\"],[\"bad\"],[\"bad\"],[\"bad\"],[\"bad\"],[\"bad\"],[\"bad\"],[\"bad\"],[\"good\"],[\"good\"],[\"bad\"],[\"good\"],[\"bad\"],[\"bad\"],[\"bad\"],[\"bad\"],[\"good\"],[\"bad\"],[\"bad\"],[\"good\"],[\"bad\"],[\"bad\"],[\"bad\"],[\"bad\"],[\"bad\"],[\"bad\"],[\"good\"],[\"good\"],[\"bad\"],[\"bad\"],[\"bad\"],[\"bad\"],[\"bad\"],[\"bad\"],[\"good\"],[\"bad\"],[\"bad\"],[\"bad\"],[\"bad\"],[\"bad\"],[\"bad\"],[\"good\"],[\"bad\"],[\"good\"],[\"bad\"],[\"bad\"],[\"bad\"],[\"bad\"],[\"good\"],[\"bad\"],[\"bad\"],[\"bad\"],[\"good\"],[\"bad\"],[\"bad\"],[\"bad\"],[\"good\"],[\"good\"],[\"good\"],[\"good\"],[\"bad\"],[\"bad\"],[\"bad\"],[\"bad\"],[\"bad\"],[\"good\"],[\"bad\"],[\"bad\"],[\"bad\"],[\"bad\"],[\"good\"],[\"bad\"],[\"good\"],[\"good\"],[\"good\"],[\"good\"],[\"good\"],[\"bad\"],[\"good\"],[\"bad\"],[\"bad\"],[\"bad\"],[\"bad\"],[\"bad\"],[\"bad\"],[\"good\"],[\"bad\"],[\"bad\"],[\"bad\"],[\"bad\"],[\"good\"],[\"good\"],[\"bad\"],[\"bad\"],[\"bad\"],[\"bad\"],[\"bad\"],[\"bad\"],[\"bad\"],[\"good\"],[\"bad\"],[\"good\"],[\"bad\"],[\"bad\"],[\"bad\"],[\"good\"],[\"good\"],[\"good\"],[\"bad\"],[\"bad\"],[\"bad\"],[\"bad\"],[\"bad\"],[\"bad\"],[\"bad\"],[\"bad\"],[\"good\"],[\"bad\"],[\"bad\"],[\"good\"],[\"bad\"],[\"bad\"],[\"bad\"],[\"bad\"],[\"bad\"],[\"good\"],[\"bad\"],[\"bad\"],[\"good\"],[\"good\"],[\"good\"],[\"bad\"],[\"bad\"],[\"bad\"],[\"good\"],[\"bad\"],[\"bad\"],[\"bad\"],[\"bad\"],[\"bad\"],[\"bad\"],[\"good\"],[\"bad\"],[\"bad\"],[\"bad\"],[\"bad\"],[\"bad\"],[\"bad\"],[\"good\"],[\"bad\"],[\"bad\"],[\"bad\"],[\"bad\"],[\"bad\"],[\"good\"],[\"good\"],[\"bad\"],[\"good\"],[\"bad\"],[\"bad\"],[\"bad\"],[\"good\"],[\"good\"],[\"good\"],[\"bad\"],[\"bad\"],[\"good\"],[\"good\"],[\"good\"],[\"good\"],[\"bad\"],[\"good\"],[\"bad\"],[\"bad\"],[\"bad\"],[\"bad\"],[\"bad\"],[\"good\"],[\"bad\"],[\"bad\"],[\"good\"],[\"bad\"],[\"good\"],[\"good\"],[\"bad\"],[\"good\"],[\"bad\"],[\"good\"],[\"good\"],[\"good\"],[\"bad\"],[\"good\"],[\"good\"],[\"good\"],[\"good\"],[\"good\"],[\"good\"],[\"bad\"],[\"good\"],[\"good\"],[\"good\"],[\"good\"],[\"good\"],[\"bad\"],[\"bad\"],[\"good\"],[\"good\"],[\"good\"],[\"good\"],[\"bad\"],[\"bad\"],[\"good\"],[\"bad\"],[\"bad\"],[\"bad\"],[\"bad\"],[\"good\"],[\"bad\"],[\"bad\"],[\"bad\"],[\"bad\"],[\"bad\"],[\"good\"],[\"bad\"],[\"good\"],[\"good\"],[\"good\"],[\"good\"],[\"good\"],[\"bad\"],[\"bad\"],[\"bad\"],[\"good\"],[\"good\"],[\"good\"],[\"good\"],[\"good\"],[\"good\"],[\"good\"],[\"bad\"],[\"good\"],[\"bad\"],[\"bad\"],[\"good\"],[\"good\"],[\"good\"],[\"bad\"],[\"good\"],[\"bad\"],[\"good\"],[\"good\"],[\"good\"],[\"bad\"],[\"bad\"],[\"bad\"],[\"bad\"],[\"bad\"],[\"good\"],[\"good\"],[\"bad\"],[\"bad\"],[\"bad\"],[\"good\"],[\"bad\"],[\"good\"],[\"good\"],[\"good\"],[\"good\"],[\"good\"],[\"good\"],[\"bad\"],[\"bad\"],[\"good\"],[\"bad\"],[\"good\"],[\"good\"],[\"good\"],[\"good\"],[\"bad\"],[\"bad\"],[\"good\"],[\"good\"],[\"good\"],[\"good\"],[\"bad\"],[\"good\"],[\"bad\"],[\"good\"],[\"good\"],[\"good\"],[\"bad\"],[\"good\"],[\"good\"],[\"good\"],[\"bad\"],[\"good\"],[\"good\"],[\"good\"],[\"good\"],[\"good\"],[\"good\"],[\"good\"],[\"bad\"],[\"good\"],[\"good\"],[\"good\"],[\"good\"],[\"good\"],[\"good\"],[\"bad\"],[\"bad\"],[\"good\"],[\"good\"],[\"bad\"],[\"good\"],[\"good\"],[\"good\"],[\"bad\"],[\"good\"],[\"bad\"],[\"bad\"],[\"good\"],[\"good\"],[\"good\"],[\"bad\"],[\"bad\"],[\"good\"],[\"bad\"],[\"good\"],[\"good\"],[\"bad\"],[\"good\"],[\"good\"],[\"good\"],[\"good\"],[\"good\"],[\"good\"],[\"good\"],[\"good\"],[\"good\"],[\"good\"],[\"bad\"],[\"good\"],[\"good\"],[\"good\"],[\"good\"],[\"good\"],[\"good\"],[\"good\"],[\"bad\"],[\"bad\"],[\"bad\"],[\"good\"],[\"bad\"],[\"good\"],[\"good\"],[\"bad\"],[\"bad\"],[\"good\"],[\"good\"],[\"good\"],[\"bad\"],[\"good\"],[\"good\"],[\"good\"],[\"good\"],[\"bad\"],[\"good\"],[\"bad\"],[\"bad\"],[\"good\"],[\"bad\"],[\"bad\"],[\"good\"],[\"bad\"],[\"good\"],[\"bad\"],[\"good\"],[\"good\"],[\"bad\"],[\"good\"],[\"bad\"],[\"good\"],[\"good\"],[\"good\"],[\"bad\"],[\"good\"],[\"good\"],[\"bad\"],[\"good\"],[\"bad\"],[\"good\"],[\"bad\"],[\"good\"],[\"good\"],[\"good\"],[\"bad\"],[\"good\"],[\"good\"],[\"good\"],[\"good\"],[\"good\"],[\"good\"],[\"bad\"],[\"bad\"],[\"good\"],[\"good\"],[\"good\"],[\"good\"],[\"good\"],[\"good\"],[\"bad\"],[\"good\"],[\"bad\"],[\"bad\"],[\"good\"],[\"bad\"],[\"good\"],[\"bad\"],[\"bad\"],[\"bad\"],[\"good\"],[\"bad\"],[\"good\"],[\"good\"],[\"good\"],[\"bad\"],[\"bad\"],[\"good\"],[\"good\"],[\"bad\"],[\"good\"],[\"bad\"],[\"bad\"],[\"good\"],[\"bad\"],[\"good\"],[\"bad\"],[\"good\"],[\"bad\"],[\"bad\"],[\"good\"],[\"bad\"],[\"bad\"],[\"good\"],[\"good\"],[\"good\"],[\"good\"],[\"good\"],[\"good\"],[\"good\"],[\"good\"],[\"good\"],[\"good\"],[\"bad\"],[\"good\"],[\"good\"],[\"good\"],[\"good\"],[\"good\"],[\"good\"],[\"good\"],[\"good\"],[\"good\"],[\"good\"],[\"good\"],[\"good\"],[\"bad\"],[\"good\"],[\"good\"],[\"good\"],[\"good\"],[\"bad\"],[\"good\"],[\"bad\"],[\"good\"],[\"bad\"],[\"good\"],[\"bad\"],[\"bad\"],[\"bad\"],[\"bad\"],[\"bad\"],[\"bad\"],[\"good\"],[\"good\"],[\"bad\"],[\"good\"],[\"bad\"],[\"bad\"],[\"good\"],[\"good\"],[\"good\"],[\"bad\"],[\"good\"],[\"good\"],[\"bad\"],[\"bad\"],[\"good\"],[\"bad\"],[\"good\"],[\"good\"],[\"bad\"],[\"good\"],[\"good\"],[\"good\"],[\"good\"],[\"good\"],[\"good\"],[\"good\"],[\"bad\"],[\"bad\"],[\"bad\"],[\"good\"],[\"bad\"],[\"good\"],[\"good\"],[\"bad\"],[\"bad\"],[\"bad\"],[\"good\"],[\"good\"],[\"bad\"],[\"good\"],[\"good\"],[\"good\"],[\"good\"],[\"good\"],[\"good\"],[\"bad\"],[\"bad\"],[\"good\"],[\"good\"],[\"bad\"],[\"bad\"],[\"bad\"],[\"good\"],[\"bad\"],[\"bad\"],[\"bad\"],[\"good\"],[\"good\"],[\"good\"],[\"good\"],[\"bad\"],[\"good\"],[\"good\"],[\"bad\"],[\"good\"],[\"bad\"],[\"bad\"],[\"bad\"],[\"bad\"],[\"good\"],[\"good\"],[\"good\"],[\"good\"],[\"bad\"],[\"good\"],[\"bad\"],[\"good\"],[\"good\"],[\"good\"],[\"good\"],[\"good\"],[\"good\"],[\"good\"],[\"bad\"],[\"bad\"],[\"good\"],[\"bad\"],[\"good\"],[\"bad\"],[\"bad\"],[\"good\"],[\"bad\"],[\"bad\"],[\"bad\"],[\"bad\"],[\"bad\"],[\"good\"],[\"bad\"],[\"bad\"],[\"bad\"],[\"bad\"],[\"good\"],[\"bad\"],[\"good\"],[\"bad\"],[\"good\"],[\"bad\"],[\"bad\"],[\"bad\"],[\"bad\"],[\"bad\"],[\"good\"],[\"good\"],[\"bad\"],[\"bad\"],[\"bad\"],[\"bad\"],[\"bad\"],[\"good\"],[\"bad\"],[\"bad\"],[\"good\"],[\"good\"],[\"bad\"],[\"bad\"],[\"bad\"],[\"good\"],[\"bad\"],[\"bad\"],[\"bad\"],[\"good\"],[\"good\"],[\"bad\"],[\"good\"],[\"bad\"],[\"good\"],[\"good\"],[\"bad\"],[\"bad\"],[\"good\"],[\"good\"],[\"bad\"],[\"good\"],[\"bad\"],[\"bad\"],[\"bad\"],[\"bad\"],[\"good\"],[\"bad\"],[\"good\"],[\"bad\"],[\"bad\"],[\"bad\"],[\"bad\"],[\"good\"],[\"bad\"],[\"bad\"],[\"bad\"],[\"bad\"],[\"bad\"],[\"bad\"],[\"bad\"],[\"bad\"],[\"bad\"],[\"bad\"],[\"bad\"],[\"bad\"],[\"bad\"],[\"good\"],[\"good\"],[\"good\"],[\"bad\"],[\"good\"],[\"good\"],[\"good\"],[\"good\"],[\"bad\"],[\"bad\"],[\"bad\"],[\"bad\"],[\"bad\"],[\"good\"],[\"good\"],[\"bad\"],[\"bad\"],[\"bad\"],[\"bad\"],[\"bad\"],[\"good\"],[\"bad\"],[\"bad\"],[\"bad\"],[\"bad\"],[\"bad\"],[\"bad\"],[\"bad\"],[\"bad\"],[\"bad\"],[\"bad\"],[\"good\"],[\"bad\"],[\"bad\"],[\"good\"],[\"bad\"],[\"bad\"],[\"bad\"],[\"bad\"],[\"bad\"],[\"bad\"],[\"bad\"],[\"good\"],[\"bad\"],[\"bad\"],[\"good\"],[\"bad\"],[\"bad\"],[\"bad\"],[\"bad\"],[\"good\"],[\"good\"],[\"bad\"],[\"good\"],[\"good\"],[\"bad\"],[\"bad\"],[\"bad\"],[\"bad\"],[\"good\"],[\"good\"],[\"good\"],[\"bad\"],[\"bad\"],[\"bad\"],[\"bad\"],[\"bad\"],[\"good\"],[\"bad\"],[\"good\"],[\"good\"],[\"bad\"],[\"bad\"],[\"good\"],[\"bad\"],[\"good\"],[\"bad\"],[\"bad\"],[\"good\"],[\"good\"],[\"bad\"],[\"good\"],[\"good\"],[\"bad\"],[\"bad\"],[\"good\"],[\"bad\"],[\"bad\"],[\"bad\"],[\"bad\"],[\"bad\"],[\"bad\"],[\"good\"],[\"good\"],[\"bad\"],[\"good\"],[\"bad\"],[\"good\"],[\"bad\"],[\"good\"],[\"bad\"],[\"bad\"],[\"good\"],[\"good\"],[\"good\"],[\"bad\"],[\"bad\"],[\"good\"],[\"good\"],[\"good\"],[\"good\"],[\"good\"],[\"good\"],[\"bad\"],[\"good\"],[\"bad\"],[\"good\"],[\"bad\"],[\"bad\"],[\"good\"],[\"bad\"],[\"good\"],[\"good\"],[\"bad\"],[\"bad\"],[\"bad\"],[\"good\"],[\"bad\"],[\"bad\"],[\"bad\"],[\"bad\"],[\"good\"],[\"bad\"],[\"good\"],[\"good\"],[\"bad\"],[\"good\"],[\"bad\"],[\"bad\"],[\"bad\"],[\"bad\"],[\"good\"],[\"good\"],[\"good\"],[\"bad\"],[\"good\"],[\"bad\"],[\"good\"],[\"bad\"],[\"good\"],[\"bad\"],[\"bad\"],[\"good\"],[\"bad\"],[\"bad\"],[\"bad\"],[\"bad\"],[\"bad\"],[\"good\"],[\"good\"],[\"good\"],[\"good\"],[\"good\"],[\"good\"],[\"good\"],[\"bad\"],[\"good\"],[\"bad\"],[\"bad\"],[\"bad\"],[\"bad\"],[\"good\"],[\"good\"],[\"good\"],[\"good\"],[\"good\"],[\"bad\"],[\"bad\"],[\"good\"],[\"good\"],[\"good\"],[\"bad\"],[\"good\"],[\"good\"],[\"bad\"],[\"bad\"],[\"good\"],[\"good\"],[\"bad\"],[\"good\"],[\"bad\"],[\"good\"],[\"good\"],[\"good\"],[\"bad\"],[\"bad\"],[\"bad\"],[\"good\"],[\"bad\"],[\"good\"],[\"good\"],[\"good\"],[\"good\"],[\"good\"],[\"bad\"],[\"bad\"],[\"good\"],[\"good\"],[\"good\"],[\"good\"],[\"bad\"],[\"bad\"],[\"good\"],[\"good\"],[\"good\"],[\"good\"],[\"good\"],[\"good\"],[\"good\"],[\"good\"],[\"good\"],[\"bad\"],[\"good\"],[\"good\"],[\"good\"],[\"bad\"],[\"good\"],[\"good\"],[\"good\"],[\"bad\"],[\"good\"],[\"good\"],[\"bad\"],[\"bad\"],[\"good\"],[\"bad\"],[\"bad\"],[\"good\"],[\"bad\"],[\"bad\"],[\"good\"],[\"good\"],[\"bad\"],[\"good\"],[\"bad\"],[\"good\"],[\"good\"],[\"good\"],[\"good\"],[\"good\"],[\"good\"],[\"good\"],[\"good\"],[\"good\"],[\"good\"],[\"good\"],[\"good\"],[\"good\"],[\"good\"],[\"good\"],[\"bad\"],[\"good\"],[\"good\"],[\"good\"],[\"bad\"],[\"good\"],[\"bad\"],[\"bad\"],[\"good\"],[\"good\"],[\"good\"],[\"good\"],[\"bad\"],[\"good\"],[\"bad\"],[\"good\"],[\"good\"],[\"good\"],[\"bad\"],[\"good\"],[\"bad\"],[\"bad\"],[\"bad\"],[\"good\"],[\"bad\"],[\"good\"],[\"bad\"],[\"good\"],[\"good\"],[\"bad\"],[\"good\"],[\"good\"],[\"bad\"],[\"bad\"],[\"good\"],[\"bad\"],[\"bad\"],[\"good\"],[\"bad\"],[\"bad\"],[\"good\"],[\"good\"],[\"good\"],[\"good\"],[\"good\"],[\"good\"],[\"good\"],[\"good\"],[\"good\"],[\"bad\"],[\"good\"],[\"good\"],[\"good\"],[\"good\"],[\"bad\"],[\"good\"],[\"good\"],[\"bad\"],[\"good\"],[\"good\"],[\"good\"],[\"good\"],[\"good\"],[\"good\"],[\"bad\"],[\"good\"],[\"good\"],[\"bad\"],[\"good\"],[\"good\"],[\"good\"],[\"good\"],[\"bad\"],[\"good\"],[\"good\"],[\"good\"],[\"good\"],[\"bad\"],[\"good\"],[\"good\"],[\"good\"],[\"good\"],[\"bad\"],[\"good\"],[\"good\"],[\"bad\"],[\"good\"],[\"good\"],[\"good\"],[\"good\"],[\"good\"],[\"good\"],[\"bad\"],[\"good\"],[\"good\"],[\"bad\"],[\"bad\"],[\"bad\"],[\"good\"],[\"good\"],[\"good\"],[\"good\"],[\"bad\"],[\"good\"],[\"good\"],[\"good\"],[\"good\"],[\"good\"],[\"good\"],[\"good\"],[\"good\"],[\"good\"],[\"good\"],[\"good\"],[\"bad\"],[\"good\"],[\"bad\"],[\"good\"],[\"good\"],[\"bad\"],[\"good\"],[\"good\"],[\"bad\"],[\"bad\"],[\"good\"],[\"good\"],[\"good\"],[\"good\"],[\"good\"],[\"good\"],[\"bad\"],[\"good\"],[\"good\"],[\"good\"],[\"good\"],[\"good\"],[\"good\"],[\"good\"],[\"good\"],[\"good\"],[\"bad\"],[\"good\"],[\"bad\"],[\"good\"],[\"bad\"],[\"good\"],[\"good\"],[\"good\"],[\"good\"],[\"good\"],[\"bad\"],[\"good\"],[\"good\"],[\"bad\"],[\"good\"],[\"good\"],[\"good\"],[\"good\"],[\"good\"],[\"good\"],[\"good\"],[\"good\"],[\"good\"],[\"good\"],[\"bad\"],[\"good\"],[\"good\"],[\"good\"],[\"good\"],[\"bad\"],[\"good\"],[\"good\"],[\"good\"],[\"bad\"],[\"good\"],[\"good\"],[\"bad\"],[\"good\"],[\"good\"],[\"good\"],[\"good\"],[\"good\"],[\"good\"],[\"bad\"],[\"good\"],[\"good\"],[\"good\"],[\"good\"],[\"good\"],[\"bad\"],[\"good\"],[\"good\"],[\"good\"],[\"good\"],[\"good\"],[\"good\"],[\"good\"],[\"bad\"],[\"good\"],[\"good\"],[\"bad\"],[\"good\"],[\"good\"],[\"good\"],[\"bad\"],[\"good\"],[\"good\"],[\"good\"],[\"bad\"],[\"bad\"],[\"bad\"],[\"bad\"],[\"good\"],[\"good\"],[\"good\"],[\"good\"],[\"good\"],[\"good\"],[\"good\"],[\"good\"],[\"good\"],[\"bad\"],[\"good\"],[\"bad\"],[\"good\"],[\"good\"],[\"bad\"],[\"good\"],[\"bad\"],[\"bad\"],[\"good\"],[\"bad\"],[\"good\"],[\"bad\"],[\"bad\"],[\"good\"],[\"bad\"],[\"good\"],[\"bad\"],[\"good\"],[\"good\"],[\"good\"],[\"good\"],[\"good\"],[\"good\"],[\"good\"],[\"good\"],[\"good\"],[\"bad\"],[\"good\"],[\"good\"],[\"good\"],[\"bad\"],[\"good\"],[\"good\"],[\"good\"],[\"bad\"],[\"good\"],[\"good\"],[\"good\"],[\"good\"],[\"good\"],[\"good\"],[\"good\"],[\"good\"],[\"good\"],[\"good\"],[\"good\"],[\"good\"],[\"good\"],[\"bad\"],[\"bad\"],[\"bad\"],[\"good\"],[\"bad\"],[\"good\"],[\"bad\"],[\"bad\"],[\"bad\"],[\"good\"],[\"bad\"],[\"good\"],[\"good\"],[\"bad\"],[\"bad\"],[\"bad\"],[\"bad\"],[\"good\"],[\"bad\"],[\"good\"],[\"bad\"],[\"bad\"],[\"bad\"],[\"good\"],[\"good\"],[\"good\"],[\"bad\"],[\"bad\"],[\"bad\"],[\"bad\"],[\"bad\"],[\"bad\"],[\"good\"],[\"good\"],[\"good\"],[\"bad\"],[\"bad\"],[\"bad\"],[\"bad\"],[\"good\"],[\"good\"],[\"good\"],[\"good\"],[\"good\"],[\"good\"],[\"good\"],[\"good\"],[\"bad\"],[\"bad\"],[\"good\"],[\"good\"],[\"bad\"],[\"good\"],[\"good\"],[\"good\"],[\"good\"],[\"good\"],[\"good\"],[\"good\"],[\"bad\"],[\"bad\"],[\"good\"],[\"bad\"],[\"bad\"],[\"bad\"],[\"bad\"],[\"good\"],[\"good\"],[\"bad\"],[\"good\"],[\"bad\"],[\"bad\"],[\"good\"],[\"good\"],[\"bad\"],[\"good\"],[\"good\"],[\"good\"],[\"bad\"],[\"bad\"],[\"bad\"],[\"bad\"],[\"bad\"],[\"bad\"],[\"bad\"],[\"bad\"],[\"good\"],[\"bad\"],[\"good\"],[\"good\"],[\"good\"],[\"good\"],[\"good\"],[\"good\"],[\"good\"],[\"bad\"],[\"good\"],[\"bad\"],[\"good\"],[\"good\"],[\"good\"],[\"good\"],[\"good\"],[\"bad\"],[\"good\"],[\"good\"],[\"bad\"],[\"good\"],[\"bad\"],[\"bad\"],[\"good\"],[\"bad\"],[\"bad\"],[\"bad\"],[\"good\"],[\"good\"],[\"good\"],[\"good\"],[\"good\"],[\"bad\"],[\"good\"],[\"bad\"],[\"bad\"],[\"bad\"],[\"bad\"],[\"bad\"],[\"good\"],[\"bad\"],[\"bad\"],[\"bad\"],[\"bad\"],[\"bad\"],[\"good\"],[\"bad\"],[\"good\"],[\"bad\"],[\"bad\"],[\"good\"],[\"bad\"],[\"good\"],[\"bad\"],[\"bad\"],[\"good\"],[\"good\"],[\"bad\"],[\"bad\"],[\"good\"],[\"bad\"],[\"bad\"],[\"bad\"],[\"bad\"],[\"bad\"],[\"good\"],[\"good\"],[\"good\"],[\"good\"],[\"bad\"],[\"bad\"],[\"bad\"],[\"bad\"],[\"bad\"],[\"bad\"],[\"bad\"],[\"bad\"],[\"bad\"],[\"good\"],[\"bad\"],[\"bad\"],[\"bad\"],[\"bad\"],[\"good\"],[\"bad\"],[\"bad\"],[\"good\"],[\"good\"],[\"bad\"],[\"bad\"],[\"good\"],[\"good\"],[\"good\"],[\"good\"],[\"good\"],[\"good\"],[\"good\"],[\"good\"],[\"good\"],[\"good\"],[\"good\"],[\"bad\"],[\"bad\"],[\"bad\"],[\"bad\"],[\"good\"],[\"bad\"],[\"bad\"],[\"bad\"],[\"bad\"],[\"good\"],[\"bad\"],[\"good\"],[\"good\"],[\"good\"],[\"bad\"],[\"bad\"],[\"bad\"],[\"bad\"],[\"good\"],[\"good\"],[\"good\"],[\"good\"],[\"good\"],[\"bad\"],[\"bad\"],[\"bad\"],[\"good\"],[\"good\"],[\"good\"],[\"bad\"],[\"bad\"],[\"good\"],[\"good\"],[\"bad\"],[\"bad\"],[\"bad\"],[\"good\"],[\"good\"],[\"good\"],[\"good\"],[\"bad\"],[\"good\"],[\"good\"],[\"good\"],[\"bad\"],[\"bad\"],[\"good\"],[\"good\"],[\"bad\"],[\"good\"],[\"good\"],[\"bad\"],[\"bad\"],[\"good\"],[\"bad\"],[\"good\"],[\"bad\"],[\"bad\"],[\"bad\"],[\"good\"],[\"bad\"],[\"bad\"],[\"good\"],[\"bad\"],[\"good\"],[\"bad\"],[\"bad\"],[\"bad\"],[\"bad\"],[\"bad\"],[\"bad\"],[\"bad\"],[\"bad\"],[\"bad\"],[\"bad\"],[\"bad\"],[\"good\"],[\"good\"],[\"bad\"],[\"bad\"],[\"bad\"],[\"good\"],[\"good\"],[\"bad\"],[\"good\"],[\"good\"],[\"good\"],[\"bad\"],[\"bad\"],[\"bad\"],[\"good\"],[\"good\"],[\"bad\"],[\"good\"],[\"good\"],[\"good\"],[\"bad\"],[\"good\"],[\"bad\"],[\"good\"],[\"good\"],[\"good\"],[\"good\"],[\"bad\"],[\"good\"],[\"bad\"],[\"bad\"],[\"good\"],[\"bad\"],[\"bad\"],[\"bad\"],[\"good\"],[\"bad\"],[\"good\"],[\"good\"],[\"good\"],[\"good\"],[\"good\"],[\"bad\"],[\"good\"],[\"bad\"],[\"good\"],[\"good\"],[\"good\"],[\"good\"],[\"bad\"],[\"bad\"],[\"good\"],[\"good\"],[\"good\"],[\"good\"],[\"good\"],[\"good\"],[\"bad\"],[\"bad\"],[\"bad\"],[\"good\"],[\"bad\"],[\"bad\"],[\"good\"],[\"bad\"],[\"good\"],[\"good\"],[\"bad\"],[\"good\"],[\"bad\"],[\"bad\"],[\"bad\"],[\"bad\"],[\"bad\"],[\"bad\"],[\"bad\"],[\"good\"],[\"good\"],[\"bad\"],[\"bad\"],[\"good\"],[\"good\"],[\"good\"],[\"bad\"],[\"good\"],[\"good\"],[\"good\"],[\"good\"],[\"good\"],[\"good\"],[\"bad\"],[\"good\"],[\"bad\"],[\"bad\"],[\"bad\"],[\"good\"],[\"good\"],[\"good\"],[\"good\"],[\"good\"],[\"bad\"],[\"good\"],[\"good\"],[\"good\"],[\"good\"],[\"bad\"],[\"good\"],[\"good\"],[\"bad\"],[\"good\"]],\"domain\":{\"x\":[0.0,1.0],\"y\":[0.0,1.0]},\"hovertemplate\":\"quality=%{customdata[0]}<extra></extra>\",\"labels\":[\"bad\",\"bad\",\"bad\",\"good\",\"bad\",\"bad\",\"bad\",\"good\",\"good\",\"bad\",\"bad\",\"bad\",\"bad\",\"bad\",\"bad\",\"bad\",\"good\",\"bad\",\"bad\",\"good\",\"good\",\"bad\",\"bad\",\"bad\",\"good\",\"bad\",\"bad\",\"bad\",\"bad\",\"good\",\"bad\",\"good\",\"bad\",\"good\",\"bad\",\"good\",\"good\",\"good\",\"bad\",\"bad\",\"bad\",\"bad\",\"good\",\"bad\",\"bad\",\"bad\",\"bad\",\"bad\",\"bad\",\"bad\",\"bad\",\"good\",\"good\",\"bad\",\"good\",\"bad\",\"bad\",\"bad\",\"bad\",\"good\",\"bad\",\"bad\",\"good\",\"bad\",\"bad\",\"bad\",\"bad\",\"bad\",\"bad\",\"good\",\"good\",\"bad\",\"bad\",\"bad\",\"bad\",\"bad\",\"bad\",\"good\",\"bad\",\"bad\",\"bad\",\"bad\",\"bad\",\"bad\",\"good\",\"bad\",\"good\",\"bad\",\"bad\",\"bad\",\"bad\",\"good\",\"bad\",\"bad\",\"bad\",\"good\",\"bad\",\"bad\",\"bad\",\"good\",\"good\",\"good\",\"good\",\"bad\",\"bad\",\"bad\",\"bad\",\"bad\",\"good\",\"bad\",\"bad\",\"bad\",\"bad\",\"good\",\"bad\",\"good\",\"good\",\"good\",\"good\",\"good\",\"bad\",\"good\",\"bad\",\"bad\",\"bad\",\"bad\",\"bad\",\"bad\",\"good\",\"bad\",\"bad\",\"bad\",\"bad\",\"good\",\"good\",\"bad\",\"bad\",\"bad\",\"bad\",\"bad\",\"bad\",\"bad\",\"good\",\"bad\",\"good\",\"bad\",\"bad\",\"bad\",\"good\",\"good\",\"good\",\"bad\",\"bad\",\"bad\",\"bad\",\"bad\",\"bad\",\"bad\",\"bad\",\"good\",\"bad\",\"bad\",\"good\",\"bad\",\"bad\",\"bad\",\"bad\",\"bad\",\"good\",\"bad\",\"bad\",\"good\",\"good\",\"good\",\"bad\",\"bad\",\"bad\",\"good\",\"bad\",\"bad\",\"bad\",\"bad\",\"bad\",\"bad\",\"good\",\"bad\",\"bad\",\"bad\",\"bad\",\"bad\",\"bad\",\"good\",\"bad\",\"bad\",\"bad\",\"bad\",\"bad\",\"good\",\"good\",\"bad\",\"good\",\"bad\",\"bad\",\"bad\",\"good\",\"good\",\"good\",\"bad\",\"bad\",\"good\",\"good\",\"good\",\"good\",\"bad\",\"good\",\"bad\",\"bad\",\"bad\",\"bad\",\"bad\",\"good\",\"bad\",\"bad\",\"good\",\"bad\",\"good\",\"good\",\"bad\",\"good\",\"bad\",\"good\",\"good\",\"good\",\"bad\",\"good\",\"good\",\"good\",\"good\",\"good\",\"good\",\"bad\",\"good\",\"good\",\"good\",\"good\",\"good\",\"bad\",\"bad\",\"good\",\"good\",\"good\",\"good\",\"bad\",\"bad\",\"good\",\"bad\",\"bad\",\"bad\",\"bad\",\"good\",\"bad\",\"bad\",\"bad\",\"bad\",\"bad\",\"good\",\"bad\",\"good\",\"good\",\"good\",\"good\",\"good\",\"bad\",\"bad\",\"bad\",\"good\",\"good\",\"good\",\"good\",\"good\",\"good\",\"good\",\"bad\",\"good\",\"bad\",\"bad\",\"good\",\"good\",\"good\",\"bad\",\"good\",\"bad\",\"good\",\"good\",\"good\",\"bad\",\"bad\",\"bad\",\"bad\",\"bad\",\"good\",\"good\",\"bad\",\"bad\",\"bad\",\"good\",\"bad\",\"good\",\"good\",\"good\",\"good\",\"good\",\"good\",\"bad\",\"bad\",\"good\",\"bad\",\"good\",\"good\",\"good\",\"good\",\"bad\",\"bad\",\"good\",\"good\",\"good\",\"good\",\"bad\",\"good\",\"bad\",\"good\",\"good\",\"good\",\"bad\",\"good\",\"good\",\"good\",\"bad\",\"good\",\"good\",\"good\",\"good\",\"good\",\"good\",\"good\",\"bad\",\"good\",\"good\",\"good\",\"good\",\"good\",\"good\",\"bad\",\"bad\",\"good\",\"good\",\"bad\",\"good\",\"good\",\"good\",\"bad\",\"good\",\"bad\",\"bad\",\"good\",\"good\",\"good\",\"bad\",\"bad\",\"good\",\"bad\",\"good\",\"good\",\"bad\",\"good\",\"good\",\"good\",\"good\",\"good\",\"good\",\"good\",\"good\",\"good\",\"good\",\"bad\",\"good\",\"good\",\"good\",\"good\",\"good\",\"good\",\"good\",\"bad\",\"bad\",\"bad\",\"good\",\"bad\",\"good\",\"good\",\"bad\",\"bad\",\"good\",\"good\",\"good\",\"bad\",\"good\",\"good\",\"good\",\"good\",\"bad\",\"good\",\"bad\",\"bad\",\"good\",\"bad\",\"bad\",\"good\",\"bad\",\"good\",\"bad\",\"good\",\"good\",\"bad\",\"good\",\"bad\",\"good\",\"good\",\"good\",\"bad\",\"good\",\"good\",\"bad\",\"good\",\"bad\",\"good\",\"bad\",\"good\",\"good\",\"good\",\"bad\",\"good\",\"good\",\"good\",\"good\",\"good\",\"good\",\"bad\",\"bad\",\"good\",\"good\",\"good\",\"good\",\"good\",\"good\",\"bad\",\"good\",\"bad\",\"bad\",\"good\",\"bad\",\"good\",\"bad\",\"bad\",\"bad\",\"good\",\"bad\",\"good\",\"good\",\"good\",\"bad\",\"bad\",\"good\",\"good\",\"bad\",\"good\",\"bad\",\"bad\",\"good\",\"bad\",\"good\",\"bad\",\"good\",\"bad\",\"bad\",\"good\",\"bad\",\"bad\",\"good\",\"good\",\"good\",\"good\",\"good\",\"good\",\"good\",\"good\",\"good\",\"good\",\"bad\",\"good\",\"good\",\"good\",\"good\",\"good\",\"good\",\"good\",\"good\",\"good\",\"good\",\"good\",\"good\",\"bad\",\"good\",\"good\",\"good\",\"good\",\"bad\",\"good\",\"bad\",\"good\",\"bad\",\"good\",\"bad\",\"bad\",\"bad\",\"bad\",\"bad\",\"bad\",\"good\",\"good\",\"bad\",\"good\",\"bad\",\"bad\",\"good\",\"good\",\"good\",\"bad\",\"good\",\"good\",\"bad\",\"bad\",\"good\",\"bad\",\"good\",\"good\",\"bad\",\"good\",\"good\",\"good\",\"good\",\"good\",\"good\",\"good\",\"bad\",\"bad\",\"bad\",\"good\",\"bad\",\"good\",\"good\",\"bad\",\"bad\",\"bad\",\"good\",\"good\",\"bad\",\"good\",\"good\",\"good\",\"good\",\"good\",\"good\",\"bad\",\"bad\",\"good\",\"good\",\"bad\",\"bad\",\"bad\",\"good\",\"bad\",\"bad\",\"bad\",\"good\",\"good\",\"good\",\"good\",\"bad\",\"good\",\"good\",\"bad\",\"good\",\"bad\",\"bad\",\"bad\",\"bad\",\"good\",\"good\",\"good\",\"good\",\"bad\",\"good\",\"bad\",\"good\",\"good\",\"good\",\"good\",\"good\",\"good\",\"good\",\"bad\",\"bad\",\"good\",\"bad\",\"good\",\"bad\",\"bad\",\"good\",\"bad\",\"bad\",\"bad\",\"bad\",\"bad\",\"good\",\"bad\",\"bad\",\"bad\",\"bad\",\"good\",\"bad\",\"good\",\"bad\",\"good\",\"bad\",\"bad\",\"bad\",\"bad\",\"bad\",\"good\",\"good\",\"bad\",\"bad\",\"bad\",\"bad\",\"bad\",\"good\",\"bad\",\"bad\",\"good\",\"good\",\"bad\",\"bad\",\"bad\",\"good\",\"bad\",\"bad\",\"bad\",\"good\",\"good\",\"bad\",\"good\",\"bad\",\"good\",\"good\",\"bad\",\"bad\",\"good\",\"good\",\"bad\",\"good\",\"bad\",\"bad\",\"bad\",\"bad\",\"good\",\"bad\",\"good\",\"bad\",\"bad\",\"bad\",\"bad\",\"good\",\"bad\",\"bad\",\"bad\",\"bad\",\"bad\",\"bad\",\"bad\",\"bad\",\"bad\",\"bad\",\"bad\",\"bad\",\"bad\",\"good\",\"good\",\"good\",\"bad\",\"good\",\"good\",\"good\",\"good\",\"bad\",\"bad\",\"bad\",\"bad\",\"bad\",\"good\",\"good\",\"bad\",\"bad\",\"bad\",\"bad\",\"bad\",\"good\",\"bad\",\"bad\",\"bad\",\"bad\",\"bad\",\"bad\",\"bad\",\"bad\",\"bad\",\"bad\",\"good\",\"bad\",\"bad\",\"good\",\"bad\",\"bad\",\"bad\",\"bad\",\"bad\",\"bad\",\"bad\",\"good\",\"bad\",\"bad\",\"good\",\"bad\",\"bad\",\"bad\",\"bad\",\"good\",\"good\",\"bad\",\"good\",\"good\",\"bad\",\"bad\",\"bad\",\"bad\",\"good\",\"good\",\"good\",\"bad\",\"bad\",\"bad\",\"bad\",\"bad\",\"good\",\"bad\",\"good\",\"good\",\"bad\",\"bad\",\"good\",\"bad\",\"good\",\"bad\",\"bad\",\"good\",\"good\",\"bad\",\"good\",\"good\",\"bad\",\"bad\",\"good\",\"bad\",\"bad\",\"bad\",\"bad\",\"bad\",\"bad\",\"good\",\"good\",\"bad\",\"good\",\"bad\",\"good\",\"bad\",\"good\",\"bad\",\"bad\",\"good\",\"good\",\"good\",\"bad\",\"bad\",\"good\",\"good\",\"good\",\"good\",\"good\",\"good\",\"bad\",\"good\",\"bad\",\"good\",\"bad\",\"bad\",\"good\",\"bad\",\"good\",\"good\",\"bad\",\"bad\",\"bad\",\"good\",\"bad\",\"bad\",\"bad\",\"bad\",\"good\",\"bad\",\"good\",\"good\",\"bad\",\"good\",\"bad\",\"bad\",\"bad\",\"bad\",\"good\",\"good\",\"good\",\"bad\",\"good\",\"bad\",\"good\",\"bad\",\"good\",\"bad\",\"bad\",\"good\",\"bad\",\"bad\",\"bad\",\"bad\",\"bad\",\"good\",\"good\",\"good\",\"good\",\"good\",\"good\",\"good\",\"bad\",\"good\",\"bad\",\"bad\",\"bad\",\"bad\",\"good\",\"good\",\"good\",\"good\",\"good\",\"bad\",\"bad\",\"good\",\"good\",\"good\",\"bad\",\"good\",\"good\",\"bad\",\"bad\",\"good\",\"good\",\"bad\",\"good\",\"bad\",\"good\",\"good\",\"good\",\"bad\",\"bad\",\"bad\",\"good\",\"bad\",\"good\",\"good\",\"good\",\"good\",\"good\",\"bad\",\"bad\",\"good\",\"good\",\"good\",\"good\",\"bad\",\"bad\",\"good\",\"good\",\"good\",\"good\",\"good\",\"good\",\"good\",\"good\",\"good\",\"bad\",\"good\",\"good\",\"good\",\"bad\",\"good\",\"good\",\"good\",\"bad\",\"good\",\"good\",\"bad\",\"bad\",\"good\",\"bad\",\"bad\",\"good\",\"bad\",\"bad\",\"good\",\"good\",\"bad\",\"good\",\"bad\",\"good\",\"good\",\"good\",\"good\",\"good\",\"good\",\"good\",\"good\",\"good\",\"good\",\"good\",\"good\",\"good\",\"good\",\"good\",\"bad\",\"good\",\"good\",\"good\",\"bad\",\"good\",\"bad\",\"bad\",\"good\",\"good\",\"good\",\"good\",\"bad\",\"good\",\"bad\",\"good\",\"good\",\"good\",\"bad\",\"good\",\"bad\",\"bad\",\"bad\",\"good\",\"bad\",\"good\",\"bad\",\"good\",\"good\",\"bad\",\"good\",\"good\",\"bad\",\"bad\",\"good\",\"bad\",\"bad\",\"good\",\"bad\",\"bad\",\"good\",\"good\",\"good\",\"good\",\"good\",\"good\",\"good\",\"good\",\"good\",\"bad\",\"good\",\"good\",\"good\",\"good\",\"bad\",\"good\",\"good\",\"bad\",\"good\",\"good\",\"good\",\"good\",\"good\",\"good\",\"bad\",\"good\",\"good\",\"bad\",\"good\",\"good\",\"good\",\"good\",\"bad\",\"good\",\"good\",\"good\",\"good\",\"bad\",\"good\",\"good\",\"good\",\"good\",\"bad\",\"good\",\"good\",\"bad\",\"good\",\"good\",\"good\",\"good\",\"good\",\"good\",\"bad\",\"good\",\"good\",\"bad\",\"bad\",\"bad\",\"good\",\"good\",\"good\",\"good\",\"bad\",\"good\",\"good\",\"good\",\"good\",\"good\",\"good\",\"good\",\"good\",\"good\",\"good\",\"good\",\"bad\",\"good\",\"bad\",\"good\",\"good\",\"bad\",\"good\",\"good\",\"bad\",\"bad\",\"good\",\"good\",\"good\",\"good\",\"good\",\"good\",\"bad\",\"good\",\"good\",\"good\",\"good\",\"good\",\"good\",\"good\",\"good\",\"good\",\"bad\",\"good\",\"bad\",\"good\",\"bad\",\"good\",\"good\",\"good\",\"good\",\"good\",\"bad\",\"good\",\"good\",\"bad\",\"good\",\"good\",\"good\",\"good\",\"good\",\"good\",\"good\",\"good\",\"good\",\"good\",\"bad\",\"good\",\"good\",\"good\",\"good\",\"bad\",\"good\",\"good\",\"good\",\"bad\",\"good\",\"good\",\"bad\",\"good\",\"good\",\"good\",\"good\",\"good\",\"good\",\"bad\",\"good\",\"good\",\"good\",\"good\",\"good\",\"bad\",\"good\",\"good\",\"good\",\"good\",\"good\",\"good\",\"good\",\"bad\",\"good\",\"good\",\"bad\",\"good\",\"good\",\"good\",\"bad\",\"good\",\"good\",\"good\",\"bad\",\"bad\",\"bad\",\"bad\",\"good\",\"good\",\"good\",\"good\",\"good\",\"good\",\"good\",\"good\",\"good\",\"bad\",\"good\",\"bad\",\"good\",\"good\",\"bad\",\"good\",\"bad\",\"bad\",\"good\",\"bad\",\"good\",\"bad\",\"bad\",\"good\",\"bad\",\"good\",\"bad\",\"good\",\"good\",\"good\",\"good\",\"good\",\"good\",\"good\",\"good\",\"good\",\"bad\",\"good\",\"good\",\"good\",\"bad\",\"good\",\"good\",\"good\",\"bad\",\"good\",\"good\",\"good\",\"good\",\"good\",\"good\",\"good\",\"good\",\"good\",\"good\",\"good\",\"good\",\"good\",\"bad\",\"bad\",\"bad\",\"good\",\"bad\",\"good\",\"bad\",\"bad\",\"bad\",\"good\",\"bad\",\"good\",\"good\",\"bad\",\"bad\",\"bad\",\"bad\",\"good\",\"bad\",\"good\",\"bad\",\"bad\",\"bad\",\"good\",\"good\",\"good\",\"bad\",\"bad\",\"bad\",\"bad\",\"bad\",\"bad\",\"good\",\"good\",\"good\",\"bad\",\"bad\",\"bad\",\"bad\",\"good\",\"good\",\"good\",\"good\",\"good\",\"good\",\"good\",\"good\",\"bad\",\"bad\",\"good\",\"good\",\"bad\",\"good\",\"good\",\"good\",\"good\",\"good\",\"good\",\"good\",\"bad\",\"bad\",\"good\",\"bad\",\"bad\",\"bad\",\"bad\",\"good\",\"good\",\"bad\",\"good\",\"bad\",\"bad\",\"good\",\"good\",\"bad\",\"good\",\"good\",\"good\",\"bad\",\"bad\",\"bad\",\"bad\",\"bad\",\"bad\",\"bad\",\"bad\",\"good\",\"bad\",\"good\",\"good\",\"good\",\"good\",\"good\",\"good\",\"good\",\"bad\",\"good\",\"bad\",\"good\",\"good\",\"good\",\"good\",\"good\",\"bad\",\"good\",\"good\",\"bad\",\"good\",\"bad\",\"bad\",\"good\",\"bad\",\"bad\",\"bad\",\"good\",\"good\",\"good\",\"good\",\"good\",\"bad\",\"good\",\"bad\",\"bad\",\"bad\",\"bad\",\"bad\",\"good\",\"bad\",\"bad\",\"bad\",\"bad\",\"bad\",\"good\",\"bad\",\"good\",\"bad\",\"bad\",\"good\",\"bad\",\"good\",\"bad\",\"bad\",\"good\",\"good\",\"bad\",\"bad\",\"good\",\"bad\",\"bad\",\"bad\",\"bad\",\"bad\",\"good\",\"good\",\"good\",\"good\",\"bad\",\"bad\",\"bad\",\"bad\",\"bad\",\"bad\",\"bad\",\"bad\",\"bad\",\"good\",\"bad\",\"bad\",\"bad\",\"bad\",\"good\",\"bad\",\"bad\",\"good\",\"good\",\"bad\",\"bad\",\"good\",\"good\",\"good\",\"good\",\"good\",\"good\",\"good\",\"good\",\"good\",\"good\",\"good\",\"bad\",\"bad\",\"bad\",\"bad\",\"good\",\"bad\",\"bad\",\"bad\",\"bad\",\"good\",\"bad\",\"good\",\"good\",\"good\",\"bad\",\"bad\",\"bad\",\"bad\",\"good\",\"good\",\"good\",\"good\",\"good\",\"bad\",\"bad\",\"bad\",\"good\",\"good\",\"good\",\"bad\",\"bad\",\"good\",\"good\",\"bad\",\"bad\",\"bad\",\"good\",\"good\",\"good\",\"good\",\"bad\",\"good\",\"good\",\"good\",\"bad\",\"bad\",\"good\",\"good\",\"bad\",\"good\",\"good\",\"bad\",\"bad\",\"good\",\"bad\",\"good\",\"bad\",\"bad\",\"bad\",\"good\",\"bad\",\"bad\",\"good\",\"bad\",\"good\",\"bad\",\"bad\",\"bad\",\"bad\",\"bad\",\"bad\",\"bad\",\"bad\",\"bad\",\"bad\",\"bad\",\"good\",\"good\",\"bad\",\"bad\",\"bad\",\"good\",\"good\",\"bad\",\"good\",\"good\",\"good\",\"bad\",\"bad\",\"bad\",\"good\",\"good\",\"bad\",\"good\",\"good\",\"good\",\"bad\",\"good\",\"bad\",\"good\",\"good\",\"good\",\"good\",\"bad\",\"good\",\"bad\",\"bad\",\"good\",\"bad\",\"bad\",\"bad\",\"good\",\"bad\",\"good\",\"good\",\"good\",\"good\",\"good\",\"bad\",\"good\",\"bad\",\"good\",\"good\",\"good\",\"good\",\"bad\",\"bad\",\"good\",\"good\",\"good\",\"good\",\"good\",\"good\",\"bad\",\"bad\",\"bad\",\"good\",\"bad\",\"bad\",\"good\",\"bad\",\"good\",\"good\",\"bad\",\"good\",\"bad\",\"bad\",\"bad\",\"bad\",\"bad\",\"bad\",\"bad\",\"good\",\"good\",\"bad\",\"bad\",\"good\",\"good\",\"good\",\"bad\",\"good\",\"good\",\"good\",\"good\",\"good\",\"good\",\"bad\",\"good\",\"bad\",\"bad\",\"bad\",\"good\",\"good\",\"good\",\"good\",\"good\",\"bad\",\"good\",\"good\",\"good\",\"good\",\"bad\",\"good\",\"good\",\"bad\",\"good\"],\"legendgroup\":\"\",\"marker\":{\"colors\":[\"#00cc96\",\"#00cc96\",\"#00cc96\",\"#ab63fa\",\"#00cc96\",\"#00cc96\",\"#00cc96\",\"#ab63fa\",\"#ab63fa\",\"#00cc96\",\"#00cc96\",\"#00cc96\",\"#00cc96\",\"#00cc96\",\"#00cc96\",\"#00cc96\",\"#ab63fa\",\"#00cc96\",\"#00cc96\",\"#ab63fa\",\"#ab63fa\",\"#00cc96\",\"#00cc96\",\"#00cc96\",\"#ab63fa\",\"#00cc96\",\"#00cc96\",\"#00cc96\",\"#00cc96\",\"#ab63fa\",\"#00cc96\",\"#ab63fa\",\"#00cc96\",\"#ab63fa\",\"#00cc96\",\"#ab63fa\",\"#ab63fa\",\"#ab63fa\",\"#00cc96\",\"#00cc96\",\"#00cc96\",\"#00cc96\",\"#ab63fa\",\"#00cc96\",\"#00cc96\",\"#00cc96\",\"#00cc96\",\"#00cc96\",\"#00cc96\",\"#00cc96\",\"#00cc96\",\"#ab63fa\",\"#ab63fa\",\"#00cc96\",\"#ab63fa\",\"#00cc96\",\"#00cc96\",\"#00cc96\",\"#00cc96\",\"#ab63fa\",\"#00cc96\",\"#00cc96\",\"#ab63fa\",\"#00cc96\",\"#00cc96\",\"#00cc96\",\"#00cc96\",\"#00cc96\",\"#00cc96\",\"#ab63fa\",\"#ab63fa\",\"#00cc96\",\"#00cc96\",\"#00cc96\",\"#00cc96\",\"#00cc96\",\"#00cc96\",\"#ab63fa\",\"#00cc96\",\"#00cc96\",\"#00cc96\",\"#00cc96\",\"#00cc96\",\"#00cc96\",\"#ab63fa\",\"#00cc96\",\"#ab63fa\",\"#00cc96\",\"#00cc96\",\"#00cc96\",\"#00cc96\",\"#ab63fa\",\"#00cc96\",\"#00cc96\",\"#00cc96\",\"#ab63fa\",\"#00cc96\",\"#00cc96\",\"#00cc96\",\"#ab63fa\",\"#ab63fa\",\"#ab63fa\",\"#ab63fa\",\"#00cc96\",\"#00cc96\",\"#00cc96\",\"#00cc96\",\"#00cc96\",\"#ab63fa\",\"#00cc96\",\"#00cc96\",\"#00cc96\",\"#00cc96\",\"#ab63fa\",\"#00cc96\",\"#ab63fa\",\"#ab63fa\",\"#ab63fa\",\"#ab63fa\",\"#ab63fa\",\"#00cc96\",\"#ab63fa\",\"#00cc96\",\"#00cc96\",\"#00cc96\",\"#00cc96\",\"#00cc96\",\"#00cc96\",\"#ab63fa\",\"#00cc96\",\"#00cc96\",\"#00cc96\",\"#00cc96\",\"#ab63fa\",\"#ab63fa\",\"#00cc96\",\"#00cc96\",\"#00cc96\",\"#00cc96\",\"#00cc96\",\"#00cc96\",\"#00cc96\",\"#ab63fa\",\"#00cc96\",\"#ab63fa\",\"#00cc96\",\"#00cc96\",\"#00cc96\",\"#ab63fa\",\"#ab63fa\",\"#ab63fa\",\"#00cc96\",\"#00cc96\",\"#00cc96\",\"#00cc96\",\"#00cc96\",\"#00cc96\",\"#00cc96\",\"#00cc96\",\"#ab63fa\",\"#00cc96\",\"#00cc96\",\"#ab63fa\",\"#00cc96\",\"#00cc96\",\"#00cc96\",\"#00cc96\",\"#00cc96\",\"#ab63fa\",\"#00cc96\",\"#00cc96\",\"#ab63fa\",\"#ab63fa\",\"#ab63fa\",\"#00cc96\",\"#00cc96\",\"#00cc96\",\"#ab63fa\",\"#00cc96\",\"#00cc96\",\"#00cc96\",\"#00cc96\",\"#00cc96\",\"#00cc96\",\"#ab63fa\",\"#00cc96\",\"#00cc96\",\"#00cc96\",\"#00cc96\",\"#00cc96\",\"#00cc96\",\"#ab63fa\",\"#00cc96\",\"#00cc96\",\"#00cc96\",\"#00cc96\",\"#00cc96\",\"#ab63fa\",\"#ab63fa\",\"#00cc96\",\"#ab63fa\",\"#00cc96\",\"#00cc96\",\"#00cc96\",\"#ab63fa\",\"#ab63fa\",\"#ab63fa\",\"#00cc96\",\"#00cc96\",\"#ab63fa\",\"#ab63fa\",\"#ab63fa\",\"#ab63fa\",\"#00cc96\",\"#ab63fa\",\"#00cc96\",\"#00cc96\",\"#00cc96\",\"#00cc96\",\"#00cc96\",\"#ab63fa\",\"#00cc96\",\"#00cc96\",\"#ab63fa\",\"#00cc96\",\"#ab63fa\",\"#ab63fa\",\"#00cc96\",\"#ab63fa\",\"#00cc96\",\"#ab63fa\",\"#ab63fa\",\"#ab63fa\",\"#00cc96\",\"#ab63fa\",\"#ab63fa\",\"#ab63fa\",\"#ab63fa\",\"#ab63fa\",\"#ab63fa\",\"#00cc96\",\"#ab63fa\",\"#ab63fa\",\"#ab63fa\",\"#ab63fa\",\"#ab63fa\",\"#00cc96\",\"#00cc96\",\"#ab63fa\",\"#ab63fa\",\"#ab63fa\",\"#ab63fa\",\"#00cc96\",\"#00cc96\",\"#ab63fa\",\"#00cc96\",\"#00cc96\",\"#00cc96\",\"#00cc96\",\"#ab63fa\",\"#00cc96\",\"#00cc96\",\"#00cc96\",\"#00cc96\",\"#00cc96\",\"#ab63fa\",\"#00cc96\",\"#ab63fa\",\"#ab63fa\",\"#ab63fa\",\"#ab63fa\",\"#ab63fa\",\"#00cc96\",\"#00cc96\",\"#00cc96\",\"#ab63fa\",\"#ab63fa\",\"#ab63fa\",\"#ab63fa\",\"#ab63fa\",\"#ab63fa\",\"#ab63fa\",\"#00cc96\",\"#ab63fa\",\"#00cc96\",\"#00cc96\",\"#ab63fa\",\"#ab63fa\",\"#ab63fa\",\"#00cc96\",\"#ab63fa\",\"#00cc96\",\"#ab63fa\",\"#ab63fa\",\"#ab63fa\",\"#00cc96\",\"#00cc96\",\"#00cc96\",\"#00cc96\",\"#00cc96\",\"#ab63fa\",\"#ab63fa\",\"#00cc96\",\"#00cc96\",\"#00cc96\",\"#ab63fa\",\"#00cc96\",\"#ab63fa\",\"#ab63fa\",\"#ab63fa\",\"#ab63fa\",\"#ab63fa\",\"#ab63fa\",\"#00cc96\",\"#00cc96\",\"#ab63fa\",\"#00cc96\",\"#ab63fa\",\"#ab63fa\",\"#ab63fa\",\"#ab63fa\",\"#00cc96\",\"#00cc96\",\"#ab63fa\",\"#ab63fa\",\"#ab63fa\",\"#ab63fa\",\"#00cc96\",\"#ab63fa\",\"#00cc96\",\"#ab63fa\",\"#ab63fa\",\"#ab63fa\",\"#00cc96\",\"#ab63fa\",\"#ab63fa\",\"#ab63fa\",\"#00cc96\",\"#ab63fa\",\"#ab63fa\",\"#ab63fa\",\"#ab63fa\",\"#ab63fa\",\"#ab63fa\",\"#ab63fa\",\"#00cc96\",\"#ab63fa\",\"#ab63fa\",\"#ab63fa\",\"#ab63fa\",\"#ab63fa\",\"#ab63fa\",\"#00cc96\",\"#00cc96\",\"#ab63fa\",\"#ab63fa\",\"#00cc96\",\"#ab63fa\",\"#ab63fa\",\"#ab63fa\",\"#00cc96\",\"#ab63fa\",\"#00cc96\",\"#00cc96\",\"#ab63fa\",\"#ab63fa\",\"#ab63fa\",\"#00cc96\",\"#00cc96\",\"#ab63fa\",\"#00cc96\",\"#ab63fa\",\"#ab63fa\",\"#00cc96\",\"#ab63fa\",\"#ab63fa\",\"#ab63fa\",\"#ab63fa\",\"#ab63fa\",\"#ab63fa\",\"#ab63fa\",\"#ab63fa\",\"#ab63fa\",\"#ab63fa\",\"#00cc96\",\"#ab63fa\",\"#ab63fa\",\"#ab63fa\",\"#ab63fa\",\"#ab63fa\",\"#ab63fa\",\"#ab63fa\",\"#00cc96\",\"#00cc96\",\"#00cc96\",\"#ab63fa\",\"#00cc96\",\"#ab63fa\",\"#ab63fa\",\"#00cc96\",\"#00cc96\",\"#ab63fa\",\"#ab63fa\",\"#ab63fa\",\"#00cc96\",\"#ab63fa\",\"#ab63fa\",\"#ab63fa\",\"#ab63fa\",\"#00cc96\",\"#ab63fa\",\"#00cc96\",\"#00cc96\",\"#ab63fa\",\"#00cc96\",\"#00cc96\",\"#ab63fa\",\"#00cc96\",\"#ab63fa\",\"#00cc96\",\"#ab63fa\",\"#ab63fa\",\"#00cc96\",\"#ab63fa\",\"#00cc96\",\"#ab63fa\",\"#ab63fa\",\"#ab63fa\",\"#00cc96\",\"#ab63fa\",\"#ab63fa\",\"#00cc96\",\"#ab63fa\",\"#00cc96\",\"#ab63fa\",\"#00cc96\",\"#ab63fa\",\"#ab63fa\",\"#ab63fa\",\"#00cc96\",\"#ab63fa\",\"#ab63fa\",\"#ab63fa\",\"#ab63fa\",\"#ab63fa\",\"#ab63fa\",\"#00cc96\",\"#00cc96\",\"#ab63fa\",\"#ab63fa\",\"#ab63fa\",\"#ab63fa\",\"#ab63fa\",\"#ab63fa\",\"#00cc96\",\"#ab63fa\",\"#00cc96\",\"#00cc96\",\"#ab63fa\",\"#00cc96\",\"#ab63fa\",\"#00cc96\",\"#00cc96\",\"#00cc96\",\"#ab63fa\",\"#00cc96\",\"#ab63fa\",\"#ab63fa\",\"#ab63fa\",\"#00cc96\",\"#00cc96\",\"#ab63fa\",\"#ab63fa\",\"#00cc96\",\"#ab63fa\",\"#00cc96\",\"#00cc96\",\"#ab63fa\",\"#00cc96\",\"#ab63fa\",\"#00cc96\",\"#ab63fa\",\"#00cc96\",\"#00cc96\",\"#ab63fa\",\"#00cc96\",\"#00cc96\",\"#ab63fa\",\"#ab63fa\",\"#ab63fa\",\"#ab63fa\",\"#ab63fa\",\"#ab63fa\",\"#ab63fa\",\"#ab63fa\",\"#ab63fa\",\"#ab63fa\",\"#00cc96\",\"#ab63fa\",\"#ab63fa\",\"#ab63fa\",\"#ab63fa\",\"#ab63fa\",\"#ab63fa\",\"#ab63fa\",\"#ab63fa\",\"#ab63fa\",\"#ab63fa\",\"#ab63fa\",\"#ab63fa\",\"#00cc96\",\"#ab63fa\",\"#ab63fa\",\"#ab63fa\",\"#ab63fa\",\"#00cc96\",\"#ab63fa\",\"#00cc96\",\"#ab63fa\",\"#00cc96\",\"#ab63fa\",\"#00cc96\",\"#00cc96\",\"#00cc96\",\"#00cc96\",\"#00cc96\",\"#00cc96\",\"#ab63fa\",\"#ab63fa\",\"#00cc96\",\"#ab63fa\",\"#00cc96\",\"#00cc96\",\"#ab63fa\",\"#ab63fa\",\"#ab63fa\",\"#00cc96\",\"#ab63fa\",\"#ab63fa\",\"#00cc96\",\"#00cc96\",\"#ab63fa\",\"#00cc96\",\"#ab63fa\",\"#ab63fa\",\"#00cc96\",\"#ab63fa\",\"#ab63fa\",\"#ab63fa\",\"#ab63fa\",\"#ab63fa\",\"#ab63fa\",\"#ab63fa\",\"#00cc96\",\"#00cc96\",\"#00cc96\",\"#ab63fa\",\"#00cc96\",\"#ab63fa\",\"#ab63fa\",\"#00cc96\",\"#00cc96\",\"#00cc96\",\"#ab63fa\",\"#ab63fa\",\"#00cc96\",\"#ab63fa\",\"#ab63fa\",\"#ab63fa\",\"#ab63fa\",\"#ab63fa\",\"#ab63fa\",\"#00cc96\",\"#00cc96\",\"#ab63fa\",\"#ab63fa\",\"#00cc96\",\"#00cc96\",\"#00cc96\",\"#ab63fa\",\"#00cc96\",\"#00cc96\",\"#00cc96\",\"#ab63fa\",\"#ab63fa\",\"#ab63fa\",\"#ab63fa\",\"#00cc96\",\"#ab63fa\",\"#ab63fa\",\"#00cc96\",\"#ab63fa\",\"#00cc96\",\"#00cc96\",\"#00cc96\",\"#00cc96\",\"#ab63fa\",\"#ab63fa\",\"#ab63fa\",\"#ab63fa\",\"#00cc96\",\"#ab63fa\",\"#00cc96\",\"#ab63fa\",\"#ab63fa\",\"#ab63fa\",\"#ab63fa\",\"#ab63fa\",\"#ab63fa\",\"#ab63fa\",\"#00cc96\",\"#00cc96\",\"#ab63fa\",\"#00cc96\",\"#ab63fa\",\"#00cc96\",\"#00cc96\",\"#ab63fa\",\"#00cc96\",\"#00cc96\",\"#00cc96\",\"#00cc96\",\"#00cc96\",\"#ab63fa\",\"#00cc96\",\"#00cc96\",\"#00cc96\",\"#00cc96\",\"#ab63fa\",\"#00cc96\",\"#ab63fa\",\"#00cc96\",\"#ab63fa\",\"#00cc96\",\"#00cc96\",\"#00cc96\",\"#00cc96\",\"#00cc96\",\"#ab63fa\",\"#ab63fa\",\"#00cc96\",\"#00cc96\",\"#00cc96\",\"#00cc96\",\"#00cc96\",\"#ab63fa\",\"#00cc96\",\"#00cc96\",\"#ab63fa\",\"#ab63fa\",\"#00cc96\",\"#00cc96\",\"#00cc96\",\"#ab63fa\",\"#00cc96\",\"#00cc96\",\"#00cc96\",\"#ab63fa\",\"#ab63fa\",\"#00cc96\",\"#ab63fa\",\"#00cc96\",\"#ab63fa\",\"#ab63fa\",\"#00cc96\",\"#00cc96\",\"#ab63fa\",\"#ab63fa\",\"#00cc96\",\"#ab63fa\",\"#00cc96\",\"#00cc96\",\"#00cc96\",\"#00cc96\",\"#ab63fa\",\"#00cc96\",\"#ab63fa\",\"#00cc96\",\"#00cc96\",\"#00cc96\",\"#00cc96\",\"#ab63fa\",\"#00cc96\",\"#00cc96\",\"#00cc96\",\"#00cc96\",\"#00cc96\",\"#00cc96\",\"#00cc96\",\"#00cc96\",\"#00cc96\",\"#00cc96\",\"#00cc96\",\"#00cc96\",\"#00cc96\",\"#ab63fa\",\"#ab63fa\",\"#ab63fa\",\"#00cc96\",\"#ab63fa\",\"#ab63fa\",\"#ab63fa\",\"#ab63fa\",\"#00cc96\",\"#00cc96\",\"#00cc96\",\"#00cc96\",\"#00cc96\",\"#ab63fa\",\"#ab63fa\",\"#00cc96\",\"#00cc96\",\"#00cc96\",\"#00cc96\",\"#00cc96\",\"#ab63fa\",\"#00cc96\",\"#00cc96\",\"#00cc96\",\"#00cc96\",\"#00cc96\",\"#00cc96\",\"#00cc96\",\"#00cc96\",\"#00cc96\",\"#00cc96\",\"#ab63fa\",\"#00cc96\",\"#00cc96\",\"#ab63fa\",\"#00cc96\",\"#00cc96\",\"#00cc96\",\"#00cc96\",\"#00cc96\",\"#00cc96\",\"#00cc96\",\"#ab63fa\",\"#00cc96\",\"#00cc96\",\"#ab63fa\",\"#00cc96\",\"#00cc96\",\"#00cc96\",\"#00cc96\",\"#ab63fa\",\"#ab63fa\",\"#00cc96\",\"#ab63fa\",\"#ab63fa\",\"#00cc96\",\"#00cc96\",\"#00cc96\",\"#00cc96\",\"#ab63fa\",\"#ab63fa\",\"#ab63fa\",\"#00cc96\",\"#00cc96\",\"#00cc96\",\"#00cc96\",\"#00cc96\",\"#ab63fa\",\"#00cc96\",\"#ab63fa\",\"#ab63fa\",\"#00cc96\",\"#00cc96\",\"#ab63fa\",\"#00cc96\",\"#ab63fa\",\"#00cc96\",\"#00cc96\",\"#ab63fa\",\"#ab63fa\",\"#00cc96\",\"#ab63fa\",\"#ab63fa\",\"#00cc96\",\"#00cc96\",\"#ab63fa\",\"#00cc96\",\"#00cc96\",\"#00cc96\",\"#00cc96\",\"#00cc96\",\"#00cc96\",\"#ab63fa\",\"#ab63fa\",\"#00cc96\",\"#ab63fa\",\"#00cc96\",\"#ab63fa\",\"#00cc96\",\"#ab63fa\",\"#00cc96\",\"#00cc96\",\"#ab63fa\",\"#ab63fa\",\"#ab63fa\",\"#00cc96\",\"#00cc96\",\"#ab63fa\",\"#ab63fa\",\"#ab63fa\",\"#ab63fa\",\"#ab63fa\",\"#ab63fa\",\"#00cc96\",\"#ab63fa\",\"#00cc96\",\"#ab63fa\",\"#00cc96\",\"#00cc96\",\"#ab63fa\",\"#00cc96\",\"#ab63fa\",\"#ab63fa\",\"#00cc96\",\"#00cc96\",\"#00cc96\",\"#ab63fa\",\"#00cc96\",\"#00cc96\",\"#00cc96\",\"#00cc96\",\"#ab63fa\",\"#00cc96\",\"#ab63fa\",\"#ab63fa\",\"#00cc96\",\"#ab63fa\",\"#00cc96\",\"#00cc96\",\"#00cc96\",\"#00cc96\",\"#ab63fa\",\"#ab63fa\",\"#ab63fa\",\"#00cc96\",\"#ab63fa\",\"#00cc96\",\"#ab63fa\",\"#00cc96\",\"#ab63fa\",\"#00cc96\",\"#00cc96\",\"#ab63fa\",\"#00cc96\",\"#00cc96\",\"#00cc96\",\"#00cc96\",\"#00cc96\",\"#ab63fa\",\"#ab63fa\",\"#ab63fa\",\"#ab63fa\",\"#ab63fa\",\"#ab63fa\",\"#ab63fa\",\"#00cc96\",\"#ab63fa\",\"#00cc96\",\"#00cc96\",\"#00cc96\",\"#00cc96\",\"#ab63fa\",\"#ab63fa\",\"#ab63fa\",\"#ab63fa\",\"#ab63fa\",\"#00cc96\",\"#00cc96\",\"#ab63fa\",\"#ab63fa\",\"#ab63fa\",\"#00cc96\",\"#ab63fa\",\"#ab63fa\",\"#00cc96\",\"#00cc96\",\"#ab63fa\",\"#ab63fa\",\"#00cc96\",\"#ab63fa\",\"#00cc96\",\"#ab63fa\",\"#ab63fa\",\"#ab63fa\",\"#00cc96\",\"#00cc96\",\"#00cc96\",\"#ab63fa\",\"#00cc96\",\"#ab63fa\",\"#ab63fa\",\"#ab63fa\",\"#ab63fa\",\"#ab63fa\",\"#00cc96\",\"#00cc96\",\"#ab63fa\",\"#ab63fa\",\"#ab63fa\",\"#ab63fa\",\"#00cc96\",\"#00cc96\",\"#ab63fa\",\"#ab63fa\",\"#ab63fa\",\"#ab63fa\",\"#ab63fa\",\"#ab63fa\",\"#ab63fa\",\"#ab63fa\",\"#ab63fa\",\"#00cc96\",\"#ab63fa\",\"#ab63fa\",\"#ab63fa\",\"#00cc96\",\"#ab63fa\",\"#ab63fa\",\"#ab63fa\",\"#00cc96\",\"#ab63fa\",\"#ab63fa\",\"#00cc96\",\"#00cc96\",\"#ab63fa\",\"#00cc96\",\"#00cc96\",\"#ab63fa\",\"#00cc96\",\"#00cc96\",\"#ab63fa\",\"#ab63fa\",\"#00cc96\",\"#ab63fa\",\"#00cc96\",\"#ab63fa\",\"#ab63fa\",\"#ab63fa\",\"#ab63fa\",\"#ab63fa\",\"#ab63fa\",\"#ab63fa\",\"#ab63fa\",\"#ab63fa\",\"#ab63fa\",\"#ab63fa\",\"#ab63fa\",\"#ab63fa\",\"#ab63fa\",\"#ab63fa\",\"#00cc96\",\"#ab63fa\",\"#ab63fa\",\"#ab63fa\",\"#00cc96\",\"#ab63fa\",\"#00cc96\",\"#00cc96\",\"#ab63fa\",\"#ab63fa\",\"#ab63fa\",\"#ab63fa\",\"#00cc96\",\"#ab63fa\",\"#00cc96\",\"#ab63fa\",\"#ab63fa\",\"#ab63fa\",\"#00cc96\",\"#ab63fa\",\"#00cc96\",\"#00cc96\",\"#00cc96\",\"#ab63fa\",\"#00cc96\",\"#ab63fa\",\"#00cc96\",\"#ab63fa\",\"#ab63fa\",\"#00cc96\",\"#ab63fa\",\"#ab63fa\",\"#00cc96\",\"#00cc96\",\"#ab63fa\",\"#00cc96\",\"#00cc96\",\"#ab63fa\",\"#00cc96\",\"#00cc96\",\"#ab63fa\",\"#ab63fa\",\"#ab63fa\",\"#ab63fa\",\"#ab63fa\",\"#ab63fa\",\"#ab63fa\",\"#ab63fa\",\"#ab63fa\",\"#00cc96\",\"#ab63fa\",\"#ab63fa\",\"#ab63fa\",\"#ab63fa\",\"#00cc96\",\"#ab63fa\",\"#ab63fa\",\"#00cc96\",\"#ab63fa\",\"#ab63fa\",\"#ab63fa\",\"#ab63fa\",\"#ab63fa\",\"#ab63fa\",\"#00cc96\",\"#ab63fa\",\"#ab63fa\",\"#00cc96\",\"#ab63fa\",\"#ab63fa\",\"#ab63fa\",\"#ab63fa\",\"#00cc96\",\"#ab63fa\",\"#ab63fa\",\"#ab63fa\",\"#ab63fa\",\"#00cc96\",\"#ab63fa\",\"#ab63fa\",\"#ab63fa\",\"#ab63fa\",\"#00cc96\",\"#ab63fa\",\"#ab63fa\",\"#00cc96\",\"#ab63fa\",\"#ab63fa\",\"#ab63fa\",\"#ab63fa\",\"#ab63fa\",\"#ab63fa\",\"#00cc96\",\"#ab63fa\",\"#ab63fa\",\"#00cc96\",\"#00cc96\",\"#00cc96\",\"#ab63fa\",\"#ab63fa\",\"#ab63fa\",\"#ab63fa\",\"#00cc96\",\"#ab63fa\",\"#ab63fa\",\"#ab63fa\",\"#ab63fa\",\"#ab63fa\",\"#ab63fa\",\"#ab63fa\",\"#ab63fa\",\"#ab63fa\",\"#ab63fa\",\"#ab63fa\",\"#00cc96\",\"#ab63fa\",\"#00cc96\",\"#ab63fa\",\"#ab63fa\",\"#00cc96\",\"#ab63fa\",\"#ab63fa\",\"#00cc96\",\"#00cc96\",\"#ab63fa\",\"#ab63fa\",\"#ab63fa\",\"#ab63fa\",\"#ab63fa\",\"#ab63fa\",\"#00cc96\",\"#ab63fa\",\"#ab63fa\",\"#ab63fa\",\"#ab63fa\",\"#ab63fa\",\"#ab63fa\",\"#ab63fa\",\"#ab63fa\",\"#ab63fa\",\"#00cc96\",\"#ab63fa\",\"#00cc96\",\"#ab63fa\",\"#00cc96\",\"#ab63fa\",\"#ab63fa\",\"#ab63fa\",\"#ab63fa\",\"#ab63fa\",\"#00cc96\",\"#ab63fa\",\"#ab63fa\",\"#00cc96\",\"#ab63fa\",\"#ab63fa\",\"#ab63fa\",\"#ab63fa\",\"#ab63fa\",\"#ab63fa\",\"#ab63fa\",\"#ab63fa\",\"#ab63fa\",\"#ab63fa\",\"#00cc96\",\"#ab63fa\",\"#ab63fa\",\"#ab63fa\",\"#ab63fa\",\"#00cc96\",\"#ab63fa\",\"#ab63fa\",\"#ab63fa\",\"#00cc96\",\"#ab63fa\",\"#ab63fa\",\"#00cc96\",\"#ab63fa\",\"#ab63fa\",\"#ab63fa\",\"#ab63fa\",\"#ab63fa\",\"#ab63fa\",\"#00cc96\",\"#ab63fa\",\"#ab63fa\",\"#ab63fa\",\"#ab63fa\",\"#ab63fa\",\"#00cc96\",\"#ab63fa\",\"#ab63fa\",\"#ab63fa\",\"#ab63fa\",\"#ab63fa\",\"#ab63fa\",\"#ab63fa\",\"#00cc96\",\"#ab63fa\",\"#ab63fa\",\"#00cc96\",\"#ab63fa\",\"#ab63fa\",\"#ab63fa\",\"#00cc96\",\"#ab63fa\",\"#ab63fa\",\"#ab63fa\",\"#00cc96\",\"#00cc96\",\"#00cc96\",\"#00cc96\",\"#ab63fa\",\"#ab63fa\",\"#ab63fa\",\"#ab63fa\",\"#ab63fa\",\"#ab63fa\",\"#ab63fa\",\"#ab63fa\",\"#ab63fa\",\"#00cc96\",\"#ab63fa\",\"#00cc96\",\"#ab63fa\",\"#ab63fa\",\"#00cc96\",\"#ab63fa\",\"#00cc96\",\"#00cc96\",\"#ab63fa\",\"#00cc96\",\"#ab63fa\",\"#00cc96\",\"#00cc96\",\"#ab63fa\",\"#00cc96\",\"#ab63fa\",\"#00cc96\",\"#ab63fa\",\"#ab63fa\",\"#ab63fa\",\"#ab63fa\",\"#ab63fa\",\"#ab63fa\",\"#ab63fa\",\"#ab63fa\",\"#ab63fa\",\"#00cc96\",\"#ab63fa\",\"#ab63fa\",\"#ab63fa\",\"#00cc96\",\"#ab63fa\",\"#ab63fa\",\"#ab63fa\",\"#00cc96\",\"#ab63fa\",\"#ab63fa\",\"#ab63fa\",\"#ab63fa\",\"#ab63fa\",\"#ab63fa\",\"#ab63fa\",\"#ab63fa\",\"#ab63fa\",\"#ab63fa\",\"#ab63fa\",\"#ab63fa\",\"#ab63fa\",\"#00cc96\",\"#00cc96\",\"#00cc96\",\"#ab63fa\",\"#00cc96\",\"#ab63fa\",\"#00cc96\",\"#00cc96\",\"#00cc96\",\"#ab63fa\",\"#00cc96\",\"#ab63fa\",\"#ab63fa\",\"#00cc96\",\"#00cc96\",\"#00cc96\",\"#00cc96\",\"#ab63fa\",\"#00cc96\",\"#ab63fa\",\"#00cc96\",\"#00cc96\",\"#00cc96\",\"#ab63fa\",\"#ab63fa\",\"#ab63fa\",\"#00cc96\",\"#00cc96\",\"#00cc96\",\"#00cc96\",\"#00cc96\",\"#00cc96\",\"#ab63fa\",\"#ab63fa\",\"#ab63fa\",\"#00cc96\",\"#00cc96\",\"#00cc96\",\"#00cc96\",\"#ab63fa\",\"#ab63fa\",\"#ab63fa\",\"#ab63fa\",\"#ab63fa\",\"#ab63fa\",\"#ab63fa\",\"#ab63fa\",\"#00cc96\",\"#00cc96\",\"#ab63fa\",\"#ab63fa\",\"#00cc96\",\"#ab63fa\",\"#ab63fa\",\"#ab63fa\",\"#ab63fa\",\"#ab63fa\",\"#ab63fa\",\"#ab63fa\",\"#00cc96\",\"#00cc96\",\"#ab63fa\",\"#00cc96\",\"#00cc96\",\"#00cc96\",\"#00cc96\",\"#ab63fa\",\"#ab63fa\",\"#00cc96\",\"#ab63fa\",\"#00cc96\",\"#00cc96\",\"#ab63fa\",\"#ab63fa\",\"#00cc96\",\"#ab63fa\",\"#ab63fa\",\"#ab63fa\",\"#00cc96\",\"#00cc96\",\"#00cc96\",\"#00cc96\",\"#00cc96\",\"#00cc96\",\"#00cc96\",\"#00cc96\",\"#ab63fa\",\"#00cc96\",\"#ab63fa\",\"#ab63fa\",\"#ab63fa\",\"#ab63fa\",\"#ab63fa\",\"#ab63fa\",\"#ab63fa\",\"#00cc96\",\"#ab63fa\",\"#00cc96\",\"#ab63fa\",\"#ab63fa\",\"#ab63fa\",\"#ab63fa\",\"#ab63fa\",\"#00cc96\",\"#ab63fa\",\"#ab63fa\",\"#00cc96\",\"#ab63fa\",\"#00cc96\",\"#00cc96\",\"#ab63fa\",\"#00cc96\",\"#00cc96\",\"#00cc96\",\"#ab63fa\",\"#ab63fa\",\"#ab63fa\",\"#ab63fa\",\"#ab63fa\",\"#00cc96\",\"#ab63fa\",\"#00cc96\",\"#00cc96\",\"#00cc96\",\"#00cc96\",\"#00cc96\",\"#ab63fa\",\"#00cc96\",\"#00cc96\",\"#00cc96\",\"#00cc96\",\"#00cc96\",\"#ab63fa\",\"#00cc96\",\"#ab63fa\",\"#00cc96\",\"#00cc96\",\"#ab63fa\",\"#00cc96\",\"#ab63fa\",\"#00cc96\",\"#00cc96\",\"#ab63fa\",\"#ab63fa\",\"#00cc96\",\"#00cc96\",\"#ab63fa\",\"#00cc96\",\"#00cc96\",\"#00cc96\",\"#00cc96\",\"#00cc96\",\"#ab63fa\",\"#ab63fa\",\"#ab63fa\",\"#ab63fa\",\"#00cc96\",\"#00cc96\",\"#00cc96\",\"#00cc96\",\"#00cc96\",\"#00cc96\",\"#00cc96\",\"#00cc96\",\"#00cc96\",\"#ab63fa\",\"#00cc96\",\"#00cc96\",\"#00cc96\",\"#00cc96\",\"#ab63fa\",\"#00cc96\",\"#00cc96\",\"#ab63fa\",\"#ab63fa\",\"#00cc96\",\"#00cc96\",\"#ab63fa\",\"#ab63fa\",\"#ab63fa\",\"#ab63fa\",\"#ab63fa\",\"#ab63fa\",\"#ab63fa\",\"#ab63fa\",\"#ab63fa\",\"#ab63fa\",\"#ab63fa\",\"#00cc96\",\"#00cc96\",\"#00cc96\",\"#00cc96\",\"#ab63fa\",\"#00cc96\",\"#00cc96\",\"#00cc96\",\"#00cc96\",\"#ab63fa\",\"#00cc96\",\"#ab63fa\",\"#ab63fa\",\"#ab63fa\",\"#00cc96\",\"#00cc96\",\"#00cc96\",\"#00cc96\",\"#ab63fa\",\"#ab63fa\",\"#ab63fa\",\"#ab63fa\",\"#ab63fa\",\"#00cc96\",\"#00cc96\",\"#00cc96\",\"#ab63fa\",\"#ab63fa\",\"#ab63fa\",\"#00cc96\",\"#00cc96\",\"#ab63fa\",\"#ab63fa\",\"#00cc96\",\"#00cc96\",\"#00cc96\",\"#ab63fa\",\"#ab63fa\",\"#ab63fa\",\"#ab63fa\",\"#00cc96\",\"#ab63fa\",\"#ab63fa\",\"#ab63fa\",\"#00cc96\",\"#00cc96\",\"#ab63fa\",\"#ab63fa\",\"#00cc96\",\"#ab63fa\",\"#ab63fa\",\"#00cc96\",\"#00cc96\",\"#ab63fa\",\"#00cc96\",\"#ab63fa\",\"#00cc96\",\"#00cc96\",\"#00cc96\",\"#ab63fa\",\"#00cc96\",\"#00cc96\",\"#ab63fa\",\"#00cc96\",\"#ab63fa\",\"#00cc96\",\"#00cc96\",\"#00cc96\",\"#00cc96\",\"#00cc96\",\"#00cc96\",\"#00cc96\",\"#00cc96\",\"#00cc96\",\"#00cc96\",\"#00cc96\",\"#ab63fa\",\"#ab63fa\",\"#00cc96\",\"#00cc96\",\"#00cc96\",\"#ab63fa\",\"#ab63fa\",\"#00cc96\",\"#ab63fa\",\"#ab63fa\",\"#ab63fa\",\"#00cc96\",\"#00cc96\",\"#00cc96\",\"#ab63fa\",\"#ab63fa\",\"#00cc96\",\"#ab63fa\",\"#ab63fa\",\"#ab63fa\",\"#00cc96\",\"#ab63fa\",\"#00cc96\",\"#ab63fa\",\"#ab63fa\",\"#ab63fa\",\"#ab63fa\",\"#00cc96\",\"#ab63fa\",\"#00cc96\",\"#00cc96\",\"#ab63fa\",\"#00cc96\",\"#00cc96\",\"#00cc96\",\"#ab63fa\",\"#00cc96\",\"#ab63fa\",\"#ab63fa\",\"#ab63fa\",\"#ab63fa\",\"#ab63fa\",\"#00cc96\",\"#ab63fa\",\"#00cc96\",\"#ab63fa\",\"#ab63fa\",\"#ab63fa\",\"#ab63fa\",\"#00cc96\",\"#00cc96\",\"#ab63fa\",\"#ab63fa\",\"#ab63fa\",\"#ab63fa\",\"#ab63fa\",\"#ab63fa\",\"#00cc96\",\"#00cc96\",\"#00cc96\",\"#ab63fa\",\"#00cc96\",\"#00cc96\",\"#ab63fa\",\"#00cc96\",\"#ab63fa\",\"#ab63fa\",\"#00cc96\",\"#ab63fa\",\"#00cc96\",\"#00cc96\",\"#00cc96\",\"#00cc96\",\"#00cc96\",\"#00cc96\",\"#00cc96\",\"#ab63fa\",\"#ab63fa\",\"#00cc96\",\"#00cc96\",\"#ab63fa\",\"#ab63fa\",\"#ab63fa\",\"#00cc96\",\"#ab63fa\",\"#ab63fa\",\"#ab63fa\",\"#ab63fa\",\"#ab63fa\",\"#ab63fa\",\"#00cc96\",\"#ab63fa\",\"#00cc96\",\"#00cc96\",\"#00cc96\",\"#ab63fa\",\"#ab63fa\",\"#ab63fa\",\"#ab63fa\",\"#ab63fa\",\"#00cc96\",\"#ab63fa\",\"#ab63fa\",\"#ab63fa\",\"#ab63fa\",\"#00cc96\",\"#ab63fa\",\"#ab63fa\",\"#00cc96\",\"#ab63fa\"]},\"name\":\"\",\"showlegend\":true,\"type\":\"pie\"}],                        {\"template\":{\"data\":{\"histogram2dcontour\":[{\"type\":\"histogram2dcontour\",\"colorbar\":{\"outlinewidth\":0,\"ticks\":\"\"},\"colorscale\":[[0.0,\"#0d0887\"],[0.1111111111111111,\"#46039f\"],[0.2222222222222222,\"#7201a8\"],[0.3333333333333333,\"#9c179e\"],[0.4444444444444444,\"#bd3786\"],[0.5555555555555556,\"#d8576b\"],[0.6666666666666666,\"#ed7953\"],[0.7777777777777778,\"#fb9f3a\"],[0.8888888888888888,\"#fdca26\"],[1.0,\"#f0f921\"]]}],\"choropleth\":[{\"type\":\"choropleth\",\"colorbar\":{\"outlinewidth\":0,\"ticks\":\"\"}}],\"histogram2d\":[{\"type\":\"histogram2d\",\"colorbar\":{\"outlinewidth\":0,\"ticks\":\"\"},\"colorscale\":[[0.0,\"#0d0887\"],[0.1111111111111111,\"#46039f\"],[0.2222222222222222,\"#7201a8\"],[0.3333333333333333,\"#9c179e\"],[0.4444444444444444,\"#bd3786\"],[0.5555555555555556,\"#d8576b\"],[0.6666666666666666,\"#ed7953\"],[0.7777777777777778,\"#fb9f3a\"],[0.8888888888888888,\"#fdca26\"],[1.0,\"#f0f921\"]]}],\"heatmap\":[{\"type\":\"heatmap\",\"colorbar\":{\"outlinewidth\":0,\"ticks\":\"\"},\"colorscale\":[[0.0,\"#0d0887\"],[0.1111111111111111,\"#46039f\"],[0.2222222222222222,\"#7201a8\"],[0.3333333333333333,\"#9c179e\"],[0.4444444444444444,\"#bd3786\"],[0.5555555555555556,\"#d8576b\"],[0.6666666666666666,\"#ed7953\"],[0.7777777777777778,\"#fb9f3a\"],[0.8888888888888888,\"#fdca26\"],[1.0,\"#f0f921\"]]}],\"heatmapgl\":[{\"type\":\"heatmapgl\",\"colorbar\":{\"outlinewidth\":0,\"ticks\":\"\"},\"colorscale\":[[0.0,\"#0d0887\"],[0.1111111111111111,\"#46039f\"],[0.2222222222222222,\"#7201a8\"],[0.3333333333333333,\"#9c179e\"],[0.4444444444444444,\"#bd3786\"],[0.5555555555555556,\"#d8576b\"],[0.6666666666666666,\"#ed7953\"],[0.7777777777777778,\"#fb9f3a\"],[0.8888888888888888,\"#fdca26\"],[1.0,\"#f0f921\"]]}],\"contourcarpet\":[{\"type\":\"contourcarpet\",\"colorbar\":{\"outlinewidth\":0,\"ticks\":\"\"}}],\"contour\":[{\"type\":\"contour\",\"colorbar\":{\"outlinewidth\":0,\"ticks\":\"\"},\"colorscale\":[[0.0,\"#0d0887\"],[0.1111111111111111,\"#46039f\"],[0.2222222222222222,\"#7201a8\"],[0.3333333333333333,\"#9c179e\"],[0.4444444444444444,\"#bd3786\"],[0.5555555555555556,\"#d8576b\"],[0.6666666666666666,\"#ed7953\"],[0.7777777777777778,\"#fb9f3a\"],[0.8888888888888888,\"#fdca26\"],[1.0,\"#f0f921\"]]}],\"surface\":[{\"type\":\"surface\",\"colorbar\":{\"outlinewidth\":0,\"ticks\":\"\"},\"colorscale\":[[0.0,\"#0d0887\"],[0.1111111111111111,\"#46039f\"],[0.2222222222222222,\"#7201a8\"],[0.3333333333333333,\"#9c179e\"],[0.4444444444444444,\"#bd3786\"],[0.5555555555555556,\"#d8576b\"],[0.6666666666666666,\"#ed7953\"],[0.7777777777777778,\"#fb9f3a\"],[0.8888888888888888,\"#fdca26\"],[1.0,\"#f0f921\"]]}],\"mesh3d\":[{\"type\":\"mesh3d\",\"colorbar\":{\"outlinewidth\":0,\"ticks\":\"\"}}],\"scatter\":[{\"fillpattern\":{\"fillmode\":\"overlay\",\"size\":10,\"solidity\":0.2},\"type\":\"scatter\"}],\"parcoords\":[{\"type\":\"parcoords\",\"line\":{\"colorbar\":{\"outlinewidth\":0,\"ticks\":\"\"}}}],\"scatterpolargl\":[{\"type\":\"scatterpolargl\",\"marker\":{\"colorbar\":{\"outlinewidth\":0,\"ticks\":\"\"}}}],\"bar\":[{\"error_x\":{\"color\":\"#2a3f5f\"},\"error_y\":{\"color\":\"#2a3f5f\"},\"marker\":{\"line\":{\"color\":\"#E5ECF6\",\"width\":0.5},\"pattern\":{\"fillmode\":\"overlay\",\"size\":10,\"solidity\":0.2}},\"type\":\"bar\"}],\"scattergeo\":[{\"type\":\"scattergeo\",\"marker\":{\"colorbar\":{\"outlinewidth\":0,\"ticks\":\"\"}}}],\"scatterpolar\":[{\"type\":\"scatterpolar\",\"marker\":{\"colorbar\":{\"outlinewidth\":0,\"ticks\":\"\"}}}],\"histogram\":[{\"marker\":{\"pattern\":{\"fillmode\":\"overlay\",\"size\":10,\"solidity\":0.2}},\"type\":\"histogram\"}],\"scattergl\":[{\"type\":\"scattergl\",\"marker\":{\"colorbar\":{\"outlinewidth\":0,\"ticks\":\"\"}}}],\"scatter3d\":[{\"type\":\"scatter3d\",\"line\":{\"colorbar\":{\"outlinewidth\":0,\"ticks\":\"\"}},\"marker\":{\"colorbar\":{\"outlinewidth\":0,\"ticks\":\"\"}}}],\"scattermapbox\":[{\"type\":\"scattermapbox\",\"marker\":{\"colorbar\":{\"outlinewidth\":0,\"ticks\":\"\"}}}],\"scatterternary\":[{\"type\":\"scatterternary\",\"marker\":{\"colorbar\":{\"outlinewidth\":0,\"ticks\":\"\"}}}],\"scattercarpet\":[{\"type\":\"scattercarpet\",\"marker\":{\"colorbar\":{\"outlinewidth\":0,\"ticks\":\"\"}}}],\"carpet\":[{\"aaxis\":{\"endlinecolor\":\"#2a3f5f\",\"gridcolor\":\"white\",\"linecolor\":\"white\",\"minorgridcolor\":\"white\",\"startlinecolor\":\"#2a3f5f\"},\"baxis\":{\"endlinecolor\":\"#2a3f5f\",\"gridcolor\":\"white\",\"linecolor\":\"white\",\"minorgridcolor\":\"white\",\"startlinecolor\":\"#2a3f5f\"},\"type\":\"carpet\"}],\"table\":[{\"cells\":{\"fill\":{\"color\":\"#EBF0F8\"},\"line\":{\"color\":\"white\"}},\"header\":{\"fill\":{\"color\":\"#C8D4E3\"},\"line\":{\"color\":\"white\"}},\"type\":\"table\"}],\"barpolar\":[{\"marker\":{\"line\":{\"color\":\"#E5ECF6\",\"width\":0.5},\"pattern\":{\"fillmode\":\"overlay\",\"size\":10,\"solidity\":0.2}},\"type\":\"barpolar\"}],\"pie\":[{\"automargin\":true,\"type\":\"pie\"}]},\"layout\":{\"autotypenumbers\":\"strict\",\"colorway\":[\"#636efa\",\"#EF553B\",\"#00cc96\",\"#ab63fa\",\"#FFA15A\",\"#19d3f3\",\"#FF6692\",\"#B6E880\",\"#FF97FF\",\"#FECB52\"],\"font\":{\"color\":\"#2a3f5f\"},\"hovermode\":\"closest\",\"hoverlabel\":{\"align\":\"left\"},\"paper_bgcolor\":\"white\",\"plot_bgcolor\":\"#E5ECF6\",\"polar\":{\"bgcolor\":\"#E5ECF6\",\"angularaxis\":{\"gridcolor\":\"white\",\"linecolor\":\"white\",\"ticks\":\"\"},\"radialaxis\":{\"gridcolor\":\"white\",\"linecolor\":\"white\",\"ticks\":\"\"}},\"ternary\":{\"bgcolor\":\"#E5ECF6\",\"aaxis\":{\"gridcolor\":\"white\",\"linecolor\":\"white\",\"ticks\":\"\"},\"baxis\":{\"gridcolor\":\"white\",\"linecolor\":\"white\",\"ticks\":\"\"},\"caxis\":{\"gridcolor\":\"white\",\"linecolor\":\"white\",\"ticks\":\"\"}},\"coloraxis\":{\"colorbar\":{\"outlinewidth\":0,\"ticks\":\"\"}},\"colorscale\":{\"sequential\":[[0.0,\"#0d0887\"],[0.1111111111111111,\"#46039f\"],[0.2222222222222222,\"#7201a8\"],[0.3333333333333333,\"#9c179e\"],[0.4444444444444444,\"#bd3786\"],[0.5555555555555556,\"#d8576b\"],[0.6666666666666666,\"#ed7953\"],[0.7777777777777778,\"#fb9f3a\"],[0.8888888888888888,\"#fdca26\"],[1.0,\"#f0f921\"]],\"sequentialminus\":[[0.0,\"#0d0887\"],[0.1111111111111111,\"#46039f\"],[0.2222222222222222,\"#7201a8\"],[0.3333333333333333,\"#9c179e\"],[0.4444444444444444,\"#bd3786\"],[0.5555555555555556,\"#d8576b\"],[0.6666666666666666,\"#ed7953\"],[0.7777777777777778,\"#fb9f3a\"],[0.8888888888888888,\"#fdca26\"],[1.0,\"#f0f921\"]],\"diverging\":[[0,\"#8e0152\"],[0.1,\"#c51b7d\"],[0.2,\"#de77ae\"],[0.3,\"#f1b6da\"],[0.4,\"#fde0ef\"],[0.5,\"#f7f7f7\"],[0.6,\"#e6f5d0\"],[0.7,\"#b8e186\"],[0.8,\"#7fbc41\"],[0.9,\"#4d9221\"],[1,\"#276419\"]]},\"xaxis\":{\"gridcolor\":\"white\",\"linecolor\":\"white\",\"ticks\":\"\",\"title\":{\"standoff\":15},\"zerolinecolor\":\"white\",\"automargin\":true,\"zerolinewidth\":2},\"yaxis\":{\"gridcolor\":\"white\",\"linecolor\":\"white\",\"ticks\":\"\",\"title\":{\"standoff\":15},\"zerolinecolor\":\"white\",\"automargin\":true,\"zerolinewidth\":2},\"scene\":{\"xaxis\":{\"backgroundcolor\":\"#E5ECF6\",\"gridcolor\":\"white\",\"linecolor\":\"white\",\"showbackground\":true,\"ticks\":\"\",\"zerolinecolor\":\"white\",\"gridwidth\":2},\"yaxis\":{\"backgroundcolor\":\"#E5ECF6\",\"gridcolor\":\"white\",\"linecolor\":\"white\",\"showbackground\":true,\"ticks\":\"\",\"zerolinecolor\":\"white\",\"gridwidth\":2},\"zaxis\":{\"backgroundcolor\":\"#E5ECF6\",\"gridcolor\":\"white\",\"linecolor\":\"white\",\"showbackground\":true,\"ticks\":\"\",\"zerolinecolor\":\"white\",\"gridwidth\":2}},\"shapedefaults\":{\"line\":{\"color\":\"#2a3f5f\"}},\"annotationdefaults\":{\"arrowcolor\":\"#2a3f5f\",\"arrowhead\":0,\"arrowwidth\":1},\"geo\":{\"bgcolor\":\"white\",\"landcolor\":\"#E5ECF6\",\"subunitcolor\":\"white\",\"showland\":true,\"showlakes\":true,\"lakecolor\":\"white\"},\"title\":{\"x\":0.05},\"mapbox\":{\"style\":\"light\"}}},\"legend\":{\"tracegroupgap\":0},\"margin\":{\"t\":60}},                        {\"responsive\": true}                    ).then(function(){\n",
       "                            \n",
       "var gd = document.getElementById('2fb8fc81-4f8e-46dc-9fe2-ae1b04e97f93');\n",
       "var x = new MutationObserver(function (mutations, observer) {{\n",
       "        var display = window.getComputedStyle(gd).display;\n",
       "        if (!display || display === 'none') {{\n",
       "            console.log([gd, 'removed!']);\n",
       "            Plotly.purge(gd);\n",
       "            observer.disconnect();\n",
       "        }}\n",
       "}});\n",
       "\n",
       "// Listen for the removal of the full notebook cells\n",
       "var notebookContainer = gd.closest('#notebook-container');\n",
       "if (notebookContainer) {{\n",
       "    x.observe(notebookContainer, {childList: true});\n",
       "}}\n",
       "\n",
       "// Listen for the clearing of the current output cell\n",
       "var outputEl = gd.closest('.output');\n",
       "if (outputEl) {{\n",
       "    x.observe(outputEl, {childList: true});\n",
       "}}\n",
       "\n",
       "                        })                };                });            </script>        </div>"
      ]
     },
     "metadata": {},
     "output_type": "display_data"
    }
   ],
   "source": [
    "import plotly.express as px\n",
    "\n",
    "fig = px.pie(wine,names='quality',color='quality',\n",
    "             color_discrete_map={'Yes':'red',\n",
    "                                 'No':'green'})\n",
    "fig.show()"
   ]
  },
  {
   "cell_type": "markdown",
   "id": "00c33d41",
   "metadata": {},
   "source": [
    "### Taking subset data of Number "
   ]
  },
  {
   "cell_type": "code",
   "execution_count": 26,
   "id": "b95fcc0e",
   "metadata": {},
   "outputs": [
    {
     "data": {
      "text/plain": [
       "['fixed_acidity',\n",
       " 'volatile_acidity',\n",
       " 'citric_acid',\n",
       " 'residual_sugar',\n",
       " 'chlorides',\n",
       " 'free_sulfur dioxide',\n",
       " 'total_sulfur_dioxide',\n",
       " 'density',\n",
       " 'pH',\n",
       " 'sulphates',\n",
       " 'alcohol']"
      ]
     },
     "execution_count": 26,
     "metadata": {},
     "output_type": "execute_result"
    }
   ],
   "source": [
    "wine.select_dtypes(include=[np.number]).columns.tolist()"
   ]
  },
  {
   "cell_type": "code",
   "execution_count": 27,
   "id": "35107c65",
   "metadata": {},
   "outputs": [
    {
     "data": {
      "text/html": [
       "<div>\n",
       "<style scoped>\n",
       "    .dataframe tbody tr th:only-of-type {\n",
       "        vertical-align: middle;\n",
       "    }\n",
       "\n",
       "    .dataframe tbody tr th {\n",
       "        vertical-align: top;\n",
       "    }\n",
       "\n",
       "    .dataframe thead th {\n",
       "        text-align: right;\n",
       "    }\n",
       "</style>\n",
       "<table border=\"1\" class=\"dataframe\">\n",
       "  <thead>\n",
       "    <tr style=\"text-align: right;\">\n",
       "      <th></th>\n",
       "      <th>fixed_acidity</th>\n",
       "      <th>volatile_acidity</th>\n",
       "      <th>citric_acid</th>\n",
       "      <th>residual_sugar</th>\n",
       "      <th>chlorides</th>\n",
       "      <th>free_sulfur dioxide</th>\n",
       "      <th>total_sulfur_dioxide</th>\n",
       "      <th>density</th>\n",
       "      <th>pH</th>\n",
       "      <th>sulphates</th>\n",
       "      <th>alcohol</th>\n",
       "    </tr>\n",
       "  </thead>\n",
       "  <tbody>\n",
       "    <tr>\n",
       "      <th>0</th>\n",
       "      <td>7.4</td>\n",
       "      <td>0.70</td>\n",
       "      <td>0.00</td>\n",
       "      <td>1.9</td>\n",
       "      <td>0.076</td>\n",
       "      <td>11.0</td>\n",
       "      <td>34.0</td>\n",
       "      <td>0.9978</td>\n",
       "      <td>3.51</td>\n",
       "      <td>0.56</td>\n",
       "      <td>9.4</td>\n",
       "    </tr>\n",
       "    <tr>\n",
       "      <th>1</th>\n",
       "      <td>7.8</td>\n",
       "      <td>0.88</td>\n",
       "      <td>0.00</td>\n",
       "      <td>2.6</td>\n",
       "      <td>0.098</td>\n",
       "      <td>25.0</td>\n",
       "      <td>67.0</td>\n",
       "      <td>0.9968</td>\n",
       "      <td>3.20</td>\n",
       "      <td>0.68</td>\n",
       "      <td>9.8</td>\n",
       "    </tr>\n",
       "    <tr>\n",
       "      <th>2</th>\n",
       "      <td>7.8</td>\n",
       "      <td>0.76</td>\n",
       "      <td>0.04</td>\n",
       "      <td>2.3</td>\n",
       "      <td>0.092</td>\n",
       "      <td>15.0</td>\n",
       "      <td>54.0</td>\n",
       "      <td>0.9970</td>\n",
       "      <td>3.26</td>\n",
       "      <td>0.65</td>\n",
       "      <td>9.8</td>\n",
       "    </tr>\n",
       "  </tbody>\n",
       "</table>\n",
       "</div>"
      ],
      "text/plain": [
       "   fixed_acidity  volatile_acidity  citric_acid  residual_sugar  chlorides  \\\n",
       "0            7.4              0.70         0.00             1.9      0.076   \n",
       "1            7.8              0.88         0.00             2.6      0.098   \n",
       "2            7.8              0.76         0.04             2.3      0.092   \n",
       "\n",
       "   free_sulfur dioxide  total_sulfur_dioxide  density    pH  sulphates  \\\n",
       "0                 11.0                  34.0   0.9978  3.51       0.56   \n",
       "1                 25.0                  67.0   0.9968  3.20       0.68   \n",
       "2                 15.0                  54.0   0.9970  3.26       0.65   \n",
       "\n",
       "   alcohol  \n",
       "0      9.4  \n",
       "1      9.8  \n",
       "2      9.8  "
      ]
     },
     "execution_count": 27,
     "metadata": {},
     "output_type": "execute_result"
    }
   ],
   "source": [
    "# #Employee Numeric columns\n",
    "wine_num = wine[wine.select_dtypes(include=[np.number]).columns.tolist()]\n",
    "wine_num.head(3)"
   ]
  },
  {
   "cell_type": "markdown",
   "id": "aa35e355",
   "metadata": {},
   "source": [
    "### Taking subset data of Category "
   ]
  },
  {
   "cell_type": "code",
   "execution_count": 28,
   "id": "5e1e23a7",
   "metadata": {},
   "outputs": [
    {
     "data": {
      "text/html": [
       "<div>\n",
       "<style scoped>\n",
       "    .dataframe tbody tr th:only-of-type {\n",
       "        vertical-align: middle;\n",
       "    }\n",
       "\n",
       "    .dataframe tbody tr th {\n",
       "        vertical-align: top;\n",
       "    }\n",
       "\n",
       "    .dataframe thead th {\n",
       "        text-align: right;\n",
       "    }\n",
       "</style>\n",
       "<table border=\"1\" class=\"dataframe\">\n",
       "  <thead>\n",
       "    <tr style=\"text-align: right;\">\n",
       "      <th></th>\n",
       "      <th>quality</th>\n",
       "    </tr>\n",
       "  </thead>\n",
       "  <tbody>\n",
       "    <tr>\n",
       "      <th>0</th>\n",
       "      <td>bad</td>\n",
       "    </tr>\n",
       "    <tr>\n",
       "      <th>1</th>\n",
       "      <td>bad</td>\n",
       "    </tr>\n",
       "    <tr>\n",
       "      <th>2</th>\n",
       "      <td>bad</td>\n",
       "    </tr>\n",
       "  </tbody>\n",
       "</table>\n",
       "</div>"
      ],
      "text/plain": [
       "  quality\n",
       "0     bad\n",
       "1     bad\n",
       "2     bad"
      ]
     },
     "execution_count": 28,
     "metadata": {},
     "output_type": "execute_result"
    }
   ],
   "source": [
    "wine_dummies = wine[wine.select_dtypes(include=['object']).columns.tolist()]\n",
    "wine_dummies.head(3)"
   ]
  },
  {
   "cell_type": "markdown",
   "id": "28bf9c6c",
   "metadata": {},
   "source": [
    "### Converting Quality Variable to Number"
   ]
  },
  {
   "cell_type": "code",
   "execution_count": 29,
   "id": "b35ea1a8",
   "metadata": {},
   "outputs": [
    {
     "data": {
      "text/html": [
       "<div>\n",
       "<style scoped>\n",
       "    .dataframe tbody tr th:only-of-type {\n",
       "        vertical-align: middle;\n",
       "    }\n",
       "\n",
       "    .dataframe tbody tr th {\n",
       "        vertical-align: top;\n",
       "    }\n",
       "\n",
       "    .dataframe thead th {\n",
       "        text-align: right;\n",
       "    }\n",
       "</style>\n",
       "<table border=\"1\" class=\"dataframe\">\n",
       "  <thead>\n",
       "    <tr style=\"text-align: right;\">\n",
       "      <th></th>\n",
       "      <th>quality</th>\n",
       "    </tr>\n",
       "  </thead>\n",
       "  <tbody>\n",
       "    <tr>\n",
       "      <th>0</th>\n",
       "      <td>0</td>\n",
       "    </tr>\n",
       "    <tr>\n",
       "      <th>1</th>\n",
       "      <td>0</td>\n",
       "    </tr>\n",
       "    <tr>\n",
       "      <th>2</th>\n",
       "      <td>0</td>\n",
       "    </tr>\n",
       "  </tbody>\n",
       "</table>\n",
       "</div>"
      ],
      "text/plain": [
       "   quality\n",
       "0        0\n",
       "1        0\n",
       "2        0"
      ]
     },
     "execution_count": 29,
     "metadata": {},
     "output_type": "execute_result"
    }
   ],
   "source": [
    "from sklearn.preprocessing import LabelEncoder\n",
    "wine_dummies=wine_dummies.apply(LabelEncoder().fit_transform)\n",
    "wine_dummies.head(3)\n",
    "# label in ascending order"
   ]
  },
  {
   "cell_type": "markdown",
   "id": "38e95965",
   "metadata": {},
   "source": [
    "### Combine to Dataset"
   ]
  },
  {
   "cell_type": "code",
   "execution_count": 30,
   "id": "0ea37626",
   "metadata": {},
   "outputs": [],
   "source": [
    "wine_combined = pd.concat([wine_num, wine_dummies],axis=1)"
   ]
  },
  {
   "cell_type": "code",
   "execution_count": 31,
   "id": "225414e4",
   "metadata": {},
   "outputs": [
    {
     "data": {
      "text/html": [
       "<div>\n",
       "<style scoped>\n",
       "    .dataframe tbody tr th:only-of-type {\n",
       "        vertical-align: middle;\n",
       "    }\n",
       "\n",
       "    .dataframe tbody tr th {\n",
       "        vertical-align: top;\n",
       "    }\n",
       "\n",
       "    .dataframe thead th {\n",
       "        text-align: right;\n",
       "    }\n",
       "</style>\n",
       "<table border=\"1\" class=\"dataframe\">\n",
       "  <thead>\n",
       "    <tr style=\"text-align: right;\">\n",
       "      <th></th>\n",
       "      <th>fixed_acidity</th>\n",
       "      <th>volatile_acidity</th>\n",
       "      <th>citric_acid</th>\n",
       "      <th>residual_sugar</th>\n",
       "      <th>chlorides</th>\n",
       "      <th>free_sulfur dioxide</th>\n",
       "      <th>total_sulfur_dioxide</th>\n",
       "      <th>density</th>\n",
       "      <th>pH</th>\n",
       "      <th>sulphates</th>\n",
       "      <th>alcohol</th>\n",
       "      <th>quality</th>\n",
       "    </tr>\n",
       "  </thead>\n",
       "  <tbody>\n",
       "    <tr>\n",
       "      <th>0</th>\n",
       "      <td>7.4</td>\n",
       "      <td>0.70</td>\n",
       "      <td>0.00</td>\n",
       "      <td>1.9</td>\n",
       "      <td>0.076</td>\n",
       "      <td>11.0</td>\n",
       "      <td>34.0</td>\n",
       "      <td>0.9978</td>\n",
       "      <td>3.51</td>\n",
       "      <td>0.56</td>\n",
       "      <td>9.4</td>\n",
       "      <td>0</td>\n",
       "    </tr>\n",
       "    <tr>\n",
       "      <th>1</th>\n",
       "      <td>7.8</td>\n",
       "      <td>0.88</td>\n",
       "      <td>0.00</td>\n",
       "      <td>2.6</td>\n",
       "      <td>0.098</td>\n",
       "      <td>25.0</td>\n",
       "      <td>67.0</td>\n",
       "      <td>0.9968</td>\n",
       "      <td>3.20</td>\n",
       "      <td>0.68</td>\n",
       "      <td>9.8</td>\n",
       "      <td>0</td>\n",
       "    </tr>\n",
       "    <tr>\n",
       "      <th>2</th>\n",
       "      <td>7.8</td>\n",
       "      <td>0.76</td>\n",
       "      <td>0.04</td>\n",
       "      <td>2.3</td>\n",
       "      <td>0.092</td>\n",
       "      <td>15.0</td>\n",
       "      <td>54.0</td>\n",
       "      <td>0.9970</td>\n",
       "      <td>3.26</td>\n",
       "      <td>0.65</td>\n",
       "      <td>9.8</td>\n",
       "      <td>0</td>\n",
       "    </tr>\n",
       "    <tr>\n",
       "      <th>3</th>\n",
       "      <td>11.2</td>\n",
       "      <td>0.28</td>\n",
       "      <td>0.56</td>\n",
       "      <td>1.9</td>\n",
       "      <td>0.075</td>\n",
       "      <td>17.0</td>\n",
       "      <td>60.0</td>\n",
       "      <td>0.9980</td>\n",
       "      <td>3.16</td>\n",
       "      <td>0.58</td>\n",
       "      <td>9.8</td>\n",
       "      <td>1</td>\n",
       "    </tr>\n",
       "    <tr>\n",
       "      <th>4</th>\n",
       "      <td>7.4</td>\n",
       "      <td>0.70</td>\n",
       "      <td>0.00</td>\n",
       "      <td>1.9</td>\n",
       "      <td>0.076</td>\n",
       "      <td>11.0</td>\n",
       "      <td>34.0</td>\n",
       "      <td>0.9978</td>\n",
       "      <td>3.51</td>\n",
       "      <td>0.56</td>\n",
       "      <td>9.4</td>\n",
       "      <td>0</td>\n",
       "    </tr>\n",
       "  </tbody>\n",
       "</table>\n",
       "</div>"
      ],
      "text/plain": [
       "   fixed_acidity  volatile_acidity  citric_acid  residual_sugar  chlorides  \\\n",
       "0            7.4              0.70         0.00             1.9      0.076   \n",
       "1            7.8              0.88         0.00             2.6      0.098   \n",
       "2            7.8              0.76         0.04             2.3      0.092   \n",
       "3           11.2              0.28         0.56             1.9      0.075   \n",
       "4            7.4              0.70         0.00             1.9      0.076   \n",
       "\n",
       "   free_sulfur dioxide  total_sulfur_dioxide  density    pH  sulphates  \\\n",
       "0                 11.0                  34.0   0.9978  3.51       0.56   \n",
       "1                 25.0                  67.0   0.9968  3.20       0.68   \n",
       "2                 15.0                  54.0   0.9970  3.26       0.65   \n",
       "3                 17.0                  60.0   0.9980  3.16       0.58   \n",
       "4                 11.0                  34.0   0.9978  3.51       0.56   \n",
       "\n",
       "   alcohol  quality  \n",
       "0      9.4        0  \n",
       "1      9.8        0  \n",
       "2      9.8        0  \n",
       "3      9.8        1  \n",
       "4      9.4        0  "
      ]
     },
     "execution_count": 31,
     "metadata": {},
     "output_type": "execute_result"
    }
   ],
   "source": [
    "wine_combined.head()"
   ]
  },
  {
   "cell_type": "markdown",
   "id": "c7916b6b",
   "metadata": {},
   "source": [
    "# Step 3: Data Partition"
   ]
  },
  {
   "cell_type": "code",
   "execution_count": 32,
   "id": "a49a9a8e",
   "metadata": {},
   "outputs": [],
   "source": [
    "#Dividing data into train and test dataset\n",
    "from sklearn.model_selection import train_test_split\n",
    "#from random import seed\n",
    "\n",
    "#seed(20)\n",
    "x = wine_combined.drop(['quality'],axis=1)\n",
    "y = wine_combined[['quality']]\n",
    "\n",
    "# Train test split\n",
    "\n",
    "X_train, X_test, y_train, y_test =train_test_split(x,y,test_size=0.3,random_state=231)"
   ]
  },
  {
   "cell_type": "markdown",
   "id": "67093b79",
   "metadata": {},
   "source": [
    "# Step 4: Model Building"
   ]
  },
  {
   "cell_type": "code",
   "execution_count": 33,
   "id": "83c2b212",
   "metadata": {},
   "outputs": [
    {
     "data": {
      "text/plain": [
       "DecisionTreeClassifier()"
      ]
     },
     "execution_count": 33,
     "metadata": {},
     "output_type": "execute_result"
    }
   ],
   "source": [
    "#Import Tree Classifier model\n",
    "from sklearn import tree\n",
    "\n",
    "dt = tree.DecisionTreeClassifier()  # by default it use Gini index for split\n",
    "#Train the model using the training sets\n",
    "dt.fit(X_train,y_train)  # Model = dt"
   ]
  },
  {
   "cell_type": "markdown",
   "id": "1ca3934f",
   "metadata": {},
   "source": [
    "# Step 5: Plotting the Tree "
   ]
  },
  {
   "cell_type": "code",
   "execution_count": 34,
   "id": "1a62adaa",
   "metadata": {},
   "outputs": [
    {
     "data": {
      "text/html": [
       "<div>\n",
       "<style scoped>\n",
       "    .dataframe tbody tr th:only-of-type {\n",
       "        vertical-align: middle;\n",
       "    }\n",
       "\n",
       "    .dataframe tbody tr th {\n",
       "        vertical-align: top;\n",
       "    }\n",
       "\n",
       "    .dataframe thead th {\n",
       "        text-align: right;\n",
       "    }\n",
       "</style>\n",
       "<table border=\"1\" class=\"dataframe\">\n",
       "  <thead>\n",
       "    <tr style=\"text-align: right;\">\n",
       "      <th></th>\n",
       "      <th>quality</th>\n",
       "      <th>fixed_acidity</th>\n",
       "      <th>volatile_acidity</th>\n",
       "      <th>citric_acid</th>\n",
       "      <th>residual_sugar</th>\n",
       "      <th>chlorides</th>\n",
       "      <th>free_sulfur dioxide</th>\n",
       "      <th>total_sulfur_dioxide</th>\n",
       "      <th>density</th>\n",
       "      <th>pH</th>\n",
       "      <th>sulphates</th>\n",
       "      <th>alcohol</th>\n",
       "    </tr>\n",
       "  </thead>\n",
       "  <tbody>\n",
       "    <tr>\n",
       "      <th>851</th>\n",
       "      <td>0</td>\n",
       "      <td>9.3</td>\n",
       "      <td>0.430</td>\n",
       "      <td>0.44</td>\n",
       "      <td>1.9</td>\n",
       "      <td>0.085</td>\n",
       "      <td>9.0</td>\n",
       "      <td>22.0</td>\n",
       "      <td>0.99708</td>\n",
       "      <td>3.28</td>\n",
       "      <td>0.55</td>\n",
       "      <td>9.5</td>\n",
       "    </tr>\n",
       "    <tr>\n",
       "      <th>642</th>\n",
       "      <td>0</td>\n",
       "      <td>9.9</td>\n",
       "      <td>0.540</td>\n",
       "      <td>0.45</td>\n",
       "      <td>2.3</td>\n",
       "      <td>0.071</td>\n",
       "      <td>16.0</td>\n",
       "      <td>40.0</td>\n",
       "      <td>0.99910</td>\n",
       "      <td>3.39</td>\n",
       "      <td>0.62</td>\n",
       "      <td>9.4</td>\n",
       "    </tr>\n",
       "    <tr>\n",
       "      <th>1464</th>\n",
       "      <td>0</td>\n",
       "      <td>6.8</td>\n",
       "      <td>0.590</td>\n",
       "      <td>0.10</td>\n",
       "      <td>1.7</td>\n",
       "      <td>0.063</td>\n",
       "      <td>34.0</td>\n",
       "      <td>53.0</td>\n",
       "      <td>0.99580</td>\n",
       "      <td>3.41</td>\n",
       "      <td>0.67</td>\n",
       "      <td>9.7</td>\n",
       "    </tr>\n",
       "    <tr>\n",
       "      <th>1348</th>\n",
       "      <td>0</td>\n",
       "      <td>7.2</td>\n",
       "      <td>0.655</td>\n",
       "      <td>0.03</td>\n",
       "      <td>1.8</td>\n",
       "      <td>0.078</td>\n",
       "      <td>7.0</td>\n",
       "      <td>12.0</td>\n",
       "      <td>0.99587</td>\n",
       "      <td>3.34</td>\n",
       "      <td>0.39</td>\n",
       "      <td>9.5</td>\n",
       "    </tr>\n",
       "    <tr>\n",
       "      <th>724</th>\n",
       "      <td>0</td>\n",
       "      <td>7.5</td>\n",
       "      <td>1.115</td>\n",
       "      <td>0.10</td>\n",
       "      <td>3.1</td>\n",
       "      <td>0.086</td>\n",
       "      <td>5.0</td>\n",
       "      <td>12.0</td>\n",
       "      <td>0.99580</td>\n",
       "      <td>3.54</td>\n",
       "      <td>0.60</td>\n",
       "      <td>11.2</td>\n",
       "    </tr>\n",
       "  </tbody>\n",
       "</table>\n",
       "</div>"
      ],
      "text/plain": [
       "      quality  fixed_acidity  volatile_acidity  citric_acid  residual_sugar  \\\n",
       "851         0            9.3             0.430         0.44             1.9   \n",
       "642         0            9.9             0.540         0.45             2.3   \n",
       "1464        0            6.8             0.590         0.10             1.7   \n",
       "1348        0            7.2             0.655         0.03             1.8   \n",
       "724         0            7.5             1.115         0.10             3.1   \n",
       "\n",
       "      chlorides  free_sulfur dioxide  total_sulfur_dioxide  density    pH  \\\n",
       "851       0.085                  9.0                  22.0  0.99708  3.28   \n",
       "642       0.071                 16.0                  40.0  0.99910  3.39   \n",
       "1464      0.063                 34.0                  53.0  0.99580  3.41   \n",
       "1348      0.078                  7.0                  12.0  0.99587  3.34   \n",
       "724       0.086                  5.0                  12.0  0.99580  3.54   \n",
       "\n",
       "      sulphates  alcohol  \n",
       "851        0.55      9.5  \n",
       "642        0.62      9.4  \n",
       "1464       0.67      9.7  \n",
       "1348       0.39      9.5  \n",
       "724        0.60     11.2  "
      ]
     },
     "execution_count": 34,
     "metadata": {},
     "output_type": "execute_result"
    }
   ],
   "source": [
    "train=pd.concat([y_train,X_train],axis=1)\n",
    "train.head()"
   ]
  },
  {
   "cell_type": "code",
   "execution_count": 35,
   "id": "1749dacf",
   "metadata": {},
   "outputs": [
    {
     "data": {
      "text/plain": [
       "['fixed_acidity',\n",
       " 'volatile_acidity',\n",
       " 'citric_acid',\n",
       " 'residual_sugar',\n",
       " 'chlorides',\n",
       " 'free_sulfur dioxide',\n",
       " 'total_sulfur_dioxide',\n",
       " 'density',\n",
       " 'pH',\n",
       " 'sulphates',\n",
       " 'alcohol']"
      ]
     },
     "execution_count": 35,
     "metadata": {},
     "output_type": "execute_result"
    }
   ],
   "source": [
    "independent_variable = list(train.columns[1:])\n",
    "independent_variable"
   ]
  },
  {
   "cell_type": "code",
   "execution_count": 36,
   "id": "fe9916e2",
   "metadata": {},
   "outputs": [
    {
     "data": {
      "image/png": "[encoded data removed]",
      "text/plain": [
       "<Figure size 1500x1200 with 1 Axes>"
      ]
     },
     "metadata": {},
     "output_type": "display_data"
    }
   ],
   "source": [
    "from sklearn import tree\n",
    "import matplotlib.pyplot as plt\n",
    "\n",
    "quality=['bad', 'good']  # array\n",
    "fig, axes = plt.subplots(nrows = 1,ncols = 1,figsize = (5,4), dpi=300)\n",
    "tree.plot_tree(dt,  # Model \n",
    "               feature_names = independent_variable,  # column name\n",
    "               class_names=quality, # Yes , No\n",
    "               filled = True, # colour\n",
    "              node_ids=True, # node number\n",
    "              fontsize=2); # \n",
    "#fig.savefig('imagename.png')"
   ]
  },
  {
   "cell_type": "markdown",
   "id": "a01037d2",
   "metadata": {},
   "source": [
    "# Step 6 : Predictions on Train Dataset"
   ]
  },
  {
   "cell_type": "code",
   "execution_count": 37,
   "id": "12f205f5",
   "metadata": {},
   "outputs": [
    {
     "data": {
      "text/html": [
       "<div>\n",
       "<style scoped>\n",
       "    .dataframe tbody tr th:only-of-type {\n",
       "        vertical-align: middle;\n",
       "    }\n",
       "\n",
       "    .dataframe tbody tr th {\n",
       "        vertical-align: top;\n",
       "    }\n",
       "\n",
       "    .dataframe thead th {\n",
       "        text-align: right;\n",
       "    }\n",
       "</style>\n",
       "<table border=\"1\" class=\"dataframe\">\n",
       "  <thead>\n",
       "    <tr style=\"text-align: right;\">\n",
       "      <th></th>\n",
       "      <th>quality</th>\n",
       "      <th>fixed_acidity</th>\n",
       "      <th>volatile_acidity</th>\n",
       "      <th>citric_acid</th>\n",
       "      <th>residual_sugar</th>\n",
       "      <th>chlorides</th>\n",
       "      <th>free_sulfur dioxide</th>\n",
       "      <th>total_sulfur_dioxide</th>\n",
       "      <th>density</th>\n",
       "      <th>pH</th>\n",
       "      <th>sulphates</th>\n",
       "      <th>alcohol</th>\n",
       "    </tr>\n",
       "  </thead>\n",
       "  <tbody>\n",
       "    <tr>\n",
       "      <th>851</th>\n",
       "      <td>0</td>\n",
       "      <td>9.3</td>\n",
       "      <td>0.430</td>\n",
       "      <td>0.44</td>\n",
       "      <td>1.9</td>\n",
       "      <td>0.085</td>\n",
       "      <td>9.0</td>\n",
       "      <td>22.0</td>\n",
       "      <td>0.99708</td>\n",
       "      <td>3.28</td>\n",
       "      <td>0.55</td>\n",
       "      <td>9.5</td>\n",
       "    </tr>\n",
       "    <tr>\n",
       "      <th>642</th>\n",
       "      <td>0</td>\n",
       "      <td>9.9</td>\n",
       "      <td>0.540</td>\n",
       "      <td>0.45</td>\n",
       "      <td>2.3</td>\n",
       "      <td>0.071</td>\n",
       "      <td>16.0</td>\n",
       "      <td>40.0</td>\n",
       "      <td>0.99910</td>\n",
       "      <td>3.39</td>\n",
       "      <td>0.62</td>\n",
       "      <td>9.4</td>\n",
       "    </tr>\n",
       "    <tr>\n",
       "      <th>1464</th>\n",
       "      <td>0</td>\n",
       "      <td>6.8</td>\n",
       "      <td>0.590</td>\n",
       "      <td>0.10</td>\n",
       "      <td>1.7</td>\n",
       "      <td>0.063</td>\n",
       "      <td>34.0</td>\n",
       "      <td>53.0</td>\n",
       "      <td>0.99580</td>\n",
       "      <td>3.41</td>\n",
       "      <td>0.67</td>\n",
       "      <td>9.7</td>\n",
       "    </tr>\n",
       "    <tr>\n",
       "      <th>1348</th>\n",
       "      <td>0</td>\n",
       "      <td>7.2</td>\n",
       "      <td>0.655</td>\n",
       "      <td>0.03</td>\n",
       "      <td>1.8</td>\n",
       "      <td>0.078</td>\n",
       "      <td>7.0</td>\n",
       "      <td>12.0</td>\n",
       "      <td>0.99587</td>\n",
       "      <td>3.34</td>\n",
       "      <td>0.39</td>\n",
       "      <td>9.5</td>\n",
       "    </tr>\n",
       "    <tr>\n",
       "      <th>724</th>\n",
       "      <td>0</td>\n",
       "      <td>7.5</td>\n",
       "      <td>1.115</td>\n",
       "      <td>0.10</td>\n",
       "      <td>3.1</td>\n",
       "      <td>0.086</td>\n",
       "      <td>5.0</td>\n",
       "      <td>12.0</td>\n",
       "      <td>0.99580</td>\n",
       "      <td>3.54</td>\n",
       "      <td>0.60</td>\n",
       "      <td>11.2</td>\n",
       "    </tr>\n",
       "  </tbody>\n",
       "</table>\n",
       "</div>"
      ],
      "text/plain": [
       "      quality  fixed_acidity  volatile_acidity  citric_acid  residual_sugar  \\\n",
       "851         0            9.3             0.430         0.44             1.9   \n",
       "642         0            9.9             0.540         0.45             2.3   \n",
       "1464        0            6.8             0.590         0.10             1.7   \n",
       "1348        0            7.2             0.655         0.03             1.8   \n",
       "724         0            7.5             1.115         0.10             3.1   \n",
       "\n",
       "      chlorides  free_sulfur dioxide  total_sulfur_dioxide  density    pH  \\\n",
       "851       0.085                  9.0                  22.0  0.99708  3.28   \n",
       "642       0.071                 16.0                  40.0  0.99910  3.39   \n",
       "1464      0.063                 34.0                  53.0  0.99580  3.41   \n",
       "1348      0.078                  7.0                  12.0  0.99587  3.34   \n",
       "724       0.086                  5.0                  12.0  0.99580  3.54   \n",
       "\n",
       "      sulphates  alcohol  \n",
       "851        0.55      9.5  \n",
       "642        0.62      9.4  \n",
       "1464       0.67      9.7  \n",
       "1348       0.39      9.5  \n",
       "724        0.60     11.2  "
      ]
     },
     "execution_count": 37,
     "metadata": {},
     "output_type": "execute_result"
    }
   ],
   "source": [
    "train.head()"
   ]
  },
  {
   "cell_type": "code",
   "execution_count": 38,
   "id": "15e22d1b",
   "metadata": {
    "scrolled": true
   },
   "outputs": [
    {
     "data": {
      "text/html": [
       "<div>\n",
       "<style scoped>\n",
       "    .dataframe tbody tr th:only-of-type {\n",
       "        vertical-align: middle;\n",
       "    }\n",
       "\n",
       "    .dataframe tbody tr th {\n",
       "        vertical-align: top;\n",
       "    }\n",
       "\n",
       "    .dataframe thead th {\n",
       "        text-align: right;\n",
       "    }\n",
       "</style>\n",
       "<table border=\"1\" class=\"dataframe\">\n",
       "  <thead>\n",
       "    <tr style=\"text-align: right;\">\n",
       "      <th></th>\n",
       "      <th>quality</th>\n",
       "      <th>fixed_acidity</th>\n",
       "      <th>volatile_acidity</th>\n",
       "      <th>citric_acid</th>\n",
       "      <th>residual_sugar</th>\n",
       "      <th>chlorides</th>\n",
       "      <th>free_sulfur dioxide</th>\n",
       "      <th>total_sulfur_dioxide</th>\n",
       "      <th>density</th>\n",
       "      <th>pH</th>\n",
       "      <th>sulphates</th>\n",
       "      <th>alcohol</th>\n",
       "      <th>Predicted</th>\n",
       "    </tr>\n",
       "  </thead>\n",
       "  <tbody>\n",
       "    <tr>\n",
       "      <th>851</th>\n",
       "      <td>0</td>\n",
       "      <td>9.3</td>\n",
       "      <td>0.430</td>\n",
       "      <td>0.44</td>\n",
       "      <td>1.9</td>\n",
       "      <td>0.085</td>\n",
       "      <td>9.0</td>\n",
       "      <td>22.0</td>\n",
       "      <td>0.99708</td>\n",
       "      <td>3.28</td>\n",
       "      <td>0.55</td>\n",
       "      <td>9.5</td>\n",
       "      <td>0</td>\n",
       "    </tr>\n",
       "    <tr>\n",
       "      <th>642</th>\n",
       "      <td>0</td>\n",
       "      <td>9.9</td>\n",
       "      <td>0.540</td>\n",
       "      <td>0.45</td>\n",
       "      <td>2.3</td>\n",
       "      <td>0.071</td>\n",
       "      <td>16.0</td>\n",
       "      <td>40.0</td>\n",
       "      <td>0.99910</td>\n",
       "      <td>3.39</td>\n",
       "      <td>0.62</td>\n",
       "      <td>9.4</td>\n",
       "      <td>0</td>\n",
       "    </tr>\n",
       "    <tr>\n",
       "      <th>1464</th>\n",
       "      <td>0</td>\n",
       "      <td>6.8</td>\n",
       "      <td>0.590</td>\n",
       "      <td>0.10</td>\n",
       "      <td>1.7</td>\n",
       "      <td>0.063</td>\n",
       "      <td>34.0</td>\n",
       "      <td>53.0</td>\n",
       "      <td>0.99580</td>\n",
       "      <td>3.41</td>\n",
       "      <td>0.67</td>\n",
       "      <td>9.7</td>\n",
       "      <td>0</td>\n",
       "    </tr>\n",
       "    <tr>\n",
       "      <th>1348</th>\n",
       "      <td>0</td>\n",
       "      <td>7.2</td>\n",
       "      <td>0.655</td>\n",
       "      <td>0.03</td>\n",
       "      <td>1.8</td>\n",
       "      <td>0.078</td>\n",
       "      <td>7.0</td>\n",
       "      <td>12.0</td>\n",
       "      <td>0.99587</td>\n",
       "      <td>3.34</td>\n",
       "      <td>0.39</td>\n",
       "      <td>9.5</td>\n",
       "      <td>0</td>\n",
       "    </tr>\n",
       "    <tr>\n",
       "      <th>724</th>\n",
       "      <td>0</td>\n",
       "      <td>7.5</td>\n",
       "      <td>1.115</td>\n",
       "      <td>0.10</td>\n",
       "      <td>3.1</td>\n",
       "      <td>0.086</td>\n",
       "      <td>5.0</td>\n",
       "      <td>12.0</td>\n",
       "      <td>0.99580</td>\n",
       "      <td>3.54</td>\n",
       "      <td>0.60</td>\n",
       "      <td>11.2</td>\n",
       "      <td>0</td>\n",
       "    </tr>\n",
       "  </tbody>\n",
       "</table>\n",
       "</div>"
      ],
      "text/plain": [
       "      quality  fixed_acidity  volatile_acidity  citric_acid  residual_sugar  \\\n",
       "851         0            9.3             0.430         0.44             1.9   \n",
       "642         0            9.9             0.540         0.45             2.3   \n",
       "1464        0            6.8             0.590         0.10             1.7   \n",
       "1348        0            7.2             0.655         0.03             1.8   \n",
       "724         0            7.5             1.115         0.10             3.1   \n",
       "\n",
       "      chlorides  free_sulfur dioxide  total_sulfur_dioxide  density    pH  \\\n",
       "851       0.085                  9.0                  22.0  0.99708  3.28   \n",
       "642       0.071                 16.0                  40.0  0.99910  3.39   \n",
       "1464      0.063                 34.0                  53.0  0.99580  3.41   \n",
       "1348      0.078                  7.0                  12.0  0.99587  3.34   \n",
       "724       0.086                  5.0                  12.0  0.99580  3.54   \n",
       "\n",
       "      sulphates  alcohol  Predicted  \n",
       "851        0.55      9.5          0  \n",
       "642        0.62      9.4          0  \n",
       "1464       0.67      9.7          0  \n",
       "1348       0.39      9.5          0  \n",
       "724        0.60     11.2          0  "
      ]
     },
     "execution_count": 38,
     "metadata": {},
     "output_type": "execute_result"
    }
   ],
   "source": [
    "train['Predicted']=dt.predict(X_train)  # MODEL = dt\n",
    "train.head()"
   ]
  },
  {
   "cell_type": "markdown",
   "id": "515ff4f6",
   "metadata": {},
   "source": [
    "# Step 7 : Model Performance Metrics"
   ]
  },
  {
   "cell_type": "code",
   "execution_count": 39,
   "id": "9c41ae76",
   "metadata": {},
   "outputs": [
    {
     "name": "stdout",
     "output_type": "stream",
     "text": [
      "[[524   0]\n",
      " [  0 595]]\n"
     ]
    }
   ],
   "source": [
    "from sklearn.metrics import confusion_matrix  \n",
    "matrix = confusion_matrix(train['Predicted'],train['quality'])\n",
    "print(matrix)"
   ]
  },
  {
   "cell_type": "markdown",
   "id": "5daec95c",
   "metadata": {},
   "source": [
    "### Final accuracy of Model Before Pruning "
   ]
  },
  {
   "cell_type": "code",
   "execution_count": 40,
   "id": "f7ab380e",
   "metadata": {},
   "outputs": [
    {
     "name": "stdout",
     "output_type": "stream",
     "text": [
      "100.0\n"
     ]
    }
   ],
   "source": [
    "Accuracy_Train=((524+595)/(1119)*100)\n",
    "print(Accuracy_Train)   # overfit or High accuracy"
   ]
  },
  {
   "cell_type": "code",
   "execution_count": 41,
   "id": "a4df7cc2",
   "metadata": {},
   "outputs": [
    {
     "name": "stdout",
     "output_type": "stream",
     "text": [
      "              precision    recall  f1-score   support\n",
      "\n",
      "           0       1.00      1.00      1.00       524\n",
      "           1       1.00      1.00      1.00       595\n",
      "\n",
      "    accuracy                           1.00      1119\n",
      "   macro avg       1.00      1.00      1.00      1119\n",
      "weighted avg       1.00      1.00      1.00      1119\n",
      "\n"
     ]
    }
   ],
   "source": [
    "from sklearn.metrics import classification_report\n",
    "print(classification_report(train['quality'], train['Predicted']))"
   ]
  },
  {
   "cell_type": "markdown",
   "id": "326ee746",
   "metadata": {},
   "source": [
    "### Model Improvement by Pruning Method ( Cut Tree)"
   ]
  },
  {
   "cell_type": "code",
   "execution_count": 42,
   "id": "a74aeb58",
   "metadata": {},
   "outputs": [
    {
     "data": {
      "text/plain": [
       "DecisionTreeClassifier(max_depth=6, min_samples_leaf=60, min_samples_split=150)"
      ]
     },
     "execution_count": 42,
     "metadata": {},
     "output_type": "execute_result"
    }
   ],
   "source": [
    "#Import Tree Classifier model\n",
    "from sklearn import tree\n",
    "\n",
    "dt = tree.DecisionTreeClassifier(criterion='gini',  #splitter\n",
    "                                 min_samples_leaf=60, ## child\n",
    "                                 min_samples_split=150, #parent \n",
    "                                 max_depth=6)  #branches\n",
    "#Train the model using the training sets\n",
    "dt.fit(X_train,y_train)"
   ]
  },
  {
   "cell_type": "code",
   "execution_count": 43,
   "id": "88121279",
   "metadata": {},
   "outputs": [
    {
     "data": {
      "image/png": "[encoded data removed]",
      "text/plain": [
       "<Figure size 1500x1200 with 1 Axes>"
      ]
     },
     "metadata": {},
     "output_type": "display_data"
    }
   ],
   "source": [
    "from sklearn import tree\n",
    "import matplotlib.pyplot as plt\n",
    "\n",
    "quality=['bad', 'good']  # array\n",
    "fig, axes = plt.subplots(nrows = 1,ncols = 1,figsize = (5,4), dpi=300)\n",
    "tree.plot_tree(dt,  # Model \n",
    "               feature_names = independent_variable,  # column name\n",
    "               class_names = quality, # Yes , No\n",
    "               filled = True, # colour\n",
    "              node_ids = True, # node number\n",
    "              fontsize = 3); # \n",
    "#fig.savefig('imagename.png')"
   ]
  },
  {
   "cell_type": "markdown",
   "id": "508ee8b7",
   "metadata": {},
   "source": [
    "### Strategy & Prediction"
   ]
  },
  {
   "cell_type": "code",
   "execution_count": 44,
   "id": "37a54924",
   "metadata": {},
   "outputs": [
    {
     "data": {
      "text/html": [
       "<div>\n",
       "<style scoped>\n",
       "    .dataframe tbody tr th:only-of-type {\n",
       "        vertical-align: middle;\n",
       "    }\n",
       "\n",
       "    .dataframe tbody tr th {\n",
       "        vertical-align: top;\n",
       "    }\n",
       "\n",
       "    .dataframe thead th {\n",
       "        text-align: right;\n",
       "    }\n",
       "</style>\n",
       "<table border=\"1\" class=\"dataframe\">\n",
       "  <thead>\n",
       "    <tr style=\"text-align: right;\">\n",
       "      <th></th>\n",
       "      <th>quality</th>\n",
       "      <th>fixed_acidity</th>\n",
       "      <th>volatile_acidity</th>\n",
       "      <th>citric_acid</th>\n",
       "      <th>residual_sugar</th>\n",
       "      <th>chlorides</th>\n",
       "      <th>free_sulfur dioxide</th>\n",
       "      <th>total_sulfur_dioxide</th>\n",
       "      <th>density</th>\n",
       "      <th>pH</th>\n",
       "      <th>sulphates</th>\n",
       "      <th>alcohol</th>\n",
       "      <th>Predicted</th>\n",
       "    </tr>\n",
       "  </thead>\n",
       "  <tbody>\n",
       "    <tr>\n",
       "      <th>851</th>\n",
       "      <td>0</td>\n",
       "      <td>9.3</td>\n",
       "      <td>0.430</td>\n",
       "      <td>0.44</td>\n",
       "      <td>1.9</td>\n",
       "      <td>0.085</td>\n",
       "      <td>9.0</td>\n",
       "      <td>22.0</td>\n",
       "      <td>0.99708</td>\n",
       "      <td>3.28</td>\n",
       "      <td>0.55</td>\n",
       "      <td>9.5</td>\n",
       "      <td>0</td>\n",
       "    </tr>\n",
       "    <tr>\n",
       "      <th>642</th>\n",
       "      <td>0</td>\n",
       "      <td>9.9</td>\n",
       "      <td>0.540</td>\n",
       "      <td>0.45</td>\n",
       "      <td>2.3</td>\n",
       "      <td>0.071</td>\n",
       "      <td>16.0</td>\n",
       "      <td>40.0</td>\n",
       "      <td>0.99910</td>\n",
       "      <td>3.39</td>\n",
       "      <td>0.62</td>\n",
       "      <td>9.4</td>\n",
       "      <td>1</td>\n",
       "    </tr>\n",
       "    <tr>\n",
       "      <th>1464</th>\n",
       "      <td>0</td>\n",
       "      <td>6.8</td>\n",
       "      <td>0.590</td>\n",
       "      <td>0.10</td>\n",
       "      <td>1.7</td>\n",
       "      <td>0.063</td>\n",
       "      <td>34.0</td>\n",
       "      <td>53.0</td>\n",
       "      <td>0.99580</td>\n",
       "      <td>3.41</td>\n",
       "      <td>0.67</td>\n",
       "      <td>9.7</td>\n",
       "      <td>0</td>\n",
       "    </tr>\n",
       "    <tr>\n",
       "      <th>1348</th>\n",
       "      <td>0</td>\n",
       "      <td>7.2</td>\n",
       "      <td>0.655</td>\n",
       "      <td>0.03</td>\n",
       "      <td>1.8</td>\n",
       "      <td>0.078</td>\n",
       "      <td>7.0</td>\n",
       "      <td>12.0</td>\n",
       "      <td>0.99587</td>\n",
       "      <td>3.34</td>\n",
       "      <td>0.39</td>\n",
       "      <td>9.5</td>\n",
       "      <td>0</td>\n",
       "    </tr>\n",
       "    <tr>\n",
       "      <th>724</th>\n",
       "      <td>0</td>\n",
       "      <td>7.5</td>\n",
       "      <td>1.115</td>\n",
       "      <td>0.10</td>\n",
       "      <td>3.1</td>\n",
       "      <td>0.086</td>\n",
       "      <td>5.0</td>\n",
       "      <td>12.0</td>\n",
       "      <td>0.99580</td>\n",
       "      <td>3.54</td>\n",
       "      <td>0.60</td>\n",
       "      <td>11.2</td>\n",
       "      <td>1</td>\n",
       "    </tr>\n",
       "  </tbody>\n",
       "</table>\n",
       "</div>"
      ],
      "text/plain": [
       "      quality  fixed_acidity  volatile_acidity  citric_acid  residual_sugar  \\\n",
       "851         0            9.3             0.430         0.44             1.9   \n",
       "642         0            9.9             0.540         0.45             2.3   \n",
       "1464        0            6.8             0.590         0.10             1.7   \n",
       "1348        0            7.2             0.655         0.03             1.8   \n",
       "724         0            7.5             1.115         0.10             3.1   \n",
       "\n",
       "      chlorides  free_sulfur dioxide  total_sulfur_dioxide  density    pH  \\\n",
       "851       0.085                  9.0                  22.0  0.99708  3.28   \n",
       "642       0.071                 16.0                  40.0  0.99910  3.39   \n",
       "1464      0.063                 34.0                  53.0  0.99580  3.41   \n",
       "1348      0.078                  7.0                  12.0  0.99587  3.34   \n",
       "724       0.086                  5.0                  12.0  0.99580  3.54   \n",
       "\n",
       "      sulphates  alcohol  Predicted  \n",
       "851        0.55      9.5          0  \n",
       "642        0.62      9.4          1  \n",
       "1464       0.67      9.7          0  \n",
       "1348       0.39      9.5          0  \n",
       "724        0.60     11.2          1  "
      ]
     },
     "execution_count": 44,
     "metadata": {},
     "output_type": "execute_result"
    }
   ],
   "source": [
    "train['Predicted']=dt.predict(X_train)  # MODEL = dt\n",
    "train.head()"
   ]
  },
  {
   "cell_type": "markdown",
   "id": "e088e794",
   "metadata": {},
   "source": [
    "### Final accuracy of Model after Pruning"
   ]
  },
  {
   "cell_type": "code",
   "execution_count": 45,
   "id": "6bb6c80d",
   "metadata": {},
   "outputs": [
    {
     "name": "stdout",
     "output_type": "stream",
     "text": [
      "[[311  84]\n",
      " [213 511]]\n"
     ]
    }
   ],
   "source": [
    "from sklearn.metrics import confusion_matrix  \n",
    "matrix = confusion_matrix(train['Predicted'],train['quality'])\n",
    "print(matrix)"
   ]
  },
  {
   "cell_type": "code",
   "execution_count": 46,
   "id": "58bdb4b8",
   "metadata": {},
   "outputs": [
    {
     "name": "stdout",
     "output_type": "stream",
     "text": [
      "73.45844504021449\n"
     ]
    }
   ],
   "source": [
    "Accuracy_Train=((311+511)/(1119)*100)\n",
    "print(Accuracy_Train)"
   ]
  },
  {
   "cell_type": "code",
   "execution_count": 47,
   "id": "a708dcac",
   "metadata": {},
   "outputs": [
    {
     "name": "stdout",
     "output_type": "stream",
     "text": [
      "              precision    recall  f1-score   support\n",
      "\n",
      "           0       0.79      0.59      0.68       524\n",
      "           1       0.71      0.86      0.77       595\n",
      "\n",
      "    accuracy                           0.73      1119\n",
      "   macro avg       0.75      0.73      0.73      1119\n",
      "weighted avg       0.74      0.73      0.73      1119\n",
      "\n"
     ]
    }
   ],
   "source": [
    "from sklearn.metrics import classification_report\n",
    "print(classification_report(train['quality'], train['Predicted']))"
   ]
  },
  {
   "cell_type": "markdown",
   "id": "38143e35",
   "metadata": {},
   "source": [
    "# Step 8 : Predictions on Test Dataset"
   ]
  },
  {
   "cell_type": "code",
   "execution_count": 48,
   "id": "b6f23846",
   "metadata": {},
   "outputs": [
    {
     "data": {
      "text/html": [
       "<div>\n",
       "<style scoped>\n",
       "    .dataframe tbody tr th:only-of-type {\n",
       "        vertical-align: middle;\n",
       "    }\n",
       "\n",
       "    .dataframe tbody tr th {\n",
       "        vertical-align: top;\n",
       "    }\n",
       "\n",
       "    .dataframe thead th {\n",
       "        text-align: right;\n",
       "    }\n",
       "</style>\n",
       "<table border=\"1\" class=\"dataframe\">\n",
       "  <thead>\n",
       "    <tr style=\"text-align: right;\">\n",
       "      <th></th>\n",
       "      <th>fixed_acidity</th>\n",
       "      <th>volatile_acidity</th>\n",
       "      <th>citric_acid</th>\n",
       "      <th>residual_sugar</th>\n",
       "      <th>chlorides</th>\n",
       "      <th>free_sulfur dioxide</th>\n",
       "      <th>total_sulfur_dioxide</th>\n",
       "      <th>density</th>\n",
       "      <th>pH</th>\n",
       "      <th>sulphates</th>\n",
       "      <th>alcohol</th>\n",
       "      <th>quality</th>\n",
       "    </tr>\n",
       "  </thead>\n",
       "  <tbody>\n",
       "    <tr>\n",
       "      <th>446</th>\n",
       "      <td>12.5</td>\n",
       "      <td>0.38</td>\n",
       "      <td>0.60</td>\n",
       "      <td>2.6</td>\n",
       "      <td>0.081</td>\n",
       "      <td>31.0</td>\n",
       "      <td>72.0</td>\n",
       "      <td>0.9996</td>\n",
       "      <td>3.10</td>\n",
       "      <td>0.73</td>\n",
       "      <td>10.5</td>\n",
       "      <td>0</td>\n",
       "    </tr>\n",
       "    <tr>\n",
       "      <th>185</th>\n",
       "      <td>8.9</td>\n",
       "      <td>0.31</td>\n",
       "      <td>0.57</td>\n",
       "      <td>2.0</td>\n",
       "      <td>0.111</td>\n",
       "      <td>26.0</td>\n",
       "      <td>85.0</td>\n",
       "      <td>0.9971</td>\n",
       "      <td>3.26</td>\n",
       "      <td>0.53</td>\n",
       "      <td>9.7</td>\n",
       "      <td>0</td>\n",
       "    </tr>\n",
       "    <tr>\n",
       "      <th>455</th>\n",
       "      <td>11.3</td>\n",
       "      <td>0.62</td>\n",
       "      <td>0.67</td>\n",
       "      <td>5.2</td>\n",
       "      <td>0.086</td>\n",
       "      <td>6.0</td>\n",
       "      <td>19.0</td>\n",
       "      <td>0.9988</td>\n",
       "      <td>3.22</td>\n",
       "      <td>0.69</td>\n",
       "      <td>13.4</td>\n",
       "      <td>1</td>\n",
       "    </tr>\n",
       "    <tr>\n",
       "      <th>328</th>\n",
       "      <td>13.4</td>\n",
       "      <td>0.27</td>\n",
       "      <td>0.62</td>\n",
       "      <td>2.6</td>\n",
       "      <td>0.082</td>\n",
       "      <td>6.0</td>\n",
       "      <td>21.0</td>\n",
       "      <td>1.0002</td>\n",
       "      <td>3.16</td>\n",
       "      <td>0.67</td>\n",
       "      <td>9.7</td>\n",
       "      <td>1</td>\n",
       "    </tr>\n",
       "    <tr>\n",
       "      <th>1594</th>\n",
       "      <td>6.2</td>\n",
       "      <td>0.60</td>\n",
       "      <td>0.08</td>\n",
       "      <td>2.0</td>\n",
       "      <td>0.090</td>\n",
       "      <td>32.0</td>\n",
       "      <td>44.0</td>\n",
       "      <td>0.9949</td>\n",
       "      <td>3.45</td>\n",
       "      <td>0.58</td>\n",
       "      <td>10.5</td>\n",
       "      <td>0</td>\n",
       "    </tr>\n",
       "  </tbody>\n",
       "</table>\n",
       "</div>"
      ],
      "text/plain": [
       "      fixed_acidity  volatile_acidity  citric_acid  residual_sugar  chlorides  \\\n",
       "446            12.5              0.38         0.60             2.6      0.081   \n",
       "185             8.9              0.31         0.57             2.0      0.111   \n",
       "455            11.3              0.62         0.67             5.2      0.086   \n",
       "328            13.4              0.27         0.62             2.6      0.082   \n",
       "1594            6.2              0.60         0.08             2.0      0.090   \n",
       "\n",
       "      free_sulfur dioxide  total_sulfur_dioxide  density    pH  sulphates  \\\n",
       "446                  31.0                  72.0   0.9996  3.10       0.73   \n",
       "185                  26.0                  85.0   0.9971  3.26       0.53   \n",
       "455                   6.0                  19.0   0.9988  3.22       0.69   \n",
       "328                   6.0                  21.0   1.0002  3.16       0.67   \n",
       "1594                 32.0                  44.0   0.9949  3.45       0.58   \n",
       "\n",
       "      alcohol  quality  \n",
       "446      10.5        0  \n",
       "185       9.7        0  \n",
       "455      13.4        1  \n",
       "328       9.7        1  \n",
       "1594     10.5        0  "
      ]
     },
     "execution_count": 48,
     "metadata": {},
     "output_type": "execute_result"
    }
   ],
   "source": [
    "test=pd.concat([X_test,y_test],axis=1)\n",
    "test.head()"
   ]
  },
  {
   "cell_type": "code",
   "execution_count": 49,
   "id": "980c10e9",
   "metadata": {},
   "outputs": [
    {
     "data": {
      "text/html": [
       "<div>\n",
       "<style scoped>\n",
       "    .dataframe tbody tr th:only-of-type {\n",
       "        vertical-align: middle;\n",
       "    }\n",
       "\n",
       "    .dataframe tbody tr th {\n",
       "        vertical-align: top;\n",
       "    }\n",
       "\n",
       "    .dataframe thead th {\n",
       "        text-align: right;\n",
       "    }\n",
       "</style>\n",
       "<table border=\"1\" class=\"dataframe\">\n",
       "  <thead>\n",
       "    <tr style=\"text-align: right;\">\n",
       "      <th></th>\n",
       "      <th>fixed_acidity</th>\n",
       "      <th>volatile_acidity</th>\n",
       "      <th>citric_acid</th>\n",
       "      <th>residual_sugar</th>\n",
       "      <th>chlorides</th>\n",
       "      <th>free_sulfur dioxide</th>\n",
       "      <th>total_sulfur_dioxide</th>\n",
       "      <th>density</th>\n",
       "      <th>pH</th>\n",
       "      <th>sulphates</th>\n",
       "      <th>alcohol</th>\n",
       "      <th>quality</th>\n",
       "      <th>Predicted</th>\n",
       "    </tr>\n",
       "  </thead>\n",
       "  <tbody>\n",
       "    <tr>\n",
       "      <th>446</th>\n",
       "      <td>12.5</td>\n",
       "      <td>0.38</td>\n",
       "      <td>0.60</td>\n",
       "      <td>2.6</td>\n",
       "      <td>0.081</td>\n",
       "      <td>31.0</td>\n",
       "      <td>72.0</td>\n",
       "      <td>0.9996</td>\n",
       "      <td>3.10</td>\n",
       "      <td>0.73</td>\n",
       "      <td>10.5</td>\n",
       "      <td>0</td>\n",
       "      <td>1</td>\n",
       "    </tr>\n",
       "    <tr>\n",
       "      <th>185</th>\n",
       "      <td>8.9</td>\n",
       "      <td>0.31</td>\n",
       "      <td>0.57</td>\n",
       "      <td>2.0</td>\n",
       "      <td>0.111</td>\n",
       "      <td>26.0</td>\n",
       "      <td>85.0</td>\n",
       "      <td>0.9971</td>\n",
       "      <td>3.26</td>\n",
       "      <td>0.53</td>\n",
       "      <td>9.7</td>\n",
       "      <td>0</td>\n",
       "      <td>1</td>\n",
       "    </tr>\n",
       "    <tr>\n",
       "      <th>455</th>\n",
       "      <td>11.3</td>\n",
       "      <td>0.62</td>\n",
       "      <td>0.67</td>\n",
       "      <td>5.2</td>\n",
       "      <td>0.086</td>\n",
       "      <td>6.0</td>\n",
       "      <td>19.0</td>\n",
       "      <td>0.9988</td>\n",
       "      <td>3.22</td>\n",
       "      <td>0.69</td>\n",
       "      <td>13.4</td>\n",
       "      <td>1</td>\n",
       "      <td>1</td>\n",
       "    </tr>\n",
       "    <tr>\n",
       "      <th>328</th>\n",
       "      <td>13.4</td>\n",
       "      <td>0.27</td>\n",
       "      <td>0.62</td>\n",
       "      <td>2.6</td>\n",
       "      <td>0.082</td>\n",
       "      <td>6.0</td>\n",
       "      <td>21.0</td>\n",
       "      <td>1.0002</td>\n",
       "      <td>3.16</td>\n",
       "      <td>0.67</td>\n",
       "      <td>9.7</td>\n",
       "      <td>1</td>\n",
       "      <td>1</td>\n",
       "    </tr>\n",
       "    <tr>\n",
       "      <th>1594</th>\n",
       "      <td>6.2</td>\n",
       "      <td>0.60</td>\n",
       "      <td>0.08</td>\n",
       "      <td>2.0</td>\n",
       "      <td>0.090</td>\n",
       "      <td>32.0</td>\n",
       "      <td>44.0</td>\n",
       "      <td>0.9949</td>\n",
       "      <td>3.45</td>\n",
       "      <td>0.58</td>\n",
       "      <td>10.5</td>\n",
       "      <td>0</td>\n",
       "      <td>1</td>\n",
       "    </tr>\n",
       "  </tbody>\n",
       "</table>\n",
       "</div>"
      ],
      "text/plain": [
       "      fixed_acidity  volatile_acidity  citric_acid  residual_sugar  chlorides  \\\n",
       "446            12.5              0.38         0.60             2.6      0.081   \n",
       "185             8.9              0.31         0.57             2.0      0.111   \n",
       "455            11.3              0.62         0.67             5.2      0.086   \n",
       "328            13.4              0.27         0.62             2.6      0.082   \n",
       "1594            6.2              0.60         0.08             2.0      0.090   \n",
       "\n",
       "      free_sulfur dioxide  total_sulfur_dioxide  density    pH  sulphates  \\\n",
       "446                  31.0                  72.0   0.9996  3.10       0.73   \n",
       "185                  26.0                  85.0   0.9971  3.26       0.53   \n",
       "455                   6.0                  19.0   0.9988  3.22       0.69   \n",
       "328                   6.0                  21.0   1.0002  3.16       0.67   \n",
       "1594                 32.0                  44.0   0.9949  3.45       0.58   \n",
       "\n",
       "      alcohol  quality  Predicted  \n",
       "446      10.5        0          1  \n",
       "185       9.7        0          1  \n",
       "455      13.4        1          1  \n",
       "328       9.7        1          1  \n",
       "1594     10.5        0          1  "
      ]
     },
     "execution_count": 49,
     "metadata": {},
     "output_type": "execute_result"
    }
   ],
   "source": [
    "test['Predicted']=dt.predict(X_test)\n",
    "test.head()"
   ]
  },
  {
   "cell_type": "markdown",
   "id": "ef852d8d",
   "metadata": {},
   "source": [
    "# Step 9 : Model Performance Metrics on Test data "
   ]
  },
  {
   "cell_type": "code",
   "execution_count": 50,
   "id": "3ae44e48",
   "metadata": {},
   "outputs": [
    {
     "name": "stdout",
     "output_type": "stream",
     "text": [
      "[[122  42]\n",
      " [ 98 218]]\n"
     ]
    }
   ],
   "source": [
    "from sklearn.metrics import confusion_matrix\n",
    "confusion_matrix = confusion_matrix(test['Predicted'],test['quality'])\n",
    "print(confusion_matrix)"
   ]
  },
  {
   "cell_type": "code",
   "execution_count": 51,
   "id": "ca0aba63",
   "metadata": {},
   "outputs": [
    {
     "data": {
      "text/plain": [
       "480"
      ]
     },
     "execution_count": 51,
     "metadata": {},
     "output_type": "execute_result"
    }
   ],
   "source": [
    "158+88+62+172"
   ]
  },
  {
   "cell_type": "code",
   "execution_count": 57,
   "id": "261e047b",
   "metadata": {
    "scrolled": true
   },
   "outputs": [
    {
     "data": {
      "text/plain": [
       "70.83333333333334"
      ]
     },
     "execution_count": 57,
     "metadata": {},
     "output_type": "execute_result"
    }
   ],
   "source": [
    "Accuracy_test=((122+218)/(480)*100)\n",
    "Accuracy_test"
   ]
  },
  {
   "cell_type": "markdown",
   "id": "84cc7432",
   "metadata": {},
   "source": [
    "# Sensitivity & Specificity"
   ]
  },
  {
   "cell_type": "markdown",
   "id": "2efb7aa4",
   "metadata": {},
   "source": [
    "### Train"
   ]
  },
  {
   "cell_type": "code",
   "execution_count": 53,
   "id": "4de59c99",
   "metadata": {},
   "outputs": [
    {
     "name": "stdout",
     "output_type": "stream",
     "text": [
      "              precision    recall  f1-score   support\n",
      "\n",
      "           0       0.79      0.59      0.68       524\n",
      "           1       0.71      0.86      0.77       595\n",
      "\n",
      "    accuracy                           0.73      1119\n",
      "   macro avg       0.75      0.73      0.73      1119\n",
      "weighted avg       0.74      0.73      0.73      1119\n",
      "\n"
     ]
    }
   ],
   "source": [
    "from sklearn.metrics import classification_report\n",
    "print(classification_report(train['quality'], train['Predicted']))"
   ]
  },
  {
   "cell_type": "markdown",
   "id": "6c2752f4",
   "metadata": {},
   "source": [
    "### Test"
   ]
  },
  {
   "cell_type": "code",
   "execution_count": 54,
   "id": "d0424aac",
   "metadata": {},
   "outputs": [
    {
     "name": "stdout",
     "output_type": "stream",
     "text": [
      "              precision    recall  f1-score   support\n",
      "\n",
      "           0       0.74      0.55      0.64       220\n",
      "           1       0.69      0.84      0.76       260\n",
      "\n",
      "    accuracy                           0.71       480\n",
      "   macro avg       0.72      0.70      0.70       480\n",
      "weighted avg       0.71      0.71      0.70       480\n",
      "\n"
     ]
    }
   ],
   "source": [
    "from sklearn.metrics import classification_report\n",
    "print(classification_report(test['quality'], test['Predicted']))"
   ]
  },
  {
   "cell_type": "markdown",
   "id": "e3b695e5",
   "metadata": {},
   "source": [
    "# Grid Search Method "
   ]
  },
  {
   "cell_type": "code",
   "execution_count": 55,
   "id": "3dd18de3",
   "metadata": {},
   "outputs": [
    {
     "name": "stdout",
     "output_type": "stream",
     "text": [
      "Fitting 10 folds for each of 27 candidates, totalling 270 fits\n"
     ]
    },
    {
     "data": {
      "text/plain": [
       "GridSearchCV(cv=10, estimator=DecisionTreeClassifier(random_state=42),\n",
       "             param_grid={'max_depth': [3, 4, 6],\n",
       "                         'min_samples_leaf': [50, 60, 70],\n",
       "                         'min_samples_split': [300, 150, 250]},\n",
       "             verbose=1)"
      ]
     },
     "execution_count": 55,
     "metadata": {},
     "output_type": "execute_result"
    }
   ],
   "source": [
    "from sklearn.tree import DecisionTreeClassifier\n",
    "from sklearn.model_selection import GridSearchCV\n",
    "params = { 'min_samples_split': [300,150,250], ## Parent \n",
    "           'min_samples_leaf': [50,60,70], ## Child or Leave \n",
    "           'max_depth':[3,4,6]}  # Branches\n",
    "grid_search_cv = GridSearchCV(DecisionTreeClassifier(random_state=42),\n",
    "                              params, \n",
    "                              verbose=1, \n",
    "                              cv=10)\n",
    "grid_search_cv.fit(X_train, y_train)"
   ]
  },
  {
   "cell_type": "code",
   "execution_count": 56,
   "id": "13f9f20c",
   "metadata": {},
   "outputs": [
    {
     "data": {
      "text/plain": [
       "DecisionTreeClassifier(max_depth=6, min_samples_leaf=60, min_samples_split=150,\n",
       "                       random_state=42)"
      ]
     },
     "execution_count": 56,
     "metadata": {},
     "output_type": "execute_result"
    }
   ],
   "source": [
    "grid_search_cv.best_estimator_"
   ]
  }
 ],
 "metadata": {
  "kernelspec": {
   "display_name": "Python 3 (ipykernel)",
   "language": "python",
   "name": "python3"
  },
  "language_info": {
   "codemirror_mode": {
    "name": "ipython",
    "version": 3
   },
   "file_extension": ".py",
   "mimetype": "text/x-python",
   "name": "python",
   "nbconvert_exporter": "python",
   "pygments_lexer": "ipython3",
   "version": "3.10.9"
  }
 },
 "nbformat": 4,
 "nbformat_minor": 5
}
